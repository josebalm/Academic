{
 "cells": [
  {
   "cell_type": "code",
   "execution_count": 4,
   "metadata": {},
   "outputs": [
    {
     "name": "stdout",
     "output_type": "stream",
     "text": [
      "        name  age         city\n",
      "0        abe   39       guarne\n",
      "1      alejo   14   urbekistan\n",
      "2  babilonio   50     rolandia\n",
      "3       mimi    4  medallollin\n"
     ]
    }
   ],
   "source": [
    "import pandas as pd\n",
    "\n",
    "data = {\"name\":[\"abe\",\"alejo\",\"babilonio\",\"mimi\"],\n",
    "        \"age\":[39,14,50,4],\n",
    "        \"city\":[\"guarne\",\"urbekistan\",\"rolandia\",\"medallollin\"]}\n",
    "\n",
    "df = pd.DataFrame(data)\n",
    "\n",
    "print(df)\n"
   ]
  },
  {
   "cell_type": "code",
   "execution_count": 6,
   "metadata": {},
   "outputs": [
    {
     "name": "stdout",
     "output_type": "stream",
     "text": [
      "0          abe\n",
      "1        alejo\n",
      "2    babilonio\n",
      "3         mimi\n",
      "Name: name, dtype: object\n"
     ]
    }
   ],
   "source": [
    "print(df[\"name\"]) ### Column Selection"
   ]
  },
  {
   "cell_type": "code",
   "execution_count": 9,
   "metadata": {},
   "outputs": [
    {
     "name": "stdout",
     "output_type": "stream",
     "text": [
      "name    babilonio\n",
      "age            50\n",
      "city     rolandia\n",
      "Name: 2, dtype: object\n",
      "name         alejo\n",
      "age             14\n",
      "city    urbekistan\n",
      "Name: 1, dtype: object\n"
     ]
    }
   ],
   "source": [
    "# Accessing Rowns:\n",
    "\n",
    "print(df.iloc[2]) # Access the third row by position\n",
    "print(df.loc[1]) # Access the second row by label"
   ]
  },
  {
   "cell_type": "code",
   "execution_count": 12,
   "metadata": {},
   "outputs": [
    {
     "name": "stdout",
     "output_type": "stream",
     "text": [
      "        name  age\n",
      "0        abe   39\n",
      "1      alejo   14\n",
      "2  babilonio   50\n",
      "3       mimi    4\n",
      "........\n",
      "        name  age        city\n",
      "1      alejo   14  urbekistan\n",
      "2  babilonio   50    rolandia\n"
     ]
    }
   ],
   "source": [
    "# Slicing\n",
    "\n",
    "print(df[[\"name\",\"age\"]])\n",
    "print(\"........\")\n",
    "print(df[1:3])"
   ]
  },
  {
   "cell_type": "code",
   "execution_count": 14,
   "metadata": {},
   "outputs": [
    {
     "data": {
      "text/plain": [
       "array([39, 14, 50,  4])"
      ]
     },
     "execution_count": 14,
     "metadata": {},
     "output_type": "execute_result"
    }
   ],
   "source": [
    "### Finding Unique Elements:\n",
    "\n",
    "unique_dates = df[\"age\"].unique()\n",
    "unique_dates\n"
   ]
  },
  {
   "cell_type": "code",
   "execution_count": 16,
   "metadata": {},
   "outputs": [
    {
     "data": {
      "text/html": [
       "<div>\n",
       "<style scoped>\n",
       "    .dataframe tbody tr th:only-of-type {\n",
       "        vertical-align: middle;\n",
       "    }\n",
       "\n",
       "    .dataframe tbody tr th {\n",
       "        vertical-align: top;\n",
       "    }\n",
       "\n",
       "    .dataframe thead th {\n",
       "        text-align: right;\n",
       "    }\n",
       "</style>\n",
       "<table border=\"1\" class=\"dataframe\">\n",
       "  <thead>\n",
       "    <tr style=\"text-align: right;\">\n",
       "      <th></th>\n",
       "      <th>name</th>\n",
       "      <th>age</th>\n",
       "      <th>city</th>\n",
       "    </tr>\n",
       "  </thead>\n",
       "  <tbody>\n",
       "    <tr>\n",
       "      <th>0</th>\n",
       "      <td>abe</td>\n",
       "      <td>39</td>\n",
       "      <td>guarne</td>\n",
       "    </tr>\n",
       "    <tr>\n",
       "      <th>2</th>\n",
       "      <td>babilonio</td>\n",
       "      <td>50</td>\n",
       "      <td>rolandia</td>\n",
       "    </tr>\n",
       "  </tbody>\n",
       "</table>\n",
       "</div>"
      ],
      "text/plain": [
       "        name  age      city\n",
       "0        abe   39    guarne\n",
       "2  babilonio   50  rolandia"
      ]
     },
     "execution_count": 16,
     "metadata": {},
     "output_type": "execute_result"
    }
   ],
   "source": [
    "#conditional Filtering\n",
    "\n",
    "high_above_102 = df[df[\"age\"]> 25]  \n",
    "high_above_102"
   ]
  },
  {
   "cell_type": "code",
   "execution_count": 17,
   "metadata": {},
   "outputs": [],
   "source": [
    "#Saving DataFrames:\n",
    "\n",
    "df.to_csv(\"trading_data.csv\", index=False)"
   ]
  }
 ],
 "metadata": {
  "kernelspec": {
   "display_name": "jos_enviroment",
   "language": "python",
   "name": "python3"
  },
  "language_info": {
   "codemirror_mode": {
    "name": "ipython",
    "version": 3
   },
   "file_extension": ".py",
   "mimetype": "text/x-python",
   "name": "python",
   "nbconvert_exporter": "python",
   "pygments_lexer": "ipython3",
   "version": "3.8.18"
  }
 },
 "nbformat": 4,
 "nbformat_minor": 2
}
