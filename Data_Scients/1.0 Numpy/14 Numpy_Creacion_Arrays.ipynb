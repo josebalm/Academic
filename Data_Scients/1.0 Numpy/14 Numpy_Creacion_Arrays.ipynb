{
 "cells": [
  {
   "cell_type": "markdown",
   "id": "84e33d7e",
   "metadata": {},
   "source": [
    "REPASO - METODOS DE CREACION DE ARRAYS \n",
    "empty\n",
    "zeros\n",
    "ones\n",
    "random\n"
   ]
  },
  {
   "cell_type": "markdown",
   "id": "8219d501",
   "metadata": {},
   "source": [
    "Array vacío\n",
    "volver a TOC\n",
    "\n",
    "Documentación\n",
    "https://docs.scipy.org/doc/numpy/reference/generated/numpy.empty.html\n",
    "\n",
    "Recibe como parámetros: las dimensiones del array a crear como una tupla, y el tipo de datos de sus elementos.\n",
    "\n",
    "Devuelve un nuevo array de las dimensiones especificadas en la tupla que es el primer parámetro, sin inicializar sus elementos\n",
    "\n",
    "numpy.empty(shape, dtype=float)"
   ]
  },
  {
   "cell_type": "code",
   "execution_count": 2,
   "id": "b63ea17d",
   "metadata": {},
   "outputs": [
    {
     "data": {
      "text/plain": [
       "array([[0, 0],\n",
       "       [0, 0]])"
      ]
     },
     "execution_count": 2,
     "metadata": {},
     "output_type": "execute_result"
    }
   ],
   "source": [
    "import numpy as np\n",
    "\n",
    "np.empty((2,2), dtype=int)\n"
   ]
  },
  {
   "cell_type": "code",
   "execution_count": 3,
   "id": "ba8d7e60",
   "metadata": {},
   "outputs": [
    {
     "data": {
      "text/plain": [
       "array([[3.],\n",
       "       [2.],\n",
       "       [1.]])"
      ]
     },
     "execution_count": 3,
     "metadata": {},
     "output_type": "execute_result"
    }
   ],
   "source": [
    "np.empty((3,1), dtype=float)"
   ]
  },
  {
   "cell_type": "code",
   "execution_count": 13,
   "id": "f766d4b4",
   "metadata": {},
   "outputs": [
    {
     "data": {
      "text/plain": [
       "array([[False, False, False]])"
      ]
     },
     "execution_count": 13,
     "metadata": {},
     "output_type": "execute_result"
    }
   ],
   "source": [
    "np.empty((1, 3), dtype=bool)\n"
   ]
  },
  {
   "cell_type": "markdown",
   "id": "90726911",
   "metadata": {},
   "source": [
    "Array de ceros\n",
    "volver a TOC\n",
    "\n",
    "Veremos cómo instanciar un array de ceros de las dimensiones especificadas.\n",
    "\n",
    "Documentación\n",
    "https://docs.scipy.org/doc/numpy/reference/generated/numpy.zeros.html#numpy.zeros\n",
    "\n",
    "Recibe como parámetros: las dimensiones del array a crear como una tupla, y el tipo de datos de sus elementos.\n",
    "\n",
    "numpy.zeros(shape, dtype=float)"
   ]
  },
  {
   "cell_type": "code",
   "execution_count": 15,
   "id": "45b282c7",
   "metadata": {},
   "outputs": [
    {
     "data": {
      "text/plain": [
       "array([[0, 0],\n",
       "       [0, 0],\n",
       "       [0, 0],\n",
       "       [0, 0],\n",
       "       [0, 0],\n",
       "       [0, 0],\n",
       "       [0, 0],\n",
       "       [0, 0],\n",
       "       [0, 0],\n",
       "       [0, 0]])"
      ]
     },
     "execution_count": 15,
     "metadata": {},
     "output_type": "execute_result"
    }
   ],
   "source": [
    "np.zeros((10,2), dtype=int)"
   ]
  },
  {
   "cell_type": "code",
   "execution_count": 16,
   "id": "187c5436",
   "metadata": {},
   "outputs": [
    {
     "data": {
      "text/plain": [
       "array([0, 0, 0, 0, 0, 0, 0, 0, 0, 0])"
      ]
     },
     "execution_count": 16,
     "metadata": {},
     "output_type": "execute_result"
    }
   ],
   "source": [
    "np.zeros(10, dtype=int)"
   ]
  },
  {
   "cell_type": "code",
   "execution_count": 19,
   "id": "2bed878c",
   "metadata": {},
   "outputs": [
    {
     "data": {
      "text/plain": [
       "array([[[0, 0, 0, 0],\n",
       "        [0, 0, 0, 0],\n",
       "        [0, 0, 0, 0],\n",
       "        [0, 0, 0, 0]],\n",
       "\n",
       "       [[0, 0, 0, 0],\n",
       "        [0, 0, 0, 0],\n",
       "        [0, 0, 0, 0],\n",
       "        [0, 0, 0, 0]],\n",
       "\n",
       "       [[0, 0, 0, 0],\n",
       "        [0, 0, 0, 0],\n",
       "        [0, 0, 0, 0],\n",
       "        [0, 0, 0, 0]],\n",
       "\n",
       "       [[0, 0, 0, 0],\n",
       "        [0, 0, 0, 0],\n",
       "        [0, 0, 0, 0],\n",
       "        [0, 0, 0, 0]]])"
      ]
     },
     "execution_count": 19,
     "metadata": {},
     "output_type": "execute_result"
    }
   ],
   "source": [
    "np.zeros((4,4,4), dtype=int)"
   ]
  },
  {
   "cell_type": "code",
   "execution_count": 20,
   "id": "ae580e6b",
   "metadata": {},
   "outputs": [
    {
     "data": {
      "text/plain": [
       "array([[['', '', '', ''],\n",
       "        ['', '', '', ''],\n",
       "        ['', '', '', ''],\n",
       "        ['', '', '', '']],\n",
       "\n",
       "       [['', '', '', ''],\n",
       "        ['', '', '', ''],\n",
       "        ['', '', '', ''],\n",
       "        ['', '', '', '']],\n",
       "\n",
       "       [['', '', '', ''],\n",
       "        ['', '', '', ''],\n",
       "        ['', '', '', ''],\n",
       "        ['', '', '', '']],\n",
       "\n",
       "       [['', '', '', ''],\n",
       "        ['', '', '', ''],\n",
       "        ['', '', '', ''],\n",
       "        ['', '', '', '']]], dtype='<U1')"
      ]
     },
     "execution_count": 20,
     "metadata": {},
     "output_type": "execute_result"
    }
   ],
   "source": [
    "np.zeros((4,4,4), dtype=str)"
   ]
  },
  {
   "cell_type": "code",
   "execution_count": 22,
   "id": "e9ef691c",
   "metadata": {},
   "outputs": [
    {
     "data": {
      "text/plain": [
       "numpy.str_"
      ]
     },
     "execution_count": 22,
     "metadata": {},
     "output_type": "execute_result"
    }
   ],
   "source": [
    "dt_array_item = np.dtype('<U1')\n",
    "dt_array_item.type\n",
    "### Entonces, dtype='<U1' nos indica que los items del array resultado son de tipo numpy.str_ (cadena de caracteres)"
   ]
  },
  {
   "cell_type": "markdown",
   "id": "b9e87030",
   "metadata": {},
   "source": [
    "Array de unos\n",
    "volver a TOC\n",
    "\n",
    "Ahora veremos cómo instanciar un array de unos de las dimensiones especificadas.\n",
    "\n",
    "Documentación\n",
    "https://docs.scipy.org/doc/numpy/reference/generated/numpy.ones.html\n",
    "\n",
    "Recibe como parámetros: las dimensiones del array a crear como una tupla, y el tipo de datos de sus elementos.\n",
    "\n",
    "numpy.ones(shape, dtype=float)"
   ]
  },
  {
   "cell_type": "code",
   "execution_count": 23,
   "id": "62d9cca1",
   "metadata": {},
   "outputs": [
    {
     "data": {
      "text/plain": [
       "array([[1, 1],\n",
       "       [1, 1],\n",
       "       [1, 1],\n",
       "       [1, 1],\n",
       "       [1, 1],\n",
       "       [1, 1],\n",
       "       [1, 1],\n",
       "       [1, 1],\n",
       "       [1, 1],\n",
       "       [1, 1]])"
      ]
     },
     "execution_count": 23,
     "metadata": {},
     "output_type": "execute_result"
    }
   ],
   "source": [
    "np.ones((10, 2), dtype=int)"
   ]
  },
  {
   "cell_type": "code",
   "execution_count": 24,
   "id": "2b41d0de",
   "metadata": {},
   "outputs": [
    {
     "data": {
      "text/plain": [
       "array([[1., 1.],\n",
       "       [1., 1.],\n",
       "       [1., 1.],\n",
       "       [1., 1.],\n",
       "       [1., 1.],\n",
       "       [1., 1.],\n",
       "       [1., 1.],\n",
       "       [1., 1.],\n",
       "       [1., 1.],\n",
       "       [1., 1.]])"
      ]
     },
     "execution_count": 24,
     "metadata": {},
     "output_type": "execute_result"
    }
   ],
   "source": [
    "np.ones((10, 2), dtype=float)"
   ]
  },
  {
   "cell_type": "code",
   "execution_count": 25,
   "id": "8972c25d",
   "metadata": {},
   "outputs": [
    {
     "data": {
      "text/plain": [
       "array([['1', '1'],\n",
       "       ['1', '1'],\n",
       "       ['1', '1'],\n",
       "       ['1', '1'],\n",
       "       ['1', '1'],\n",
       "       ['1', '1'],\n",
       "       ['1', '1'],\n",
       "       ['1', '1'],\n",
       "       ['1', '1'],\n",
       "       ['1', '1']], dtype='<U1')"
      ]
     },
     "execution_count": 25,
     "metadata": {},
     "output_type": "execute_result"
    }
   ],
   "source": [
    "np.ones((10, 2), dtype=str)"
   ]
  },
  {
   "cell_type": "markdown",
   "id": "740b0adf",
   "metadata": {},
   "source": [
    "Array de valores aleatorios con distribución normal\n",
    "volver a TOC\n",
    "\n",
    "Ahora veremos cómo instanciar un array de números aleatorios que siga una distribución normal\n",
    "\n",
    "Documentación\n",
    "https://docs.scipy.org/doc/numpy/reference/random/index.html\n",
    "\n",
    "https://docs.scipy.org/doc/numpy/reference/random/generator.html\n",
    "\n",
    "https://docs.scipy.org/doc/numpy/reference/random/generated/numpy.random.Generator.normal.html#numpy.random.Generator.normal\n",
    "\n",
    "El método que genera números aleatorios con distribución normal recibe como parámetros: la media, el desvio standard y las dimensiones del array de salida\n",
    "\n",
    "Generator.normal(loc=0.0, scale=1.0, size=None)\n",
    "\n",
    "Instanciamos una instancia default de Generator:"
   ]
  },
  {
   "cell_type": "code",
   "execution_count": 34,
   "id": "d643dbea",
   "metadata": {},
   "outputs": [],
   "source": [
    "random_generator = np.random.default_rng()"
   ]
  },
  {
   "cell_type": "code",
   "execution_count": 35,
   "id": "d5c5ec1a",
   "metadata": {},
   "outputs": [
    {
     "data": {
      "text/plain": [
       "array([-0.47354464, -0.1614228 ,  0.84276417, -0.89397157, -0.58775329,\n",
       "       -0.53018416, -0.00531512,  0.9754169 ,  1.24324808, -0.01972272,\n",
       "       -0.45009007, -0.38316214])"
      ]
     },
     "execution_count": 35,
     "metadata": {},
     "output_type": "execute_result"
    }
   ],
   "source": [
    "random_generator.normal(loc = 0, scale = 1, size = 12)"
   ]
  },
  {
   "cell_type": "code",
   "execution_count": 32,
   "id": "38d6a6c4",
   "metadata": {},
   "outputs": [],
   "source": [
    "### Ahora generamos una matriz de 16 filas y 4 columnas con números con distribución normal de media 0 y desvío standard 1:"
   ]
  },
  {
   "cell_type": "code",
   "execution_count": 42,
   "id": "d41a7089",
   "metadata": {},
   "outputs": [
    {
     "data": {
      "text/plain": [
       "array([[-0.55175377, -0.4014352 ,  1.26656456,  0.14133695],\n",
       "       [ 2.31865586, -0.02756439,  1.04140913, -0.47308416],\n",
       "       [ 0.97251928,  0.52747405, -1.41054582,  0.26409927],\n",
       "       [-1.12513941,  1.47316539,  0.50404028,  0.76358921],\n",
       "       [ 0.03899843, -0.60128856, -0.5760918 , -1.58238132],\n",
       "       [ 0.46251699, -0.22411542, -1.52269411, -0.44140569],\n",
       "       [ 0.38871678,  1.51970924,  0.79294614,  0.12664296],\n",
       "       [ 0.18529782,  0.41219762, -0.38951456, -0.12985956],\n",
       "       [ 0.33424233,  1.15626402,  0.15996253,  0.08353341],\n",
       "       [-0.9517541 ,  1.21811084, -0.66395266, -0.05449586],\n",
       "       [ 0.3506571 , -0.96137515,  0.11478013, -0.41893584],\n",
       "       [-0.42890556,  0.44520483,  1.0364783 ,  0.29262752],\n",
       "       [ 0.81904964, -0.15106673, -0.37739336, -1.27145583],\n",
       "       [-0.97262664,  2.07622032, -0.6197566 , -0.47198768],\n",
       "       [ 1.27898807, -0.86925837, -1.23499269, -1.59519106],\n",
       "       [ 0.53186379, -1.83872994, -1.13605075,  0.75979062]])"
      ]
     },
     "execution_count": 42,
     "metadata": {},
     "output_type": "execute_result"
    }
   ],
   "source": [
    "random_generator.normal(loc=0, scale=1, size = (16,4))\n"
   ]
  },
  {
   "cell_type": "markdown",
   "id": "aae77b4f",
   "metadata": {},
   "source": [
    "\n",
    "Observen que cada vez que ejecutamos esta linea random_generator.normal(loc = 0, scale = 1, size = 12) obtenemos valores diferentes para los elementos del array.\n",
    "\n",
    "Prueben ejecutarla tres o cuatro veces...\n",
    "\n",
    "Lo mismo ocurre con random_generator.normal(0, 1, size = (16,4))\n",
    "\n",
    "Si queremos obtener el mismo resultado en todas las ejecuciones, debemos inicializar la semilla del generador de números aleatorios.\n",
    "\n",
    "Para eso hacemos inicializamos la instancia de Generator con una semilla cualquiera pero fija:"
   ]
  },
  {
   "cell_type": "code",
   "execution_count": 57,
   "id": "d9c6a76c",
   "metadata": {},
   "outputs": [],
   "source": [
    "seed_cualquier_numero = 2843  ### Semilla generador de numero aleatorio\n",
    "random_generator_seed = np.random.default_rng(seed_cualquier_numero)  ### se instancia incluyendo la semilla"
   ]
  },
  {
   "cell_type": "markdown",
   "id": "d1e0964c",
   "metadata": {},
   "source": [
    "Y ahora ejecutemos varias veces las mismas lineas que probamos arriba, usando el objeto random_generator_seed inicializado con una semilla determinada:"
   ]
  },
  {
   "cell_type": "code",
   "execution_count": 62,
   "id": "8d8ac344",
   "metadata": {},
   "outputs": [
    {
     "data": {
      "text/plain": [
       "array([ 0.770969  ,  0.33288743, -0.7145752 ,  0.05428423, -1.44839055,\n",
       "        0.05562249,  0.04235933, -1.06432701,  3.23668651, -2.61427606,\n",
       "        0.17057975, -0.11374496])"
      ]
     },
     "execution_count": 62,
     "metadata": {},
     "output_type": "execute_result"
    }
   ],
   "source": [
    "random_generator_seed = np.random.default_rng(seed_cualquier_numero)\n",
    "random_generator_seed.normal(loc = 0, scale = 1, size = 12)"
   ]
  },
  {
   "cell_type": "code",
   "execution_count": 63,
   "id": "ca0f6b7c",
   "metadata": {},
   "outputs": [
    {
     "data": {
      "text/plain": [
       "array([[ 0.770969  ,  0.33288743, -0.7145752 ,  0.05428423],\n",
       "       [-1.44839055,  0.05562249,  0.04235933, -1.06432701],\n",
       "       [ 3.23668651, -2.61427606,  0.17057975, -0.11374496],\n",
       "       [ 1.5431114 , -0.2433953 ,  0.54422367,  0.83475881],\n",
       "       [ 0.04301992, -0.63558257, -0.16046816,  1.64470349],\n",
       "       [ 1.33297402, -0.99626982, -1.29590249, -0.61893616],\n",
       "       [-0.22066461,  0.22727611, -1.38125624,  0.04929038],\n",
       "       [ 0.63748133, -0.19561326,  0.5938797 ,  1.53733473],\n",
       "       [-0.27605803,  0.16768242,  0.44111193, -0.07839599],\n",
       "       [ 0.98677009,  0.94900021, -1.19024724, -0.91697433],\n",
       "       [-0.62741927,  2.1939412 , -1.0684962 , -1.79228955],\n",
       "       [ 1.07398541,  1.96988692,  0.3815075 , -0.52205868],\n",
       "       [ 1.33797156, -0.65238485, -0.74753246,  0.20865684],\n",
       "       [ 0.99353863,  1.16058088,  1.36554724,  0.07186766],\n",
       "       [ 1.79045939, -2.00201905, -0.5718638 ,  0.69506072],\n",
       "       [-0.06683168, -0.74753465, -0.7760167 ,  0.4493421 ]])"
      ]
     },
     "execution_count": 63,
     "metadata": {},
     "output_type": "execute_result"
    }
   ],
   "source": [
    "random_generator_seed = np.random.default_rng(seed_cualquier_numero)\n",
    "random_generator_seed.normal(0, 1, size = (16,4))"
   ]
  },
  {
   "cell_type": "code",
   "execution_count": 76,
   "id": "dd700a07",
   "metadata": {},
   "outputs": [
    {
     "name": "stdout",
     "output_type": "stream",
     "text": [
      "[[ 0.12573022 -0.13210486  0.64042265  0.10490012]\n",
      " [-0.53566937  0.36159505  1.30400005  0.94708096]\n",
      " [-0.70373524 -1.26542147 -0.62327446  0.04132598]\n",
      " [-2.32503077 -0.21879166 -1.24591095 -0.73226735]\n",
      " [-0.54425898 -0.31630016  0.41163054  1.04251337]\n",
      " [-0.12853466  1.36646347 -0.66519467  0.35151007]\n",
      " [ 0.90347018  0.0940123  -0.74349925 -0.92172538]\n",
      " [-0.45772583  0.22019512 -1.00961818 -0.20917557]\n",
      " [-0.15922501  0.54084558  0.21465912  0.35537271]\n",
      " [-0.65382861 -0.12961363  0.78397547  1.49343115]\n",
      " [-1.25906553  1.51392377  1.34587542  0.7813114 ]\n",
      " [ 0.26445563 -0.31392281  1.45802068  1.96025832]\n",
      " [ 1.80163487  1.31510376  0.35738041 -1.20831863]\n",
      " [-0.00445413  0.65647494 -1.28836146  0.39512206]\n",
      " [ 0.42986369  0.69604272 -1.18411797 -0.66170257]\n",
      " [-0.43643525 -1.16980191  1.73936788 -0.49591073]]\n"
     ]
    }
   ],
   "source": [
    "import numpy as np  ### Generacion de numeros aleatorios con distribucion Normal, apartir de una semilla.\n",
    "\n",
    "def random_normal():\n",
    "    semilla = 2843\n",
    "    random_generator = np.random.default_rng(semilla)\n",
    "    media = M\n",
    "    desvs = DV\n",
    "    size = S\n",
    "    resultado = random_generator.normal(media,desvs,size)\n",
    "    return(resultado)\n",
    "\n",
    "M = 0\n",
    "DV = 1\n",
    "S = (16,4)\n",
    "result = random_normal()\n",
    "print(result)"
   ]
  },
  {
   "cell_type": "code",
   "execution_count": 110,
   "id": "7d4e93c2",
   "metadata": {},
   "outputs": [
    {
     "name": "stdout",
     "output_type": "stream",
     "text": [
      "[[ 1.32502692  1.62016649  0.34886392 -0.06344284]\n",
      " [-0.33448266  1.09464771 -0.19745325 -0.25810644]\n",
      " [ 2.21396248 -0.72545257 -0.23208081 -0.01011542]\n",
      " [-0.35101798 -2.91492112  0.62668243  0.03681404]\n",
      " [-0.73458994  0.10924181 -0.79964956  1.06691678]\n",
      " [ 1.13931228 -0.2266824   0.419692    1.71137659]\n",
      " [ 1.5133432  -1.82270856  0.19145605 -1.47687133]\n",
      " [-0.04368383 -2.63691707  0.61357907  3.11249166]\n",
      " [ 0.44099425  0.76806869 -0.05920757  0.45987113]\n",
      " [ 0.29708189 -1.52837873  0.05676185 -1.4687004 ]\n",
      " [-2.05604196  0.18682584 -0.28559825 -0.20368928]\n",
      " [-1.20790037  1.21134053  0.73384428  0.72745158]\n",
      " [-1.05494247  0.30061686 -1.52527173  0.678469  ]\n",
      " [ 1.5709132  -0.82924321  1.01531773 -1.44574372]\n",
      " [ 1.04553441 -0.75296627 -0.17501935 -0.70430321]\n",
      " [ 0.48622257  1.77026534 -0.03637601  0.1097702 ]]\n"
     ]
    }
   ],
   "source": [
    "import numpy as np  ### Generacion de numeros aleatorios con distribucion Normal,sin semilla. (Cada ves que ejecuto el def cambia el resultado)\n",
    "\n",
    "def random_normal():\n",
    "    rng = np.random.default_rng()\n",
    "    media = M\n",
    "    desvs = DV\n",
    "    size = S\n",
    "    resultado = rng.normal(media,desvs,size)\n",
    "    return(resultado)\n",
    "\n",
    "M = 0\n",
    "DV = 1\n",
    "S = (16,4)\n",
    "result = random_normal()\n",
    "print(result)"
   ]
  },
  {
   "cell_type": "code",
   "execution_count": 112,
   "id": "bf5db989",
   "metadata": {},
   "outputs": [
    {
     "data": {
      "image/png": "[encoded data removed]",
      "text/plain": [
       "<Figure size 640x480 with 1 Axes>"
      ]
     },
     "metadata": {},
     "output_type": "display_data"
    }
   ],
   "source": [
    "import matplotlib.pyplot as plt  ### Grafica de la funcion de densidad de la distribucion normal\n",
    "count, bins, ignored = plt.hist(result, 15, density=True)\n",
    "plt.plot(bins,np.ones_like(bins), linewidth=2, color=\"r\")\n",
    "plt.show()"
   ]
  },
  {
   "cell_type": "markdown",
   "id": "7a8e1a99",
   "metadata": {},
   "source": [
    "Ejercicio 1\n",
    "Usando como semilla el numero 2843, construyan un objeto array de Numpy con 500 números aleatorios de distribución binomial con n = 100 y p = 0.7\n",
    "\n",
    "Ayuda: https://docs.scipy.org/doc/numpy/reference/random/generated/numpy.random.Generator.binomial.html#numpy.random.Generator.binomial\n",
    "\n",
    "Completen el código de la función random_binomial():"
   ]
  },
  {
   "cell_type": "code",
   "execution_count": 92,
   "id": "2f683fc0",
   "metadata": {},
   "outputs": [],
   "source": [
    "def random_binomial (): ### Generacion de numeros aleatorios binomiales incluyendo semilla.\n",
    "    semilla = 2843\n",
    "    rng = np.random.default_rng(semilla)\n",
    "    Tries = n\n",
    "    probability = p\n",
    "    size = s\n",
    "    result = rng.binomial(Tries, probability, size)\n",
    "    return(result)\n",
    "    "
   ]
  },
  {
   "cell_type": "code",
   "execution_count": 93,
   "id": "cd22b249",
   "metadata": {},
   "outputs": [
    {
     "name": "stdout",
     "output_type": "stream",
     "text": [
      "[79 74 73 67 76 64 69 65 61 74 66 64 68 73 70 65 70 79 73 71 70 71 72 65\n",
      " 61 74 71 80 74 62 69 73 78 73 62 67 64 69 72 70 68 75 66 67 77 71 66 67\n",
      " 64 71 73 65 71 72 70 70 80 64 64 71 67 75 71 65 65 66 63 70 71 70 69 64\n",
      " 70 76 70 76 67 66 71 72 76 77 73 72 71 75 79 75 75 77 77 79 77 82 64 70\n",
      " 71 74 64 61 72 67 70 61 72 69 69 61 77 63 62 61 78 75 63 67 67 78 76 69\n",
      " 71 65 68 70 70 73 68 67 68 65 69 63 72 71 70 69 68 63 67 66 74 75 72 71\n",
      " 73 73 51 69 64 76 71 73 73 69 76 71 77 75 77 66 73 66 67 70 74 62 77 73\n",
      " 69 68 72 70 70 68 64 76 64 69 72 67 69 69 73 66 78 70 63 69 67 70 71 73\n",
      " 74 69 78 71 60 71 70 66 65 77 73 63 69 66 73 68 73 65 69 74 68 71 73 71\n",
      " 69 76 79 71 70 65 61 72 63 74 62 71 76 69 79 73 67 73 70 73 64 68 77 72\n",
      " 68 64 62 67 66 76 68 73 70 71 70 70 66 70 79 63 67 61 75 73 72 75 72 66\n",
      " 66 67 78 66 73 69 72 71 71 68 69 65 69 66 73 61 70 76 65 71 71 72 65 74\n",
      " 70 68 73 74 69 68 77 70 62 73 69 69 71 70 73 67 71 67 64 62 69 68 65 81\n",
      " 82 60 71 63 67 70 79 73 67 69 69 67 63 76 72 79 70 65 74 75 70 86 77 63\n",
      " 65 79 71 67 72 71 70 70 71 70 61 72 72 71 69 68 79 67 68 67 71 63 66 66\n",
      " 75 72 71 65 68 69 60 73 78 70 65 71 77 64 74 70 76 69 71 63 72 71 72 77\n",
      " 66 77 66 75 65 77 71 62 63 58 68 68 71 71 63 67 70 68 66 75 68 72 72 77\n",
      " 65 68 70 58 77 65 67 72 72 68 72 81 66 61 66 67 69 67 67 75 67 78 75 64\n",
      " 70 69 71 61 68 71 63 75 71 72 66 57 67 70 70 72 66 72 73 74 69 67 68 67\n",
      " 74 66 67 71 70 63 69 71 74 69 73 66 63 65 68 70 62 62 72 71 70 67 68 71\n",
      " 76 70 66 72 75 74 63 61 68 75 70 74 69 76 66 67 70 70 72 72]\n"
     ]
    }
   ],
   "source": [
    "n = 100\n",
    "p = 0.7\n",
    "s = 500\n",
    "resultado = random_binomial()\n",
    "print(resultado)"
   ]
  },
  {
   "cell_type": "code",
   "execution_count": 113,
   "id": "82c7529e",
   "metadata": {},
   "outputs": [],
   "source": [
    "def random_binomial (): ### Generacion de numeros aleatorios binomiales sin semilla\n",
    "    rng = np.random.default_rng()\n",
    "    Tries = n\n",
    "    probability = p\n",
    "    size = s\n",
    "    result = rng.binomial(Tries, probability, size)\n",
    "    return(result)\n",
    "    "
   ]
  },
  {
   "cell_type": "code",
   "execution_count": 114,
   "id": "3bf2a707",
   "metadata": {},
   "outputs": [
    {
     "name": "stdout",
     "output_type": "stream",
     "text": [
      "[70 69 69 71 75 72 68 68 65 74 70 76 70 68 71 67 64 73 73 71 63 77 78 66\n",
      " 70 66 71 69 75 73 77 69 71 79 78 69 66 71 73 71 74 65 78 73 77 73 64 68\n",
      " 70 67 70 69 71 71 72 72 76 73 68 72 78 60 77 76 74 72 70 78 74 75 63 70\n",
      " 77 69 71 69 68 66 67 66 71 77 67 73 75 67 75 71 68 76 71 66 74 78 74 63\n",
      " 76 68 73 65 62 70 70 67 63 72 67 73 67 76 69 73 66 65 75 63 72 69 73 74\n",
      " 75 78 73 70 57 67 70 69 66 68 64 68 66 67 71 73 67 68 71 78 73 70 66 65\n",
      " 61 77 73 71 69 73 71 70 75 73 77 82 77 74 69 68 68 67 65 75 71 78 78 66\n",
      " 69 73 67 69 75 65 71 65 67 83 65 67 73 64 73 65 70 74 71 79 65 67 81 73\n",
      " 66 62 68 74 70 68 66 75 67 74 72 80 68 76 68 64 71 72 69 70 72 76 75 61\n",
      " 74 72 69 66 63 70 73 75 69 63 71 74 73 70 75 65 72 76 75 68 62 67 62 69\n",
      " 59 68 77 66 77 72 73 70 71 73 76 67 68 65 65 63 63 76 67 68 73 71 74 66\n",
      " 73 74 69 63 71 62 69 75 68 69 62 69 70 71 77 67 70 64 70 63 73 73 76 70\n",
      " 78 72 73 70 72 72 68 69 69 68 76 76 73 69 69 64 74 71 65 67 67 70 68 65\n",
      " 69 69 76 73 69 74 68 70 75 75 70 80 68 76 71 70 73 78 73 80 76 63 67 53\n",
      " 70 74 72 66 72 59 70 64 75 67 74 75 64 79 70 64 73 68 67 79 74 66 78 70\n",
      " 73 70 74 71 72 70 76 74 82 73 70 52 65 69 72 63 74 74 76 77 72 69 71 70\n",
      " 69 69 67 64 61 70 69 67 78 70 69 69 74 61 68 58 74 74 67 73 70 73 68 69\n",
      " 63 68 72 68 79 73 69 64 74 75 73 76 71 67 73 67 62 68 69 69 76 66 72 61\n",
      " 70 67 69 73 63 68 69 64 68 68 72 65 67 83 73 70 71 66 70 73 70 74 74 73\n",
      " 71 68 69 70 70 66 71 67 70 71 70 74 68 78 69 74 61 64 67 72 75 76 64 70\n",
      " 74 75 76 63 72 73 60 73 72 63 76 67 70 67 73 78 63 66 75 67]\n"
     ]
    }
   ],
   "source": [
    "n = 100\n",
    "p = 0.7\n",
    "s = 500\n",
    "resultado = random_binomial()\n",
    "print(resultado)"
   ]
  },
  {
   "cell_type": "code",
   "execution_count": 118,
   "id": "80ca2b9a",
   "metadata": {},
   "outputs": [
    {
     "data": {
      "image/png": "[encoded data removed]",
      "text/plain": [
       "<Figure size 640x480 with 1 Axes>"
      ]
     },
     "metadata": {},
     "output_type": "display_data"
    }
   ],
   "source": [
    "import matplotlib.pyplot as plt  ### Grafica funcion de probabilidad Binomial\n",
    "\n",
    "count,bins,ignored = plt.hist(resultado,15, density=True)\n",
    "plt.plot(bins, np.ones_like(bins), linewidth=2, color=\"r\")\n",
    "plt.show()"
   ]
  },
  {
   "cell_type": "markdown",
   "id": "83b0dc36",
   "metadata": {},
   "source": [
    "https://docs.scipy.org/doc/numpy/reference/arrays.ndarray.html#array-attributes\n",
    "\n",
    "Vamos a ver ahora ejemplos de atributos de un array de tres dimensiones, con numeros aleatorios de distribución uniforme de tamaño 3 * 4 * 5\n",
    "\n",
    "Generador de números aleatorios con distribución uniforme:\n",
    "\n",
    "https://docs.scipy.org/doc/numpy/reference/random/generated/numpy.random.Generator.uniform.html#numpy.random.Generator.uniform"
   ]
  },
  {
   "cell_type": "code",
   "execution_count": 126,
   "id": "0f3b2a04",
   "metadata": {},
   "outputs": [
    {
     "name": "stdout",
     "output_type": "stream",
     "text": [
      "[[20.70807066 11.20459917 25.18004576 14.1425455 ]\n",
      " [18.9077131  23.54650841 49.08816311 23.95108794]\n",
      " [34.00207957 21.5761801  31.0033303  14.00359602]]\n"
     ]
    },
    {
     "data": {
      "text/plain": [
       "2"
      ]
     },
     "execution_count": 126,
     "metadata": {},
     "output_type": "execute_result"
    }
   ],
   "source": [
    "def random_uniforme ():\n",
    "    rng = np.random.default_rng()\n",
    "    Low = l\n",
    "    high = h\n",
    "    size = s\n",
    "    result = rng.uniform(Low,high,size)\n",
    "    return(result)\n",
    "\n",
    "l = 10\n",
    "h = 50\n",
    "s = (3,4) ## MAtriz de 3 dimensiones\n",
    "resultado = random_uniforme()\n",
    "print(resultado)\n",
    "resultado.ndim"
   ]
  },
  {
   "cell_type": "code",
   "execution_count": 125,
   "id": "40cce8c4",
   "metadata": {},
   "outputs": [
    {
     "data": {
      "image/png": "[encoded data removed]",
      "text/plain": [
       "<Figure size 640x480 with 1 Axes>"
      ]
     },
     "metadata": {},
     "output_type": "display_data"
    }
   ],
   "source": [
    "import matplotlib.pyplot as plt  ### Grafica funcion de probabilidad uniforme\n",
    "\n",
    "count,bins,ignored = plt.hist(resultado,15, density=True)\n",
    "plt.plot(bins, np.ones_like(bins), linewidth=2, color=\"r\")\n",
    "plt.show()"
   ]
  },
  {
   "cell_type": "code",
   "execution_count": null,
   "id": "a90a39fb",
   "metadata": {},
   "outputs": [],
   "source": []
  }
 ],
 "metadata": {
  "kernelspec": {
   "display_name": "Python 3 (ipykernel)",
   "language": "python",
   "name": "python3"
  },
  "language_info": {
   "codemirror_mode": {
    "name": "ipython",
    "version": 3
   },
   "file_extension": ".py",
   "mimetype": "text/x-python",
   "name": "python",
   "nbconvert_exporter": "python",
   "pygments_lexer": "ipython3",
   "version": "3.11.7"
  }
 },
 "nbformat": 4,
 "nbformat_minor": 5
}
