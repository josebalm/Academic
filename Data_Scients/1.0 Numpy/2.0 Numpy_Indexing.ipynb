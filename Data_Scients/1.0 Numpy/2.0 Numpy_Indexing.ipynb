{
 "cells": [
  {
   "cell_type": "code",
   "execution_count": 1,
   "id": "57b23db3",
   "metadata": {},
   "outputs": [],
   "source": [
    "import numpy as np"
   ]
  },
  {
   "cell_type": "code",
   "execution_count": 14,
   "id": "f5ce4394",
   "metadata": {},
   "outputs": [
    {
     "name": "stdout",
     "output_type": "stream",
     "text": [
      "1\n",
      "2\n"
     ]
    }
   ],
   "source": [
    "### Acceder a los elementos de la Matriz\n",
    "### La indexacion de matrices es lo mismo que acceder a un elemento de matriz, usando su indice\n",
    "### los indices en las matrices de numpy comienzan en 0, lo que significa que es el primer elemento.\n",
    "### Ejemplo\n",
    "arr=np.array([1,2,3,4])\n",
    "print(arr[0])\n",
    "\n",
    "arr = np.array([1, 2, 3, 4])\n",
    "\n",
    "print(arr[1])"
   ]
  },
  {
   "cell_type": "code",
   "execution_count": 5,
   "id": "ccbb789a",
   "metadata": {},
   "outputs": [
    {
     "name": "stdout",
     "output_type": "stream",
     "text": [
      "7\n"
     ]
    }
   ],
   "source": [
    "arr = np.array([1, 2, 3, 4])\n",
    "\n",
    "print(arr[2] + arr[3])"
   ]
  },
  {
   "cell_type": "code",
   "execution_count": 15,
   "id": "f6fcb72f",
   "metadata": {},
   "outputs": [
    {
     "name": "stdout",
     "output_type": "stream",
     "text": [
      "2nd element on 1st row:  9\n"
     ]
    }
   ],
   "source": [
    "### Acceder a Matrices 2-D\n",
    "### Para acceder a elementos de matrices 2-D, podemos usar numeros enteros separados por comenas que representan la dimension y el indice\n",
    "### del elemento.\n",
    "### Piense en matrices 2D como una tabla con filas y columnas, donde la dimensión representa la fila y el índice representa la columna.\n",
    "### Ejemplo\n",
    "arr = np.array([[1,2,3,4,5], \n",
    "                [6,7,8,9,10]])\n",
    "\n",
    "print('2nd element on 1st row: ', arr[1, 3]) ### primer argumento fila, segundo columna\n"
   ]
  },
  {
   "cell_type": "code",
   "execution_count": 9,
   "id": "eec7b0e0",
   "metadata": {},
   "outputs": [
    {
     "name": "stdout",
     "output_type": "stream",
     "text": [
      "5th element on 2nd row:  10\n"
     ]
    }
   ],
   "source": [
    "arr = np.array([[1,2,3,4,5], [6,7,8,9,10]])\n",
    "\n",
    "print('5th element on 2nd row: ', arr[1, 4])"
   ]
  },
  {
   "cell_type": "code",
   "execution_count": 11,
   "id": "9e92c809",
   "metadata": {},
   "outputs": [
    {
     "name": "stdout",
     "output_type": "stream",
     "text": [
      "[[[ 1  2  3]\n",
      "  [ 4  5  6]]\n",
      "\n",
      " [[ 7  8  9]\n",
      "  [10 11 12]]]\n",
      "6\n"
     ]
    }
   ],
   "source": [
    "### Acceder a matrices 3-D\n",
    "### Para acceder a elementos de matrices 3-D, podemos usar números enteros \n",
    "### separados por comas que representan las dimensiones y el índice del elemento.\n",
    "arr = np.array([[[1, 2, 3], \n",
    "                 [4, 5, 6]], \n",
    "                \n",
    "                [[7, 8, 9], \n",
    "                 [10, 11, 12]]])\n",
    "print(arr)\n",
    "print(arr[0, 1, 2]) ### el primer indice indica la primera dimension ( o primera Matriz), \n",
    "### el segundo la fila de la matruz y el tercero la columna de la matriz"
   ]
  },
  {
   "cell_type": "code",
   "execution_count": 13,
   "id": "d3f11f61",
   "metadata": {},
   "outputs": [
    {
     "name": "stdout",
     "output_type": "stream",
     "text": [
      "Last element from 2nd dim:  9\n"
     ]
    }
   ],
   "source": [
    "### Indexacion Negativa\n",
    "### utilice indexacion negativa para acceder a una mtr4iz desde el final\n",
    "### Ejemplo\n",
    "\n",
    "arr = np.array([[1,2,3,4,5], [6,7,8,9,10]])\n",
    "\n",
    "print('Last element from 2nd dim: ', arr[1, -2])\n"
   ]
  },
  {
   "cell_type": "markdown",
   "id": "d2f46169",
   "metadata": {},
   "source": [
    "#### Indexing\n",
    "\n",
    "\n",
    "Un problema común es seleccionar los elementos de un array de acuerdo a algún criterio.\n",
    "\n",
    "Llamamos \"indexing\" a la operación que resuelve el problema de acceder a los elementos de un array con algún criterio.\n",
    "\n",
    "Existen tres tipos de indexing en Numpy:\n",
    "\n",
    "#### Array Slicing: accedemos a los elementos con los parámetros start,stop,step. Por ejemplo my_array[0:5:-1]\n",
    "\n",
    "#### Fancy Indexing: creamos una lista de índices y la usamos para acceder a ciertos elementos del array: my_array[[3,5,7,8]]\n",
    "\n",
    "#### Boolean Indexing: creamos una \"máscara booleana\" (un array o lista de True y False) para acceder a ciertos elementos: my_array[my_array > 4]"
   ]
  },
  {
   "cell_type": "markdown",
   "id": "e9003056",
   "metadata": {},
   "source": [
    "Veamos algunos ejemplo:\n",
    "\n",
    "Creamos un array de una dimensión usando el método np.arange que devuelve valores espaciados uniformemente dentro de un intervalo dado.\n",
    "\n",
    "https://docs.scipy.org/doc/numpy/reference/generated/numpy.arange.html"
   ]
  },
  {
   "cell_type": "code",
   "execution_count": 2,
   "id": "a37d73e6",
   "metadata": {},
   "outputs": [
    {
     "data": {
      "text/plain": [
       "array([0, 1, 2, 3, 4, 5, 6, 7, 8, 9])"
      ]
     },
     "execution_count": 2,
     "metadata": {},
     "output_type": "execute_result"
    }
   ],
   "source": [
    "import numpy as np\n",
    "one_d_array = np.arange(10)\n",
    "one_d_array"
   ]
  },
  {
   "cell_type": "code",
   "execution_count": 7,
   "id": "ba56edf9",
   "metadata": {},
   "outputs": [
    {
     "data": {
      "text/plain": [
       "array([1, 3, 5, 7, 9])"
      ]
     },
     "execution_count": 7,
     "metadata": {},
     "output_type": "execute_result"
    }
   ],
   "source": [
    "# Start = 1:  empezamos por el segundo elemento\n",
    "# Stop: No está definido, entonces llegamos hasta el final.\n",
    "# Step: El paso o distancia entre los elementos es 2.\n",
    "one_d_array[1::2]"
   ]
  },
  {
   "cell_type": "code",
   "execution_count": 8,
   "id": "da6586a2",
   "metadata": {},
   "outputs": [
    {
     "data": {
      "text/plain": [
       "array([9, 8, 7, 6, 5, 4, 3, 2, 1, 0])"
      ]
     },
     "execution_count": 8,
     "metadata": {},
     "output_type": "execute_result"
    }
   ],
   "source": [
    "# Start: No está definido, entonces comenzamos desde el primero.\n",
    "# Stop: No está definido, entonces llegamos hasta el final.\n",
    "# Step = -1, para invertir el orden del array\n",
    "one_d_array[::-1]"
   ]
  },
  {
   "cell_type": "code",
   "execution_count": 9,
   "id": "4cc0ce0b",
   "metadata": {},
   "outputs": [
    {
     "data": {
      "text/plain": [
       "array([7, 6, 5, 4, 3])"
      ]
     },
     "execution_count": 9,
     "metadata": {},
     "output_type": "execute_result"
    }
   ],
   "source": [
    "# Si queremos hacer slicing en orden invertido\n",
    "one_d_array[7:2:-1]  "
   ]
  },
  {
   "cell_type": "code",
   "execution_count": 12,
   "id": "e2b1a41a",
   "metadata": {},
   "outputs": [
    {
     "name": "stdout",
     "output_type": "stream",
     "text": [
      "[[7.39851867 5.92639919 5.9953801  9.99938709]\n",
      " [6.95659348 5.55626919 7.65556856 3.02551136]\n",
      " [5.25207193 3.73378137 9.09307084 6.26014991]]\n"
     ]
    }
   ],
   "source": [
    "### Slicing sobre arrays de más dimensiones\n",
    "### Cuando tenemos más de una dimensión, podemos hacer slicing sobre cada una de ellas separándolas con una coma.\n",
    "\n",
    "### Veamos algunos ejemplos:\n",
    "\n",
    "rng = np.random.default_rng()\n",
    "l = 0\n",
    "h = 10\n",
    "s = (3,4)\n",
    "\n",
    "two_d_array = rng.uniform(l,h,s)\n",
    "print(two_d_array)\n",
    "\n"
   ]
  },
  {
   "cell_type": "code",
   "execution_count": 13,
   "id": "7f087f5b",
   "metadata": {},
   "outputs": [
    {
     "data": {
      "text/plain": [
       "array([7.39851867, 6.95659348, 5.25207193])"
      ]
     },
     "execution_count": 13,
     "metadata": {},
     "output_type": "execute_result"
    }
   ],
   "source": [
    "# Los dos puntos ( : ) indican que accedemos a todos los elementos de cada fila \n",
    "# y el cero después de la coma indica que sólamente lo hacemos para la columna 0 (la primera).\n",
    "two_d_array[:, 0]"
   ]
  },
  {
   "cell_type": "code",
   "execution_count": 14,
   "id": "f5864382",
   "metadata": {},
   "outputs": [
    {
     "data": {
      "text/plain": [
       "array([5.25207193, 3.73378137, 9.09307084, 6.26014991])"
      ]
     },
     "execution_count": 14,
     "metadata": {},
     "output_type": "execute_result"
    }
   ],
   "source": [
    "# Accedemos a la tercer fila\n",
    "two_d_array[2, :]"
   ]
  },
  {
   "cell_type": "code",
   "execution_count": 16,
   "id": "b157e9f8",
   "metadata": {},
   "outputs": [
    {
     "data": {
      "text/plain": [
       "array([5.25207193, 3.73378137, 9.09307084, 6.26014991])"
      ]
     },
     "execution_count": 16,
     "metadata": {},
     "output_type": "execute_result"
    }
   ],
   "source": [
    "# Otra forma de acceder a la tercer fila\n",
    "two_d_array[2]"
   ]
  },
  {
   "cell_type": "code",
   "execution_count": 19,
   "id": "1b4cac5a",
   "metadata": {},
   "outputs": [
    {
     "data": {
      "text/plain": [
       "array([[5.92639919, 5.9953801 ],\n",
       "       [5.55626919, 7.65556856],\n",
       "       [3.73378137, 9.09307084]])"
      ]
     },
     "execution_count": 19,
     "metadata": {},
     "output_type": "execute_result"
    }
   ],
   "source": [
    "# Todas la filas, un slice de la segunda y tercer columna (índices 1 y 2)\n",
    "two_d_array[:, 1:3]"
   ]
  },
  {
   "cell_type": "code",
   "execution_count": 20,
   "id": "53479c49",
   "metadata": {},
   "outputs": [
    {
     "data": {
      "text/plain": [
       "array([[9.99938709, 5.9953801 , 5.92639919, 7.39851867],\n",
       "       [3.02551136, 7.65556856, 5.55626919, 6.95659348],\n",
       "       [6.26014991, 9.09307084, 3.73378137, 5.25207193]])"
      ]
     },
     "execution_count": 20,
     "metadata": {},
     "output_type": "execute_result"
    }
   ],
   "source": [
    "# todas las filas, todas las columnas listadas en orden inverso\n",
    "two_d_array[:, ::-1]"
   ]
  },
  {
   "cell_type": "code",
   "execution_count": 21,
   "id": "232ef2ba",
   "metadata": {},
   "outputs": [
    {
     "name": "stdout",
     "output_type": "stream",
     "text": [
      "2\n"
     ]
    }
   ],
   "source": [
    "print(two_d_array.ndim)"
   ]
  },
  {
   "cell_type": "code",
   "execution_count": 23,
   "id": "e3451c0c",
   "metadata": {},
   "outputs": [
    {
     "name": "stdout",
     "output_type": "stream",
     "text": [
      "3\n",
      "[[[1 2 3]\n",
      "  [4 5 6]]\n",
      "\n",
      " [[1 2 3]\n",
      "  [4 5 6]]]\n"
     ]
    }
   ],
   "source": [
    "import numpy as np  ### Slicing para una matriz de 3 dimensiones\n",
    "y = np.array([[[1, 2, 3], [4, 5, 6]], [[1, 2, 3], [4, 5, 6]]])\n",
    "print(y.ndim)\n",
    "print(y)"
   ]
  },
  {
   "cell_type": "code",
   "execution_count": 24,
   "id": "f7c98eb0",
   "metadata": {},
   "outputs": [
    {
     "data": {
      "text/plain": [
       "array([[1, 2, 3],\n",
       "       [4, 5, 6]])"
      ]
     },
     "execution_count": 24,
     "metadata": {},
     "output_type": "execute_result"
    }
   ],
   "source": [
    "y[0,:] ### Me trae unicamente la primera matriz, completa"
   ]
  },
  {
   "cell_type": "code",
   "execution_count": 25,
   "id": "c8b127a6",
   "metadata": {},
   "outputs": [
    {
     "data": {
      "text/plain": [
       "array([[[2, 3],\n",
       "        [5, 6]],\n",
       "\n",
       "       [[2, 3],\n",
       "        [5, 6]]])"
      ]
     },
     "execution_count": 25,
     "metadata": {},
     "output_type": "execute_result"
    }
   ],
   "source": [
    "y[:,:,1:3] ### Me trae todas las matrices, todas las filas de cada una, y un slicing de la columna 1 y 2."
   ]
  },
  {
   "cell_type": "code",
   "execution_count": 27,
   "id": "c11413e6",
   "metadata": {},
   "outputs": [
    {
     "data": {
      "text/plain": [
       "3"
      ]
     },
     "execution_count": 27,
     "metadata": {},
     "output_type": "execute_result"
    }
   ],
   "source": [
    "y[0,0,2] ### Me trae la primera matriz, la primera fila, el tercer elemento, que es 3."
   ]
  },
  {
   "cell_type": "code",
   "execution_count": 28,
   "id": "54ea8c9f",
   "metadata": {},
   "outputs": [
    {
     "data": {
      "text/plain": [
       "array([[5, 6],\n",
       "       [2, 3]])"
      ]
     },
     "execution_count": 28,
     "metadata": {},
     "output_type": "execute_result"
    }
   ],
   "source": [
    "y[0,::-1,1:3] ### Me trae la primera matriz, todas las filas en orden inverso y un slicing de la columna 1 y 2."
   ]
  },
  {
   "cell_type": "markdown",
   "id": "4eda39ef",
   "metadata": {},
   "source": [
    "#### Fancy Indexing\n",
    "\n",
    "\n",
    "Esta técnica consiste en generar listas que contienen los índices de los elementos que queremos seleccionar y utilizar estas listas para indexar.\n",
    "\n",
    "Veamos algunos ejemplos:"
   ]
  },
  {
   "cell_type": "code",
   "execution_count": 30,
   "id": "ab7cf394",
   "metadata": {},
   "outputs": [
    {
     "name": "stdout",
     "output_type": "stream",
     "text": [
      "[[7.39851867 5.92639919 5.9953801  9.99938709]\n",
      " [6.95659348 5.55626919 7.65556856 3.02551136]\n",
      " [5.25207193 3.73378137 9.09307084 6.26014991]]\n"
     ]
    }
   ],
   "source": [
    "print(two_d_array)"
   ]
  },
  {
   "cell_type": "code",
   "execution_count": 31,
   "id": "72dbea15",
   "metadata": {},
   "outputs": [
    {
     "data": {
      "text/plain": [
       "array([[7.39851867, 5.92639919, 5.9953801 , 9.99938709],\n",
       "       [5.25207193, 3.73378137, 9.09307084, 6.26014991],\n",
       "       [6.95659348, 5.55626919, 7.65556856, 3.02551136],\n",
       "       [7.39851867, 5.92639919, 5.9953801 , 9.99938709]])"
      ]
     },
     "execution_count": 31,
     "metadata": {},
     "output_type": "execute_result"
    }
   ],
   "source": [
    "\n",
    "# nos quedamos con todas las columnas y las filas 1, 3, 2 y repetimos la 1 (índices 0,2,1,0)\n",
    "lista_indices_filas = [0, 2, 1, 0]\n",
    "two_d_array[lista_indices_filas]"
   ]
  },
  {
   "cell_type": "code",
   "execution_count": 32,
   "id": "ca93b4a5",
   "metadata": {},
   "outputs": [
    {
     "data": {
      "text/plain": [
       "array([[5.9953801 , 9.99938709, 5.92639919, 5.9953801 ],\n",
       "       [7.65556856, 3.02551136, 5.55626919, 7.65556856],\n",
       "       [9.09307084, 6.26014991, 3.73378137, 9.09307084]])"
      ]
     },
     "execution_count": 32,
     "metadata": {},
     "output_type": "execute_result"
    }
   ],
   "source": [
    "# nos quedamos con todas las filas y las columnas 3, 4, 2, y reptimos la 3 (índices 2,3,1,2)\n",
    "lista_indices_columnas = [2, 3, 1, 2]\n",
    "two_d_array[:, lista_indices_columnas]"
   ]
  },
  {
   "cell_type": "code",
   "execution_count": 33,
   "id": "622ec8c8",
   "metadata": {},
   "outputs": [
    {
     "data": {
      "text/plain": [
       "array([5.9953801 , 6.26014991, 5.55626919, 5.9953801 ])"
      ]
     },
     "execution_count": 33,
     "metadata": {},
     "output_type": "execute_result"
    }
   ],
   "source": [
    "# y ahora seleccionamos tanto filas como columnas, combinando los dos casos anteriores\n",
    "two_d_array[lista_indices_filas, lista_indices_columnas]\n",
    "\n",
    "\n",
    "### Observemos que al pasar las dos listas, estamos seleccionando los elementos\n",
    "### (0, 2), (2, 3), (1, 1) y (0,2)\n",
    "\n",
    "### Se cumple que `indice_elem_i = (lista_indices_filas[i], lista_indices_columnas[i])`"
   ]
  },
  {
   "cell_type": "markdown",
   "id": "db61bd84",
   "metadata": {},
   "source": [
    "#### Boolean Indexing\n",
    "volver a TOC\n",
    "\n",
    "Esta técnica se basa en crear una \"máscara booleana\", que es una lista de valores True y False que sirve para seleccionar sólo los elementos cuyo índice coincide con un valor True.\n",
    "\n",
    "Veamos algunos ejemplos sobre two_d_array:"
   ]
  },
  {
   "cell_type": "code",
   "execution_count": 34,
   "id": "bc95cc37",
   "metadata": {},
   "outputs": [
    {
     "name": "stdout",
     "output_type": "stream",
     "text": [
      "[[7.39851867 5.92639919 5.9953801  9.99938709]\n",
      " [6.95659348 5.55626919 7.65556856 3.02551136]\n",
      " [5.25207193 3.73378137 9.09307084 6.26014991]]\n"
     ]
    }
   ],
   "source": [
    "print(two_d_array)"
   ]
  },
  {
   "cell_type": "code",
   "execution_count": 35,
   "id": "8dccb715",
   "metadata": {},
   "outputs": [
    {
     "name": "stdout",
     "output_type": "stream",
     "text": [
      "[[ True  True  True  True]\n",
      " [ True  True  True False]\n",
      " [ True False  True  True]]\n"
     ]
    }
   ],
   "source": [
    "### Vamos a seleccionar los elementos que sean mayores que 5. Para esos creamos uma máscara con esa condición:\n",
    "\n",
    "mask_great_5 = two_d_array > 5\n",
    "print(mask_great_5)"
   ]
  },
  {
   "cell_type": "markdown",
   "id": "3f205c15",
   "metadata": {},
   "source": [
    "La máscara tiene valor True en aquellos elementos de two_d_array con valor mayor a 5, y False en los que tienen valor menor o igual que 5.\n",
    "\n",
    "Ahora usemos esa máscara para seleccionar los elementos que cumplen esa condición, o sea los que tienen valor True en la máscara:"
   ]
  },
  {
   "cell_type": "code",
   "execution_count": 36,
   "id": "0c1ad675",
   "metadata": {},
   "outputs": [
    {
     "data": {
      "text/plain": [
       "array([7.39851867, 5.92639919, 5.9953801 , 9.99938709, 6.95659348,\n",
       "       5.55626919, 7.65556856, 5.25207193, 9.09307084, 6.26014991])"
      ]
     },
     "execution_count": 36,
     "metadata": {},
     "output_type": "execute_result"
    }
   ],
   "source": [
    "two_d_array[mask_great_5]"
   ]
  },
  {
   "cell_type": "markdown",
   "id": "1e5d2320",
   "metadata": {},
   "source": [
    "Definamos ahora una condición más compleja: vamos a seleccionar los elementos que sean mayores que 5 y menores que 8"
   ]
  },
  {
   "cell_type": "code",
   "execution_count": 37,
   "id": "dc7bd64d",
   "metadata": {},
   "outputs": [
    {
     "name": "stdout",
     "output_type": "stream",
     "text": [
      "[[ True  True  True False]\n",
      " [ True  True  True False]\n",
      " [ True False False  True]]\n"
     ]
    }
   ],
   "source": [
    "mask_great_5_less_8 = (two_d_array > 5) & (two_d_array < 8)\n",
    "print(mask_great_5_less_8)"
   ]
  },
  {
   "cell_type": "markdown",
   "id": "d78cb239",
   "metadata": {},
   "source": [
    "Ahora usemos esa máscara para seleccionar los elementos que cumplen esa condición, o sea los que tienen valor True en la máscara:"
   ]
  },
  {
   "cell_type": "code",
   "execution_count": 38,
   "id": "34f146ea",
   "metadata": {},
   "outputs": [
    {
     "data": {
      "text/plain": [
       "array([7.39851867, 5.92639919, 5.9953801 , 6.95659348, 5.55626919,\n",
       "       7.65556856, 5.25207193, 6.26014991])"
      ]
     },
     "execution_count": 38,
     "metadata": {},
     "output_type": "execute_result"
    }
   ],
   "source": [
    "two_d_array[mask_great_5_less_8]"
   ]
  },
  {
   "cell_type": "code",
   "execution_count": null,
   "id": "033a804f",
   "metadata": {},
   "outputs": [],
   "source": []
  }
 ],
 "metadata": {
  "kernelspec": {
   "display_name": "Python 3 (ipykernel)",
   "language": "python",
   "name": "python3"
  },
  "language_info": {
   "codemirror_mode": {
    "name": "ipython",
    "version": 3
   },
   "file_extension": ".py",
   "mimetype": "text/x-python",
   "name": "python",
   "nbconvert_exporter": "python",
   "pygments_lexer": "ipython3",
   "version": "3.11.7"
  }
 },
 "nbformat": 4,
 "nbformat_minor": 5
}
