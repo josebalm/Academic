{
 "cells": [
  {
   "cell_type": "code",
   "execution_count": 2,
   "id": "6a89e664-6d04-4902-a8d1-3bc4570c8ce0",
   "metadata": {},
   "outputs": [
    {
     "name": "stdout",
     "output_type": "stream",
     "text": [
      "{'location': 'princeton', 'field': 'physics', 'first_name': 'albert', 'last_name': 'einstein'}\n"
     ]
    }
   ],
   "source": [
    "def built_profile(first, last, **user_info):\n",
    "    user_info[\"first_name\"] = first\n",
    "    user_info[\"last_name\"] = last\n",
    "    return user_info\n",
    "\n",
    "user_profile= built_profile(\"albert\",\"einstein\", location=\"princeton\", field=\"physics\")\n",
    "print(user_profile)"
   ]
  },
  {
   "cell_type": "code",
   "execution_count": 3,
   "id": "a5013223-a1ca-4cf0-ac4d-1534452387d9",
   "metadata": {},
   "outputs": [],
   "source": [
    "def make_car(fabricante, modelo, **info):\n",
    "    result = {'fabricante': fabricante,\n",
    "              'modelo': modelo}\n",
    "    for key in info.keys():\n",
    "        result[key] = info[key]\n",
    "    return result    "
   ]
  },
  {
   "cell_type": "code",
   "execution_count": 5,
   "id": "5e90e317-8407-426a-86d8-2f5ec1a33244",
   "metadata": {},
   "outputs": [
    {
     "name": "stdout",
     "output_type": "stream",
     "text": [
      "{'fabricante': 'subaru', 'modelo': 'outback', 'color': 'blue', 'tow_package': True}\n"
     ]
    }
   ],
   "source": [
    "car = make_car(\"subaru\",\"outback\",color=\"blue\", tow_package = True)\n",
    "print(car)"
   ]
  },
  {
   "cell_type": "code",
   "execution_count": 8,
   "id": "1a497b1b-b5e6-4b43-b542-c3abcf3c72cf",
   "metadata": {},
   "outputs": [],
   "source": [
    "import numpy as np"
   ]
  },
  {
   "cell_type": "code",
   "execution_count": 13,
   "id": "f1559a26-2fb8-4fb9-a5a7-8c9ee61ab121",
   "metadata": {},
   "outputs": [],
   "source": [
    "lista1=[10,20,30,40]\n",
    "lista2=[1,2,3,4]\n",
    "x = np.array(lista1)\n",
    "y = np.array(lista2)"
   ]
  },
  {
   "cell_type": "code",
   "execution_count": 15,
   "id": "b7ad5645-c83c-432a-bc69-a2950fba7bf7",
   "metadata": {},
   "outputs": [],
   "source": [
    "z= x+y"
   ]
  },
  {
   "cell_type": "code",
   "execution_count": 18,
   "id": "2de72a03-2899-4e6b-b4a0-fdc6cc00fbb0",
   "metadata": {},
   "outputs": [
    {
     "data": {
      "text/plain": [
       "array([ 10,  40,  90, 160])"
      ]
     },
     "execution_count": 18,
     "metadata": {},
     "output_type": "execute_result"
    }
   ],
   "source": [
    "z"
   ]
  },
  {
   "cell_type": "code",
   "execution_count": 23,
   "id": "49f4bbc2-acf8-498c-95e6-a5a7926886e8",
   "metadata": {},
   "outputs": [],
   "source": [
    "f = lista1 + lista2 "
   ]
  },
  {
   "cell_type": "code",
   "execution_count": 20,
   "id": "1c7dd19e-5abb-428f-a989-6cc9c8e95108",
   "metadata": {},
   "outputs": [
    {
     "data": {
      "text/plain": [
       "[10, 20, 30, 40, 1, 2, 3, 4]"
      ]
     },
     "execution_count": 20,
     "metadata": {},
     "output_type": "execute_result"
    }
   ],
   "source": [
    "f"
   ]
  },
  {
   "cell_type": "code",
   "execution_count": 21,
   "id": "aed24f30-d2bf-4711-9041-9bd83c646289",
   "metadata": {},
   "outputs": [
    {
     "data": {
      "text/plain": [
       "array([ 100,  400,  900, 1600])"
      ]
     },
     "execution_count": 21,
     "metadata": {},
     "output_type": "execute_result"
    }
   ],
   "source": [
    "z*10"
   ]
  },
  {
   "cell_type": "code",
   "execution_count": 24,
   "id": "b48eb572-2f75-4eb2-875e-2ab6f04a660c",
   "metadata": {},
   "outputs": [
    {
     "data": {
      "text/plain": [
       "array([1, 4, 2, 5, 3])"
      ]
     },
     "execution_count": 24,
     "metadata": {},
     "output_type": "execute_result"
    }
   ],
   "source": [
    "list =(1,4,2,5,3)\n",
    "k = np.array(list)\n",
    "k"
   ]
  },
  {
   "cell_type": "code",
   "execution_count": null,
   "id": "570aa252-7b36-4843-bb35-59765f32931a",
   "metadata": {},
   "outputs": [],
   "source": []
  }
 ],
 "metadata": {
  "kernelspec": {
   "display_name": "Python 3 (ipykernel)",
   "language": "python",
   "name": "python3"
  },
  "language_info": {
   "codemirror_mode": {
    "name": "ipython",
    "version": 3
   },
   "file_extension": ".py",
   "mimetype": "text/x-python",
   "name": "python",
   "nbconvert_exporter": "python",
   "pygments_lexer": "ipython3",
   "version": "3.11.7"
  }
 },
 "nbformat": 4,
 "nbformat_minor": 5
}
