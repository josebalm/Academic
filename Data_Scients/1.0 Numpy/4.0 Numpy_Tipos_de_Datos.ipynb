{
 "cells": [
  {
   "cell_type": "markdown",
   "id": "413043d3-d66c-4f72-b4d9-c14ff31feeaf",
   "metadata": {},
   "source": [
    "Tipos de datos en Python\n",
    "Por defecto, Python tiene estos tipos de datos:\n",
    "\n",
    "strings- se utiliza para representar datos de texto, el texto aparece entre comillas. por ejemplo \"ABCD\"\n",
    "integer- Se utiliza para representar números enteros. por ejemplo -1, -2, -3\n",
    "float- utilizado para representar números reales. por ejemplo, 1,2, 42,42\n",
    "boolean- utilizado para representar Verdadero o Falso.\n",
    "complex- utilizado para representar números complejos. por ejemplo, 1,0 + 2,0j, 1,5 + 2,5j"
   ]
  },
  {
   "cell_type": "markdown",
   "id": "491a430d-7f81-43af-b344-2137ec02bea6",
   "metadata": {},
   "source": [
    "Tipos de datos en NumPy\n",
    "NumPy tiene algunos tipos de datos adicionales y se refiere a tipos de datos con un carácter, como i = números enteros, u = números enteros sin signo, etc.\n",
    "\n",
    "A continuación se muestra una lista de todos los tipos de datos en NumPy y los caracteres utilizados para representarlos.\n",
    "\n",
    "i- número entero\n",
    "b- booleano\n",
    "u- entero sin signo\n",
    "f- flotar\n",
    "c- flotador complejo\n",
    "m- delta de tiempo\n",
    "M- fecha y hora\n",
    "O- objeto\n",
    "S- cadena\n",
    "U- cadena unicode\n",
    "V- fragmento fijo de memoria para otro tipo (nulo)"
   ]
  },
  {
   "cell_type": "code",
   "execution_count": 10,
   "id": "80fc22fd-33d4-4553-91cc-fde375e8e1aa",
   "metadata": {},
   "outputs": [
    {
     "name": "stdout",
     "output_type": "stream",
     "text": [
      "int64\n"
     ]
    }
   ],
   "source": [
    "### Comprobar el tipo de dato de una matriz\n",
    "\n",
    "import numpy as np\n",
    "\n",
    "arr = np.array([1,2,3,4,5])\n",
    "print(arr.dtype)"
   ]
  },
  {
   "cell_type": "code",
   "execution_count": 11,
   "id": "a06a50d0-6e0f-4324-8a98-3eb27596f74c",
   "metadata": {},
   "outputs": [
    {
     "name": "stdout",
     "output_type": "stream",
     "text": [
      "<U6\n"
     ]
    }
   ],
   "source": [
    "### Ejemplo de una matriz que contiene cadenas\n",
    "\n",
    "arr = np.array(['apple', 'banana', 'cherry'])\n",
    "\n",
    "print(arr.dtype)"
   ]
  },
  {
   "cell_type": "code",
   "execution_count": 3,
   "id": "a200cc78-54ea-4504-b1b4-6fecd952ea81",
   "metadata": {},
   "outputs": [
    {
     "name": "stdout",
     "output_type": "stream",
     "text": [
      "[b'1' b'2' b'3' b'4']\n",
      "|S1\n"
     ]
    }
   ],
   "source": [
    "### Crear matrices con un tipo de dato definido\n",
    "\n",
    "arr = np.array([1, 2, 3, 4], dtype='S')\n",
    "\n",
    "print(arr)\n",
    "print(arr.dtype)"
   ]
  },
  {
   "cell_type": "code",
   "execution_count": 4,
   "id": "05c01847-c7a8-4980-a00b-4c90998f1018",
   "metadata": {},
   "outputs": [
    {
     "name": "stdout",
     "output_type": "stream",
     "text": [
      "[1 2 3 4]\n",
      "int32\n"
     ]
    }
   ],
   "source": [
    "import numpy as np\n",
    "\n",
    "arr = np.array([1, 2, 3, 4], dtype='i4')\n",
    "\n",
    "print(arr)\n",
    "print(arr.dtype)"
   ]
  },
  {
   "cell_type": "code",
   "execution_count": 6,
   "id": "d78d8f9b-5deb-4c1f-84d6-d9495229281e",
   "metadata": {},
   "outputs": [],
   "source": [
    "import numpy as np\n",
    "\n",
    "arr = np.array(['a', '2', '3'], dtype='i')"
   ]
  },
  {
   "cell_type": "markdown",
   "id": "93a76b81-43c4-48b0-8f1e-c33328e8eae8",
   "metadata": {},
   "source": [
    "Conversión de tipos de datos en matrices existentes\n",
    "La mejor manera de cambiar el tipo de datos de una matriz existente es hacer una copia de la matriz con el astype()método.\n",
    "\n",
    "La astype()función crea una copia de la matriz y le permite especificar el tipo de datos como parámetro.\n",
    "\n",
    "El tipo de datos se puede especificar usando una cadena, como 'f'flotante, 'i'entero, etc. o puede usar el tipo de datos directamente como floatflotante y intentero.\n",
    "\n"
   ]
  },
  {
   "cell_type": "code",
   "execution_count": 13,
   "id": "c5adc0e1-dacc-4ffe-abab-b782ba0b19fd",
   "metadata": {},
   "outputs": [
    {
     "name": "stdout",
     "output_type": "stream",
     "text": [
      "[1 2 3]\n",
      "int32\n",
      "None\n"
     ]
    }
   ],
   "source": [
    "### Ejemplo Cambie el tipo de datos de flotante a entero usando 'i'como valor de parámetro:\n",
    "\n",
    "arr = np.array([1.1, 2.1, 3.1])\n",
    "\n",
    "newarr = arr.astype('i')\n",
    "\n",
    "print(newarr)\n",
    "print(newarr.dtype)\n",
    "print(newarr.base)"
   ]
  },
  {
   "cell_type": "code",
   "execution_count": 14,
   "id": "cf6db3dc-d58d-446b-94fe-1067327ec7ef",
   "metadata": {},
   "outputs": [
    {
     "name": "stdout",
     "output_type": "stream",
     "text": [
      "[1 2 3]\n",
      "int64\n",
      "None\n"
     ]
    }
   ],
   "source": [
    "### Ejemplo Cambie el tipo de datos de flotante a entero usando \"int\" como valor de parámetro:\n",
    "\n",
    "import numpy as np\n",
    "\n",
    "arr = np.array([1.1, 2.1, 3.1])\n",
    "\n",
    "newarr = arr.astype(int)\n",
    "\n",
    "print(newarr)\n",
    "print(newarr.dtype)\n",
    "print(newarr.base)"
   ]
  },
  {
   "cell_type": "code",
   "execution_count": 15,
   "id": "d7c546f2-2bca-421a-aba8-e8b37bae36a0",
   "metadata": {},
   "outputs": [
    {
     "name": "stdout",
     "output_type": "stream",
     "text": [
      "[ True False  True]\n",
      "bool\n"
     ]
    }
   ],
   "source": [
    "### Ejemplo Cambie el tipo de datos de entero a booleano:\n",
    "\n",
    "import numpy as np\n",
    "\n",
    "arr = np.array([1, 0, 3])\n",
    "\n",
    "newarr = arr.astype(bool)\n",
    "\n",
    "print(newarr)\n",
    "print(newarr.dtype)\n",
    "\n"
   ]
  },
  {
   "cell_type": "code",
   "execution_count": null,
   "id": "f751ecb6-36dd-4aeb-a1ae-1c1c6f140839",
   "metadata": {},
   "outputs": [],
   "source": [
    " - "
   ]
  }
 ],
 "metadata": {
  "kernelspec": {
   "display_name": "Python 3 (ipykernel)",
   "language": "python",
   "name": "python3"
  },
  "language_info": {
   "codemirror_mode": {
    "name": "ipython",
    "version": 3
   },
   "file_extension": ".py",
   "mimetype": "text/x-python",
   "name": "python",
   "nbconvert_exporter": "python",
   "pygments_lexer": "ipython3",
   "version": "3.11.7"
  }
 },
 "nbformat": 4,
 "nbformat_minor": 5
}
