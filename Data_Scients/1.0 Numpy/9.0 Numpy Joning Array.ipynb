{
 "cells": [
  {
   "cell_type": "markdown",
   "id": "26934fcf-5804-42a2-ae74-03b0d55e2e11",
   "metadata": {},
   "source": [
    "Joining NumPy Arrays\n",
    "Joining means putting contents of two or more arrays in a single array.\n",
    "\n",
    "In SQL we join tables based on a key, whereas in NumPy we join arrays by axes.\n",
    "\n",
    "We pass a sequence of arrays that we want to join to the concatenate() function, along with the axis. If axis is not explicitly passed, it is taken as 0.\n",
    "______\n",
    "\n",
    "Unirse a matrices NumPy\n",
    "Unir significa poner el contenido de dos o más matrices en una sola matriz.\n",
    "\n",
    "En SQL unimos tablas en función de una clave, mientras que en NumPy unimos arrays por ejes.\n",
    "\n",
    "Pasamos una secuencia de arrays que queremos unir a la concatenate()función, junto con el eje. Si el eje no se pasa explícitamente, se toma como 0."
   ]
  },
  {
   "cell_type": "code",
   "execution_count": 7,
   "id": "32fd4f03-0e82-47d7-b571-f56f99eec80d",
   "metadata": {},
   "outputs": [
    {
     "name": "stdout",
     "output_type": "stream",
     "text": [
      "[1 2 3 4 5 6]\n"
     ]
    }
   ],
   "source": [
    "import numpy as np\n",
    "\n",
    "arr1 = np.array([1, 2, 3])\n",
    "\n",
    "arr2 = np.array([4, 5, 6])\n",
    "\n",
    "arr = np.concatenate((arr1, arr2))\n",
    "\n",
    "print(arr)"
   ]
  },
  {
   "cell_type": "code",
   "execution_count": 11,
   "id": "faa1000e-716a-48c0-84c9-e36eb12dbca6",
   "metadata": {},
   "outputs": [
    {
     "name": "stdout",
     "output_type": "stream",
     "text": [
      "[[1 2 5 6]\n",
      " [3 4 7 8]]\n",
      "2\n"
     ]
    }
   ],
   "source": [
    "### Ejemplo unir dos matrices 2-D a lo largo de filas (eje=1)\n",
    "import numpy as np\n",
    "\n",
    "arr1 = np.array([[1, 2], [3, 4]])\n",
    "\n",
    "arr2 = np.array([[5, 6], [7, 8]])\n",
    "\n",
    "arr = np.concatenate((arr1, arr2), axis=1)\n",
    "\n",
    "print(arr)\n",
    "print(arr.ndim)"
   ]
  },
  {
   "cell_type": "markdown",
   "id": "a90346d2-b93d-4a5e-8283-3eed08665ae8",
   "metadata": {},
   "source": [
    "Unir matrices usando funciones de pila\n",
    "El apilamiento es lo mismo que la concatenación, la única diferencia es que el apilamiento se realiza a lo largo de un nuevo eje.\n",
    "\n",
    "Podemos concatenar dos matrices 1-D a lo largo del segundo eje, lo que daría como resultado colocarlas una sobre la otra, es decir. apilado.\n",
    "\n",
    "Pasamos una secuencia de arrays que queremos unir al stack()método junto con el eje. Si el eje no se pasa explícitamente, se toma como 0."
   ]
  },
  {
   "cell_type": "code",
   "execution_count": 24,
   "id": "a52c25bb-bd0d-4e30-816d-d4a887318841",
   "metadata": {},
   "outputs": [
    {
     "name": "stdout",
     "output_type": "stream",
     "text": [
      "[[1 4]\n",
      " [2 5]\n",
      " [3 6]]\n",
      "2\n"
     ]
    }
   ],
   "source": [
    "import numpy as np\n",
    "\n",
    "arr1 = np.array([1, 2, 3])\n",
    "\n",
    "arr2 = np.array([4, 5, 6])\n",
    "\n",
    "arr = np.stack((arr1, arr2), axis=1)\n",
    "\n",
    "print(arr)\n",
    "print(arr.ndim)"
   ]
  },
  {
   "cell_type": "code",
   "execution_count": 14,
   "id": "b5bdaa4a-7c4f-4428-91e0-aeefcaa6eef1",
   "metadata": {},
   "outputs": [
    {
     "name": "stdout",
     "output_type": "stream",
     "text": [
      "[1 2 3 4 5 6]\n"
     ]
    }
   ],
   "source": [
    "#Apilado a lo largo de filas\n",
    "# NumPy proporciona una función auxiliar: hstack() apilar a lo largo de filas.\n",
    "import numpy as np\n",
    "\n",
    "arr1 = np.array([1, 2, 3])\n",
    "\n",
    "arr2 = np.array([4, 5, 6])\n",
    "\n",
    "arr = np.hstack((arr1, arr2))\n",
    "\n",
    "print(arr)"
   ]
  },
  {
   "cell_type": "code",
   "execution_count": 22,
   "id": "16e04a89-156a-41a2-9f84-136cfaeb64b6",
   "metadata": {},
   "outputs": [
    {
     "name": "stdout",
     "output_type": "stream",
     "text": [
      "[[1 2 3]\n",
      " [4 5 6]]\n"
     ]
    }
   ],
   "source": [
    "#Apilado a lo largo de columnas\n",
    "# NumPy proporciona una función auxiliar: vstack()  apilar a lo largo de columnas.\n",
    "import numpy as np\n",
    "\n",
    "arr1 = np.array([1, 2, 3])\n",
    "\n",
    "arr2 = np.array([4, 5, 6])\n",
    "\n",
    "arr = np.vstack((arr1, arr2))\n",
    "\n",
    "print(arr)"
   ]
  },
  {
   "cell_type": "code",
   "execution_count": 23,
   "id": "c923205d-6d52-4752-a1b4-4c2f4861c554",
   "metadata": {},
   "outputs": [
    {
     "name": "stdout",
     "output_type": "stream",
     "text": [
      "[[[1 4]\n",
      "  [2 5]\n",
      "  [3 6]]]\n"
     ]
    }
   ],
   "source": [
    "## Apilado a lo largo de la altura (Profundidad)\n",
    "# NumPy proporciona una función auxiliar: dstack() apilar a lo largo de la altura, que es lo mismo que la profundidad.\n",
    "\n",
    "import numpy as np\n",
    "\n",
    "arr1 = np.array([1, 2, 3])\n",
    "\n",
    "arr2 = np.array([4, 5, 6])\n",
    "\n",
    "arr = np.dstack((arr1, arr2))\n",
    "\n",
    "print(arr)"
   ]
  },
  {
   "cell_type": "code",
   "execution_count": null,
   "id": "fb18a1e9-ff2f-42df-aa8c-e66be7d91581",
   "metadata": {},
   "outputs": [],
   "source": []
  }
 ],
 "metadata": {
  "kernelspec": {
   "display_name": "Python 3 (ipykernel)",
   "language": "python",
   "name": "python3"
  },
  "language_info": {
   "codemirror_mode": {
    "name": "ipython",
    "version": 3
   },
   "file_extension": ".py",
   "mimetype": "text/x-python",
   "name": "python",
   "nbconvert_exporter": "python",
   "pygments_lexer": "ipython3",
   "version": "3.11.7"
  }
 },
 "nbformat": 4,
 "nbformat_minor": 5
}
