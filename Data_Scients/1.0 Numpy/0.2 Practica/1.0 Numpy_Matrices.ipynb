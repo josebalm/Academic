{
 "cells": [
  {
   "cell_type": "code",
   "execution_count": 1,
   "id": "8789ae60-bcf6-419a-9209-1da332024c27",
   "metadata": {},
   "outputs": [],
   "source": [
    "import numpy as np"
   ]
  },
  {
   "cell_type": "code",
   "execution_count": 44,
   "id": "c825db3f-ceb7-4349-bb18-feb719e45c41",
   "metadata": {},
   "outputs": [
    {
     "name": "stdout",
     "output_type": "stream",
     "text": [
      "[1 2 3 4 5]\n"
     ]
    }
   ],
   "source": [
    "arr = np.array([1,2,3,4,5])\n",
    "print(arr)"
   ]
  },
  {
   "cell_type": "code",
   "execution_count": 45,
   "id": "11fd0e27-dbf2-4e85-b169-210583517a4f",
   "metadata": {},
   "outputs": [
    {
     "name": "stdout",
     "output_type": "stream",
     "text": [
      "1.26.4\n"
     ]
    }
   ],
   "source": [
    "print(np.__version__)"
   ]
  },
  {
   "cell_type": "code",
   "execution_count": 9,
   "id": "50d6ed5b-a170-4e3c-9878-d2fc6622eb5a",
   "metadata": {},
   "outputs": [],
   "source": [
    "### Crear Matrices de Numpy ###"
   ]
  },
  {
   "cell_type": "code",
   "execution_count": 46,
   "id": "b0b54f92-81e0-4c9b-b86c-aa57b887e5c9",
   "metadata": {},
   "outputs": [
    {
     "name": "stdout",
     "output_type": "stream",
     "text": [
      "<class 'numpy.ndarray'>\n"
     ]
    }
   ],
   "source": [
    "print(type(arr))"
   ]
  },
  {
   "cell_type": "code",
   "execution_count": null,
   "id": "56a63062-f626-4f8b-a472-be63a011e561",
   "metadata": {},
   "outputs": [],
   "source": [
    "### Para crear un ndarray. podemos pàsar una lista. tupla, o cualquier objeto similar  una matriz al array() metodo y se convertira en ndarray:"
   ]
  },
  {
   "cell_type": "code",
   "execution_count": 47,
   "id": "c3bb798e-5632-411b-9369-6c6eb22728c1",
   "metadata": {},
   "outputs": [
    {
     "name": "stdout",
     "output_type": "stream",
     "text": [
      "[1 2 3 4 5]\n"
     ]
    }
   ],
   "source": [
    "### ejemplo con una tupla\n",
    "\n",
    "arr = np.array((1,2,3,4,5))\n",
    "print(arr)"
   ]
  },
  {
   "cell_type": "code",
   "execution_count": 48,
   "id": "8bd79035-3329-4b38-b70f-9efb078c4bf3",
   "metadata": {},
   "outputs": [
    {
     "name": "stdout",
     "output_type": "stream",
     "text": [
      "42\n"
     ]
    }
   ],
   "source": [
    "#### Dimenciones en Matrices\n",
    "### Matriz Anidada : Son Matrices que tienen matrices como elementos\n",
    "### Matrices 0-D\n",
    "###Las Matrices 0-D, o escalares, son elementos de una Matriz. Cada Valor de una Matriz es una matriz 0-D\n",
    "### Ejemplo: Crear una Matriz 0-D con valor 42\n",
    "arr=np.array(42)\n",
    "print(arr)\n",
    "\n",
    "\n"
   ]
  },
  {
   "cell_type": "code",
   "execution_count": 49,
   "id": "d41f4ab1-bc2e-4b50-941d-15949e29277b",
   "metadata": {},
   "outputs": [
    {
     "name": "stdout",
     "output_type": "stream",
     "text": [
      "[1 2 3 4 5]\n"
     ]
    }
   ],
   "source": [
    "### Matrices 1-D : Una Mariz que tiene matrices 0-D como elementos se llama Matriz unidimensional o 1-D\n",
    "### Estas son las matrices mas comunes y basicas:\n",
    "### Ejemplo cree una matriz 1-D que contenga los valores 1,2,3,4,5:\n",
    "arr = np.array([1,2,3,4,5])\n",
    "print(arr)\n"
   ]
  },
  {
   "cell_type": "code",
   "execution_count": 50,
   "id": "cc235109-ce43-4d82-b4c8-d42a421fcfa5",
   "metadata": {},
   "outputs": [
    {
     "name": "stdout",
     "output_type": "stream",
     "text": [
      "[[1 2 3]\n",
      " [4 5 6]]\n"
     ]
    }
   ],
   "source": [
    "### Matrices 2-D\n",
    "### Una Matriz que tiene matrices 1-D como elementos se llama Matriz 2-D, se utilizan a manudo para representar matrices o tensores de segundo orden\n",
    "### numpy tiene un submodulo completo dedicado a operaciones matriciales llamado numpy.mat\n",
    "### Ejemplo: Cree una matriz 2-D que contenga dos matrices con los valores 1,2,3 y 4,5,6\n",
    "arr = np.array([[1,2,3],[4,5,6]])\n",
    "print(arr)"
   ]
  },
  {
   "cell_type": "code",
   "execution_count": 51,
   "id": "5de230bc-8bad-4460-9225-f3ad38445cdc",
   "metadata": {},
   "outputs": [
    {
     "name": "stdout",
     "output_type": "stream",
     "text": [
      "[[[1 2 3]\n",
      "  [4 5 6]]\n",
      "\n",
      " [[1 2 3]\n",
      "  [4 5 6]]]\n"
     ]
    }
   ],
   "source": [
    "### Matrices 3-D\n",
    "### Una matriz que tiene matrices 2D(matrices) como elementos se llama matriz 3D\n",
    "### Se utiizan a menudo para representar un tensor de tercer orden\n",
    "### Ejemplo: Crear una mariz 3D con dos matrices 2D, ambas conteniendo dos matrices con los valores 1,2,3 y 4,5,6:\n",
    "\n",
    "arr=np.array([[[1,2,3],[4,5,6]],[[1,2,3],[4,5,6]]])\n",
    "print(arr)"
   ]
  },
  {
   "cell_type": "code",
   "execution_count": 53,
   "id": "d62a8b48-aced-4061-8ba9-0d84cd5e225b",
   "metadata": {},
   "outputs": [
    {
     "name": "stdout",
     "output_type": "stream",
     "text": [
      "0\n",
      "1\n",
      "2\n",
      "3\n"
     ]
    }
   ],
   "source": [
    "### Verificar numero de dimensiones\n",
    "### Numpy Arrays proporciona el ndim atributo que devuelve un numero entero que nos dice cuantas dimensiones tiene la matriz\n",
    "### Ejemplo: Compruebe cuantas dimensiones tienen las matrices\n",
    "\n",
    "a = np.array(42)\n",
    "b = np.array([1, 2, 3, 4, 5])\n",
    "c = np.array([[1, 2, 3], [4, 5, 6]])\n",
    "d = np.array([[[1, 2, 3], [4, 5, 6]], [[1, 2, 3], [4, 5, 6]]])\n",
    "\n",
    "print(a.ndim)\n",
    "print(b.ndim)\n",
    "print(c.ndim)\n",
    "print(d.ndim)"
   ]
  },
  {
   "cell_type": "code",
   "execution_count": 54,
   "id": "b424e1d6-71f7-4f35-8337-200151376a84",
   "metadata": {},
   "outputs": [
    {
     "name": "stdout",
     "output_type": "stream",
     "text": [
      "[[[[[1 2 3 4]]]]]\n"
     ]
    }
   ],
   "source": [
    "### Matrices de dimensiones superiores\n",
    "### Una Matriz puede tener cualquier numero de dimensiones. Cuando se crea la matriz, puede definir el numero de dimensiones\n",
    "### Utilizando el ndmin argumento.\n",
    "### Ejemplo : Crear una matriz de 5 dimensiones y verifique que tenga 5 dimensiones\n",
    "\n",
    "arr = np.array([1,2,3,4], ndmin=5)\n",
    "print(arr)"
   ]
  },
  {
   "cell_type": "code",
   "execution_count": 42,
   "id": "525930f0-76cf-4c37-8984-af3efc07e14f",
   "metadata": {},
   "outputs": [
    {
     "name": "stdout",
     "output_type": "stream",
     "text": [
      "[[[1 2 3]\n",
      "  [4 5 6]]\n",
      "\n",
      " [[1 2 3]\n",
      "  [4 5 6]]\n",
      "\n",
      " [[1 2 3]\n",
      "  [4 5 6]]]\n"
     ]
    }
   ],
   "source": [
    "l=np.array([[[1,2,3],[4,5,6],[7,8,9]],[[1,2,3],[4,5,6],[7,8,9]],[[1,2,3],[4,5,6],[7,8,9]]],)\n",
    "print(arr)"
   ]
  },
  {
   "cell_type": "code",
   "execution_count": 26,
   "id": "804dd1e0-3eb9-493b-8220-8a876d4257ad",
   "metadata": {},
   "outputs": [
    {
     "name": "stdout",
     "output_type": "stream",
     "text": [
      "3\n"
     ]
    }
   ],
   "source": [
    "print(l.ndim)"
   ]
  },
  {
   "cell_type": "code",
   "execution_count": 55,
   "id": "2cdf547b-841f-46cd-b333-ef1add85c511",
   "metadata": {},
   "outputs": [
    {
     "name": "stdout",
     "output_type": "stream",
     "text": [
      "[[[1 2 3]\n",
      "  [4 5 6]\n",
      "  [7 8 9]]\n",
      "\n",
      " [[1 2 3]\n",
      "  [4 5 6]\n",
      "  [7 8 9]]\n",
      "\n",
      " [[1 2 3]\n",
      "  [4 5 6]\n",
      "  [7 8 9]]]\n"
     ]
    }
   ],
   "source": [
    "l2=np.array([[[1,2,3,0],[4,5,6,0],[7,8,9,0]],[[1,2,3,0],[4,5,6,0],[7,8,9,0]],[[1,2,3,0],[4,5,6,0],[7,8,9,0]]])\n",
    "print(l)"
   ]
  },
  {
   "cell_type": "code",
   "execution_count": 37,
   "id": "d882254e-5984-4090-90ae-6ef046f082a5",
   "metadata": {},
   "outputs": [
    {
     "name": "stdout",
     "output_type": "stream",
     "text": [
      "3\n"
     ]
    }
   ],
   "source": [
    "print(l2.ndim)"
   ]
  },
  {
   "cell_type": "code",
   "execution_count": null,
   "id": "7025431f-8daa-4074-8527-58ee9e4da94d",
   "metadata": {},
   "outputs": [],
   "source": []
  }
 ],
 "metadata": {
  "kernelspec": {
   "display_name": "Python 3 (ipykernel)",
   "language": "python",
   "name": "python3"
  },
  "language_info": {
   "codemirror_mode": {
    "name": "ipython",
    "version": 3
   },
   "file_extension": ".py",
   "mimetype": "text/x-python",
   "name": "python",
   "nbconvert_exporter": "python",
   "pygments_lexer": "ipython3",
   "version": "3.11.7"
  }
 },
 "nbformat": 4,
 "nbformat_minor": 5
}
