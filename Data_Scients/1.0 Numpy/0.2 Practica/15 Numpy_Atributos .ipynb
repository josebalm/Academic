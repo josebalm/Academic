{
 "cells": [
  {
   "cell_type": "code",
   "execution_count": 1,
   "id": "84b20797",
   "metadata": {},
   "outputs": [
    {
     "name": "stdout",
     "output_type": "stream",
     "text": [
      "3\n"
     ]
    }
   ],
   "source": [
    "### ndim = cantidad de dimensiones de un array\n",
    "import numpy as np\n",
    "x = np.array([[[3,4,5]]])\n",
    "print(x.ndim)"
   ]
  },
  {
   "cell_type": "code",
   "execution_count": 13,
   "id": "dda015f5",
   "metadata": {},
   "outputs": [
    {
     "name": "stdout",
     "output_type": "stream",
     "text": [
      "(1, 1, 3)\n"
     ]
    }
   ],
   "source": [
    "### Shape\n",
    "### Tupla con las dimensiones del array\n",
    "\n",
    "print(x.shape)"
   ]
  },
  {
   "cell_type": "code",
   "execution_count": 2,
   "id": "7e363454",
   "metadata": {},
   "outputs": [
    {
     "name": "stdout",
     "output_type": "stream",
     "text": [
      "3\n"
     ]
    }
   ],
   "source": [
    "print(len(x.shape))"
   ]
  },
  {
   "cell_type": "code",
   "execution_count": null,
   "id": "03bf1a69",
   "metadata": {},
   "outputs": [],
   "source": [
    "### Observacion: len(x.shape)== x.ndim"
   ]
  },
  {
   "cell_type": "code",
   "execution_count": 3,
   "id": "b3028874",
   "metadata": {},
   "outputs": [
    {
     "name": "stdout",
     "output_type": "stream",
     "text": [
      "3\n",
      "3\n",
      "12\n",
      "12\n"
     ]
    }
   ],
   "source": [
    "### Size : Cantidad de Elementos de un Array\n",
    "\n",
    "import numpy as np\n",
    "y = np.array([[[1, 2, 3], [4, 5, 6]], [[1, 2, 3], [4, 5, 6]]])\n",
    "\n",
    "## Resultados iguales\n",
    "print(y.ndim)\n",
    "print(len(y.shape))\n",
    "\n",
    "### Resultados iguales\n",
    "print(y.size)\n",
    "print(np.prod(y.shape))\n"
   ]
  },
  {
   "cell_type": "code",
   "execution_count": null,
   "id": "a80a0a1b",
   "metadata": {},
   "outputs": [],
   "source": []
  }
 ],
 "metadata": {
  "kernelspec": {
   "display_name": "Python 3 (ipykernel)",
   "language": "python",
   "name": "python3"
  },
  "language_info": {
   "codemirror_mode": {
    "name": "ipython",
    "version": 3
   },
   "file_extension": ".py",
   "mimetype": "text/x-python",
   "name": "python",
   "nbconvert_exporter": "python",
   "pygments_lexer": "ipython3",
   "version": "undefined.undefined.undefined"
  }
 },
 "nbformat": 4,
 "nbformat_minor": 5
}
