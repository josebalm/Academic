{
 "cells": [
  {
   "cell_type": "markdown",
   "id": "d5942f03-cfe4-429d-81d3-a8bfba99dd69",
   "metadata": {},
   "source": [
    "Buscando matrices\n",
    "Puede buscar en una matriz un valor determinado y devolver los índices que coinciden.\n",
    "\n",
    "Para buscar una matriz, utilice el where()método."
   ]
  },
  {
   "cell_type": "code",
   "execution_count": 10,
   "id": "c241657d-5a04-4888-a185-288f0ad0192d",
   "metadata": {},
   "outputs": [
    {
     "name": "stdout",
     "output_type": "stream",
     "text": [
      "(array([3, 5, 6]),)\n"
     ]
    }
   ],
   "source": [
    "## Ejemplo obtenga su propio servidor Python\n",
    "## Encuentre los índices donde el valor es 4:\n",
    "\n",
    "import numpy as np\n",
    "\n",
    "arr = np.array([1, 2, 3, 4, 5, 4, 4])\n",
    "\n",
    "x = np.where(arr == 4)\n",
    "\n",
    "print(x)\n",
    "\n",
    "## El ejemplo anterior devolverá una tupla:(array([3, 5, 6],)\n",
    "\n",
    "### Lo que significa que el valor 4 está presente en los índices 3, 5 y 6.\n"
   ]
  },
  {
   "cell_type": "code",
   "execution_count": null,
   "id": "32e57e5e-5208-41f3-840d-0f73dcac3255",
   "metadata": {},
   "outputs": [],
   "source": [
    "### Encuentre los \"\"\"indices\"\" donde los valores son pares"
   ]
  },
  {
   "cell_type": "code",
   "execution_count": 11,
   "id": "b8b15720-e13e-4ffa-99d5-4422a008d091",
   "metadata": {},
   "outputs": [
    {
     "name": "stdout",
     "output_type": "stream",
     "text": [
      "(array([1, 3, 5, 7]),)\n"
     ]
    }
   ],
   "source": [
    "import numpy as np\n",
    "\n",
    "arr = np.array([1, 2, 3, 4, 5, 6, 7, 8])\n",
    "\n",
    "x = np.where(arr%2 == 0)\n",
    "\n",
    "print(x)"
   ]
  },
  {
   "cell_type": "code",
   "execution_count": 3,
   "id": "79ee993e-dd1c-4c75-9a7b-659b1884ae5c",
   "metadata": {},
   "outputs": [
    {
     "name": "stdout",
     "output_type": "stream",
     "text": [
      "(array([0, 2, 4, 6]),)\n"
     ]
    }
   ],
   "source": [
    "### Encuentre los \"\"\"indices\"\" donde los valores son inpares\n",
    "import numpy as np\n",
    "\n",
    "arr = np.array([1, 2, 3, 4, 5, 6, 7, 8])\n",
    "\n",
    "x = np.where(arr%2 == 1)\n",
    "\n",
    "print(x)"
   ]
  },
  {
   "cell_type": "markdown",
   "id": "46d88c8c-59c5-443a-bde7-4143ace7b206",
   "metadata": {},
   "source": [
    "Búsqueda ordenada\n",
    "Existe un método llamado searchsorted()que realiza una búsqueda binaria en la matriz y devuelve el índice donde se insertaría el valor especificado para mantener el orden de búsqueda.\n",
    "\n",
    "Se supone que el searchsorted()método se utiliza en matrices ordenadas."
   ]
  },
  {
   "cell_type": "code",
   "execution_count": 4,
   "id": "2be4499f-f748-4fc2-b936-fce28af2528d",
   "metadata": {},
   "outputs": [
    {
     "name": "stdout",
     "output_type": "stream",
     "text": [
      "1\n"
     ]
    }
   ],
   "source": [
    "### Ejemplo : Encuentre los índices donde se debe insertar el valor 7:\n",
    "\n",
    "import numpy as np\n",
    "\n",
    "arr = np.array([6, 7, 8, 9])\n",
    "\n",
    "x = np.searchsorted(arr, 7)\n",
    "\n",
    "print(x)"
   ]
  },
  {
   "cell_type": "markdown",
   "id": "ff72ee87-cf61-4f66-9c0e-7e1355fdfaa1",
   "metadata": {},
   "source": [
    "Ejemplo explicado: el número 7 debe insertarse en el índice 1 para seguir siendo el orden de clasificación.\n",
    "\n",
    "El método inicia la búsqueda desde la izquierda y devuelve el primer índice donde el número 7 ya no es mayor que el siguiente valor.\n",
    "\n",
    "Buscar desde el lado derecho\n",
    "De forma predeterminada, se devuelve el índice más a la izquierda, pero side='right'en su lugar podemos devolver el índice más a la derecha."
   ]
  },
  {
   "cell_type": "code",
   "execution_count": 12,
   "id": "124d0e81-ea66-480f-927c-681f11704b45",
   "metadata": {},
   "outputs": [
    {
     "name": "stdout",
     "output_type": "stream",
     "text": [
      "2\n"
     ]
    }
   ],
   "source": [
    "import numpy as np\n",
    "\n",
    "arr = np.array([6, 7, 8, 9])\n",
    "\n",
    "x = np.searchsorted(arr, 7, side='right')\n",
    "\n",
    "print(x)\n",
    "\n",
    "### Ejemplo explicado: el número 7 debe insertarse en el índice 2 para seguir siendo el orden de clasificación.\n",
    "\n",
    "### El método inicia la búsqueda desde la derecha y devuelve el primer índice donde el número 7 ya no es menor que el siguiente valor.\n"
   ]
  },
  {
   "cell_type": "markdown",
   "id": "82a7c7c6-4dd3-481f-82ca-2924bb69d683",
   "metadata": {},
   "source": [
    "Múltiples valores\n",
    "Para buscar más de un valor, utilice una matriz con los valores especificados.\n",
    "\n",
    "Ejemplo\n",
    "Encuentre los índices donde se deben insertar los valores 2, 4 y 6:"
   ]
  },
  {
   "cell_type": "code",
   "execution_count": 15,
   "id": "bebe9358-694e-4591-a006-af5494f9f213",
   "metadata": {},
   "outputs": [
    {
     "name": "stdout",
     "output_type": "stream",
     "text": [
      "[1 2 3]\n"
     ]
    }
   ],
   "source": [
    "import numpy as np\n",
    "\n",
    "arr = np.array([1, 3, 5, 7])\n",
    "\n",
    "x = np.searchsorted(arr, [2, 4, 6])\n",
    "\n",
    "print(x)"
   ]
  },
  {
   "cell_type": "code",
   "execution_count": 17,
   "id": "eab4175e-92d0-4e2a-9c5a-9bdf168e9e10",
   "metadata": {},
   "outputs": [
    {
     "name": "stdout",
     "output_type": "stream",
     "text": [
      "[1 2 3]\n"
     ]
    }
   ],
   "source": [
    "print(x)"
   ]
  },
  {
   "cell_type": "code",
   "execution_count": 14,
   "id": "8766bc1e-c756-4632-9382-9e660474f7cb",
   "metadata": {},
   "outputs": [
    {
     "data": {
      "text/plain": [
       "2"
      ]
     },
     "execution_count": 14,
     "metadata": {},
     "output_type": "execute_result"
    }
   ],
   "source": []
  },
  {
   "cell_type": "code",
   "execution_count": null,
   "id": "e8168e80-b172-4826-a0c8-399b7e59147a",
   "metadata": {},
   "outputs": [],
   "source": []
  }
 ],
 "metadata": {
  "kernelspec": {
   "display_name": "Python 3 (ipykernel)",
   "language": "python",
   "name": "python3"
  },
  "language_info": {
   "codemirror_mode": {
    "name": "ipython",
    "version": 3
   },
   "file_extension": ".py",
   "mimetype": "text/x-python",
   "name": "python",
   "nbconvert_exporter": "python",
   "pygments_lexer": "ipython3",
   "version": "3.11.7"
  }
 },
 "nbformat": 4,
 "nbformat_minor": 5
}
