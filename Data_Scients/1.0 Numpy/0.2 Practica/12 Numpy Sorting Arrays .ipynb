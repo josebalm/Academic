{
 "cells": [
  {
   "cell_type": "markdown",
   "id": "f21ae655-26a4-42fa-9289-e94c19228791",
   "metadata": {},
   "source": [
    "Ordenar matrices\n",
    "Ordenar significa poner elementos en una secuencia ordenada .\n",
    "\n",
    "Secuencia ordenada es cualquier secuencia que tiene un orden correspondiente a elementos, como numérico o alfabético, ascendente o descendente.\n",
    "\n",
    "El objeto NumPy ndarray tiene una función llamada sort()que ordenará una matriz específica."
   ]
  },
  {
   "cell_type": "code",
   "execution_count": 1,
   "id": "e9088f95-9747-430a-8e5b-bea50e41f41d",
   "metadata": {},
   "outputs": [
    {
     "name": "stdout",
     "output_type": "stream",
     "text": [
      "[0 1 2 3]\n"
     ]
    }
   ],
   "source": [
    "import numpy as np\n",
    "\n",
    "arr = np.array([3, 2, 0, 1])\n",
    "\n",
    "print(np.sort(arr))\n",
    "\n",
    "## Nota: Este método devuelve una copia de la matriz, sin modificar la matriz original."
   ]
  },
  {
   "cell_type": "code",
   "execution_count": 9,
   "id": "3ffb6acf-ace8-4672-b0c6-5bb5506c2c67",
   "metadata": {},
   "outputs": [
    {
     "name": "stdout",
     "output_type": "stream",
     "text": [
      "[0 1 2 3]\n",
      "None\n"
     ]
    }
   ],
   "source": [
    "### Otro Ejemplo\n",
    "import numpy as np\n",
    "\n",
    "arr = np.array([3, 2, 0, 1])\n",
    "\n",
    "newarray = np.sort(arr)\n",
    "print(newarray)\n",
    "print(newarray.base) ### El resultado es none, por tanto se determina que es una copia del array original"
   ]
  },
  {
   "cell_type": "code",
   "execution_count": 10,
   "id": "6864c531-7ae3-45de-aac1-35e3c24b4b94",
   "metadata": {},
   "outputs": [
    {
     "name": "stdout",
     "output_type": "stream",
     "text": [
      "['apple' 'banana' 'cherry']\n"
     ]
    }
   ],
   "source": [
    "### También puedes ordenar matrices de cadenas o cualquier otro tipo de datos:\n",
    "### Ejemplo Ordene la matriz alfabéticamente:\n",
    "import numpy as np\n",
    "\n",
    "arr = np.array(['banana', 'cherry', 'apple'])\n",
    "\n",
    "print(np.sort(arr))"
   ]
  },
  {
   "cell_type": "code",
   "execution_count": 11,
   "id": "de3c0e9f-4b17-4b2d-9a7e-4adba5c8b0aa",
   "metadata": {},
   "outputs": [
    {
     "name": "stdout",
     "output_type": "stream",
     "text": [
      "[False False False False  True  True]\n"
     ]
    }
   ],
   "source": [
    "### Ejemplo Ordenar una matriz booleana:\n",
    "import numpy as np\n",
    "\n",
    "arr = np.array([True, False, True, False, False, False])\n",
    "\n",
    "print(np.sort(arr))\n",
    "\n"
   ]
  },
  {
   "cell_type": "code",
   "execution_count": 13,
   "id": "976dc99e-4561-4d6e-9340-4a8c3b5c6372",
   "metadata": {},
   "outputs": [
    {
     "name": "stdout",
     "output_type": "stream",
     "text": [
      "[[2 3 4]\n",
      " [0 1 5]]\n"
     ]
    }
   ],
   "source": [
    "### Ordenar una Matriz 2-D\n",
    "import numpy as np\n",
    "\n",
    "arr = np.array([[3, 2, 4], [5, 0, 1]])\n",
    "\n",
    "print(np.sort(arr))\n"
   ]
  },
  {
   "cell_type": "code",
   "execution_count": null,
   "id": "0275e699-cf62-4a03-adab-fafc0874a93f",
   "metadata": {},
   "outputs": [],
   "source": []
  }
 ],
 "metadata": {
  "kernelspec": {
   "display_name": "Python 3 (ipykernel)",
   "language": "python",
   "name": "python3"
  },
  "language_info": {
   "codemirror_mode": {
    "name": "ipython",
    "version": 3
   },
   "file_extension": ".py",
   "mimetype": "text/x-python",
   "name": "python",
   "nbconvert_exporter": "python",
   "pygments_lexer": "ipython3",
   "version": "3.11.7"
  }
 },
 "nbformat": 4,
 "nbformat_minor": 5
}
