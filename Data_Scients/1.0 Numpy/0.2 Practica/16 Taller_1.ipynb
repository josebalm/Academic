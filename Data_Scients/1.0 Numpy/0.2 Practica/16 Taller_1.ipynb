{
 "cells": [
  {
   "cell_type": "code",
   "execution_count": 1,
   "id": "cdf1f12b",
   "metadata": {},
   "outputs": [],
   "source": [
    "import numpy as np\n",
    "import os.path"
   ]
  },
  {
   "cell_type": "markdown",
   "id": "836c30de",
   "metadata": {},
   "source": [
    "#### Paso 1: Utilizo un DEF para leer la data y traer los datos, en este caso los datos de presipitaciones estan en la posicion [:,3] (Todas las filas, columna 3)"
   ]
  },
  {
   "cell_type": "code",
   "execution_count": 2,
   "id": "e36b803b",
   "metadata": {},
   "outputs": [],
   "source": [
    "def precipitaciones(data):  \n",
    "    result = data[:, 3]\n",
    "    return result\n"
   ]
  },
  {
   "cell_type": "code",
   "execution_count": 3,
   "id": "b6754b53",
   "metadata": {},
   "outputs": [],
   "source": [
    "data_location = os.path.abspath('Seattle2014.csv')\n",
    "data = np.genfromtxt(data_location, skip_header=1, delimiter=',')\n",
    "data\n",
    "\n",
    "precip = precipitaciones(data)\n"
   ]
  },
  {
   "cell_type": "code",
   "execution_count": 4,
   "id": "34ab0a3f",
   "metadata": {},
   "outputs": [
    {
     "name": "stdout",
     "output_type": "stream",
     "text": [
      "[  0.  41.  15.   0.   0.   3. 122.  97.  58.  43. 213.  15.   0.   0.\n",
      "   0.   0.   0.   0.   0.   0.   0.   5.   0.   0.   0.   0.   0.  89.\n",
      " 216.   0.  23.  20.   0.   0.   0.   0.   0.   0.  51.   5. 183. 170.\n",
      "  46.  18.  94. 117. 264. 145. 152.  10.  30.  28.  25.  61. 130.   3.\n",
      "   0.   0.   0.   5. 191. 107. 165. 467.  30.   0. 323.  43. 188.   0.\n",
      "   0.   5.  69.  81. 277.   3.   0.   5.   0.   0.   0.   0.   0.  41.\n",
      "  36.   3. 221. 140.   0.   0.   0.   0.  25.   0.  46.   0.   0.  46.\n",
      "   0.   0.   0.   0.   0.   0.   5. 109. 185.   0. 137.   0.  51. 142.\n",
      "  89. 124.   0.  33.  69.   0.   0.   0.   0.   0. 333. 160.  51.   0.\n",
      "   0. 137.  20.   5.   0.   0.   0.   0.   0.   0.   0.   0.   0.   0.\n",
      "   0.   0.  38.   0.  56.   0.   0.   0.   0.   0.   0.   0.   0.   0.\n",
      "   0.   0.   0.   0.   0.   0.   0.   0.  18.  64.   0.   5.  36.  13.\n",
      "   0.   8.   3.   0.   0.   0.   0.   0.   0.  18.  23.   0.   0.   0.\n",
      "   0.   0.   0.   0.   0.   0.   0.   0.   0.   0.   0.   0.   0.   0.\n",
      "   0.   0.   0.   0.   0.   0.   3. 193.   0.   0.   0.   0.   0.   0.\n",
      "   0.   0.   0.   5.   0.   0.   0.   0.   0.   0.   0.   0.   5. 127.\n",
      " 216.   0.  10.   0.   0.   0.   0.   0.   0.   0.   0.   0.   0.   0.\n",
      "   0.   0.   0.  84.  13.   0.  30.   0.   0.   0.   0.   0.   0.   0.\n",
      "   0.   0.   0.   0.   0.   0.   0.   5.   3.   0.   0.   0.   3. 183.\n",
      " 203.  43.  89.   0.   0.   8.   0.   0.   0.   0.   0.   0.   0.   0.\n",
      "   0.   0.   3.  74.   0.  76.  71.  86.   0.  33. 150.   0. 117.  10.\n",
      " 320.  94.  41.  61.  15.   8. 127.   5. 254. 170.   0.  18. 109.  41.\n",
      "  48.  41.   0.   0.  51.   0.   0.   0.   0.   0.   0.   0.   0.   0.\n",
      "   0.  36. 152.   5. 119.  13. 183.   3.  33. 343.  36.   0.   0.   0.\n",
      "   0.   8.  30.  74.   0.  91.  99. 130.  69.   0.   0.   0.   0.   0.\n",
      "  28. 130.  30. 196.   0.   0. 206.  53.   0.   0.  33.  41.   0.   0.\n",
      "   0.]\n",
      "365\n"
     ]
    }
   ],
   "source": [
    "print(precip) ### Aca confirmo que ya he leido toda la data y se extraen los datos de interes\n",
    "print(len(precip))"
   ]
  },
  {
   "cell_type": "markdown",
   "id": "b9e8d394",
   "metadata": {},
   "source": [
    "#### DIAS SIN LLUVIA"
   ]
  },
  {
   "cell_type": "code",
   "execution_count": 5,
   "id": "c199bda2",
   "metadata": {},
   "outputs": [],
   "source": [
    "def cant_dias_sin_lluvia(precip):  ### Teniendo en cueta queya tengo la data leida en el paso anterior y en la variable \"precip\", ejecuto el DEF\n",
    "    sin_lluvia_mask = precip == 0\n",
    "    sin_lluvia = precip[sin_lluvia_mask]\n",
    "    result = len(sin_lluvia)\n",
    "    return result"
   ]
  },
  {
   "cell_type": "code",
   "execution_count": 6,
   "id": "73c30b74",
   "metadata": {},
   "outputs": [
    {
     "name": "stdout",
     "output_type": "stream",
     "text": [
      "215\n"
     ]
    }
   ],
   "source": [
    "### Dias sin lluvia\n",
    "\n",
    "resultado = cant_dias_sin_lluvia(precip)\n",
    "print(resultado)\n"
   ]
  },
  {
   "cell_type": "code",
   "execution_count": null,
   "id": "89531e66",
   "metadata": {},
   "outputs": [],
   "source": [
    "#### Hago corroboracion de lo anterior, sin utilizar el DEF y voy paso a paso."
   ]
  },
  {
   "cell_type": "code",
   "execution_count": 7,
   "id": "04beb190",
   "metadata": {},
   "outputs": [
    {
     "name": "stdout",
     "output_type": "stream",
     "text": [
      "[ True False False  True  True False False False False False False False\n",
      "  True  True  True  True  True  True  True  True  True False  True  True\n",
      "  True  True  True False False  True False False  True  True  True  True\n",
      "  True  True False False False False False False False False False False\n",
      " False False False False False False False False  True  True  True False\n",
      " False False False False False  True False False False  True  True False\n",
      " False False False False  True False  True  True  True  True  True False\n",
      " False False False False  True  True  True  True False  True False  True\n",
      "  True False  True  True  True  True  True  True False False False  True\n",
      " False  True False False False False  True False False  True  True  True\n",
      "  True  True False False False  True  True False False False  True  True\n",
      "  True  True  True  True  True  True  True  True  True  True False  True\n",
      " False  True  True  True  True  True  True  True  True  True  True  True\n",
      "  True  True  True  True  True  True False False  True False False False\n",
      "  True False False  True  True  True  True  True  True False False  True\n",
      "  True  True  True  True  True  True  True  True  True  True  True  True\n",
      "  True  True  True  True  True  True  True  True  True  True False False\n",
      "  True  True  True  True  True  True  True  True  True False  True  True\n",
      "  True  True  True  True  True  True False False False  True False  True\n",
      "  True  True  True  True  True  True  True  True  True  True  True  True\n",
      "  True False False  True False  True  True  True  True  True  True  True\n",
      "  True  True  True  True  True  True  True False False  True  True  True\n",
      " False False False False False  True  True False  True  True  True  True\n",
      "  True  True  True  True  True  True False False  True False False False\n",
      "  True False False  True False False False False False False False False\n",
      " False False False False  True False False False False False  True  True\n",
      " False  True  True  True  True  True  True  True  True  True  True False\n",
      " False False False False False False False False False  True  True  True\n",
      "  True False False False  True False False False False  True  True  True\n",
      "  True  True False False False False  True  True False False  True  True\n",
      " False False  True  True  True]\n"
     ]
    }
   ],
   "source": [
    "mask_sin_lluvia = precip == 0\n",
    "print(mask_sin_lluvia)"
   ]
  },
  {
   "cell_type": "code",
   "execution_count": 122,
   "id": "3fe183fc",
   "metadata": {},
   "outputs": [
    {
     "name": "stdout",
     "output_type": "stream",
     "text": [
      "215\n"
     ]
    }
   ],
   "source": [
    "print(len(precip[mask_sin_lluvia])) ### El resultado es el mismo. 215 dias sin lluvia."
   ]
  },
  {
   "cell_type": "markdown",
   "id": "344e38f8",
   "metadata": {},
   "source": [
    "#### CANTIDAD DE DIAS CON LLUVIA : EL VALOR DE LAS PRECIPITACIONES ES MAYOR A CERO 0"
   ]
  },
  {
   "cell_type": "code",
   "execution_count": 128,
   "id": "ee577944",
   "metadata": {},
   "outputs": [],
   "source": [
    "def cant_dias_con_lluvia(precip):\n",
    "    con_lluvia_mask = precip != 0\n",
    "    con_lluvia = precip[con_lluvia_mask]\n",
    "    result = len(con_lluvia)\n",
    "    return result\n"
   ]
  },
  {
   "cell_type": "code",
   "execution_count": 129,
   "id": "d45d22d0",
   "metadata": {},
   "outputs": [
    {
     "name": "stdout",
     "output_type": "stream",
     "text": [
      "150\n"
     ]
    }
   ],
   "source": [
    "resultado = cant_dias_con_lluvia(precip)\n",
    "print(resultado) ### Resultado 150 dias con lluvia"
   ]
  },
  {
   "cell_type": "markdown",
   "id": "b2f31606",
   "metadata": {},
   "source": [
    "#### CANTIDAD DE DIAS CON LLUVIA : EL VALOR DE LAS PRECIPITACIONES ES MAYOR A 100"
   ]
  },
  {
   "cell_type": "code",
   "execution_count": null,
   "id": "3e3dc82a",
   "metadata": {},
   "outputs": [],
   "source": [
    "\n",
    "def cant_dias_con_lluvia_mayor_100(precip):\n",
    "    con_lluvia_mayor_100_mask = precip > 100\n",
    "    con_lluvia_mayor_100 = precip[con_lluvia_mayor_100_mask]\n",
    "    result = len(con_lluvia_mayor_100)\n",
    "    return result\n",
    "\n"
   ]
  },
  {
   "cell_type": "code",
   "execution_count": 130,
   "id": "1eb6d52d",
   "metadata": {},
   "outputs": [
    {
     "name": "stdout",
     "output_type": "stream",
     "text": [
      "47\n"
     ]
    }
   ],
   "source": [
    "resultado = cant_dias_con_lluvia_mayor_100(precip)\n",
    "print(resultado) ### Resultado 47 dias con lluvia"
   ]
  },
  {
   "cell_type": "markdown",
   "id": "fa098061",
   "metadata": {},
   "source": [
    "#### CANTIDAD DE DIAS CON LLUVIA : EL VALOR DE LAS PRECIPITACIONES ES MAYOR A 100"
   ]
  },
  {
   "cell_type": "code",
   "execution_count": 131,
   "id": "2945cb66",
   "metadata": {},
   "outputs": [],
   "source": [
    "def cant_dias_con_lluvia_menorigual_100(precip):\n",
    "    con_lluvia_menorigual_100_mask = (precip <= 100) & (precip > 0)\n",
    "    con_lluvia_menorigual_100 = precip[con_lluvia_menorigual_100_mask]\n",
    "    result = len(con_lluvia_menorigual_100)\n",
    "    return result"
   ]
  },
  {
   "cell_type": "code",
   "execution_count": 132,
   "id": "96b4cffc",
   "metadata": {},
   "outputs": [
    {
     "name": "stdout",
     "output_type": "stream",
     "text": [
      "103\n"
     ]
    }
   ],
   "source": [
    "resultado = cant_dias_con_lluvia_menorigual_100(precip)\n",
    "print(resultado) ### Resultado 103 dias con lluvia"
   ]
  },
  {
   "cell_type": "code",
   "execution_count": null,
   "id": "8f451dda",
   "metadata": {},
   "outputs": [],
   "source": []
  }
 ],
 "metadata": {
  "kernelspec": {
   "display_name": "Python 3 (ipykernel)",
   "language": "python",
   "name": "python3"
  },
  "language_info": {
   "codemirror_mode": {
    "name": "ipython",
    "version": 3
   },
   "file_extension": ".py",
   "mimetype": "text/x-python",
   "name": "python",
   "nbconvert_exporter": "python",
   "pygments_lexer": "ipython3",
   "version": "3.8.18"
  }
 },
 "nbformat": 4,
 "nbformat_minor": 5
}
