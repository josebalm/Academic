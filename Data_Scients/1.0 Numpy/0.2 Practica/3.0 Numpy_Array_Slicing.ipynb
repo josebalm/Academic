{
 "cells": [
  {
   "cell_type": "code",
   "execution_count": 19,
   "id": "f315cbd7-7959-46bd-b0eb-9cfacc3066f5",
   "metadata": {},
   "outputs": [
    {
     "name": "stdout",
     "output_type": "stream",
     "text": [
      "[2 3 4 5]\n"
     ]
    }
   ],
   "source": [
    "### Slicing significa tomar elementos de un indice determinado a otro indice determinado\n",
    "### Pasamos segmentos en lugar de indice asi: [start:end]\n",
    "### Tambien se pueden definir el paso asi [start:end:step]\n",
    "### Si no pasamos el inicio de considera cero\n",
    "### Si no pasamos el fin de la longitud considerada de la matriz en esa dimension\n",
    "### si no pasamos el paso se considera 1\n",
    "### Ejemplo: Corte elementos del indice 1 al indice 5 de la siguiente matriz\n",
    "\n",
    "import numpy as np\n",
    "\n",
    "arr = np.array([1, 2, 3, 4, 5, 6, 7])\n",
    "\n",
    "print(arr[1:5])\n",
    "\n"
   ]
  },
  {
   "cell_type": "code",
   "execution_count": 2,
   "id": "0f16848a-e22f-4433-a659-49733fa9f698",
   "metadata": {},
   "outputs": [
    {
     "name": "stdout",
     "output_type": "stream",
     "text": [
      "[5 6 7]\n"
     ]
    }
   ],
   "source": [
    "arr = np.array([1, 2, 3, 4, 5, 6, 7])\n",
    "\n",
    "print(arr[4:])"
   ]
  },
  {
   "cell_type": "code",
   "execution_count": 3,
   "id": "693f7fd4-1db2-4976-8377-0824038a92ee",
   "metadata": {},
   "outputs": [
    {
     "name": "stdout",
     "output_type": "stream",
     "text": [
      "[1 2 3 4]\n"
     ]
    }
   ],
   "source": [
    "arr = np.array([1, 2, 3, 4, 5, 6, 7])\n",
    "\n",
    "print(arr[:4])"
   ]
  },
  {
   "cell_type": "code",
   "execution_count": 20,
   "id": "8c84bec0-1cfc-4112-92a7-acfa01a4635c",
   "metadata": {},
   "outputs": [
    {
     "name": "stdout",
     "output_type": "stream",
     "text": [
      "[5 6]\n"
     ]
    }
   ],
   "source": [
    "### Negative Slicing\n",
    "\n",
    "arr = np.array([1, 2, 3, 4, 5, 6, 7])\n",
    "\n",
    "print(arr[-3:-1])"
   ]
  },
  {
   "cell_type": "code",
   "execution_count": 21,
   "id": "2c7b47ab-283f-4a63-817a-9386ac7c27e9",
   "metadata": {},
   "outputs": [
    {
     "name": "stdout",
     "output_type": "stream",
     "text": [
      "[2 4]\n"
     ]
    }
   ],
   "source": [
    "### STEP\n",
    "\n",
    "arr = np.array([1, 2, 3, 4, 5, 6, 7])\n",
    "\n",
    "print(arr[1:5:2])"
   ]
  },
  {
   "cell_type": "code",
   "execution_count": 6,
   "id": "0d51366c-3c3c-4ae4-8e21-9d7f131df776",
   "metadata": {},
   "outputs": [
    {
     "name": "stdout",
     "output_type": "stream",
     "text": [
      "[1 3 5 7]\n"
     ]
    }
   ],
   "source": [
    "arr = np.array([1, 2, 3, 4, 5, 6, 7])\n",
    "\n",
    "print(arr[::2])### El ultimo argumento es el Step o el salto.  "
   ]
  },
  {
   "cell_type": "code",
   "execution_count": 7,
   "id": "7e0247c0-1b54-4298-a230-b3dc822b4796",
   "metadata": {},
   "outputs": [
    {
     "name": "stdout",
     "output_type": "stream",
     "text": [
      "[7 8 9]\n"
     ]
    }
   ],
   "source": [
    "arr = np.array([[1, 2, 3, 4, 5], \n",
    "                [6, 7, 8, 9, 10]])\n",
    "\n",
    "print(arr[1, 1:4])  ### Primer indice es la dimension o la matriz. Recordar que inicia en cero. "
   ]
  },
  {
   "cell_type": "code",
   "execution_count": 25,
   "id": "38407b05-47f3-49aa-92ea-1b29f4e413e6",
   "metadata": {},
   "outputs": [
    {
     "name": "stdout",
     "output_type": "stream",
     "text": [
      "[3 8]\n"
     ]
    }
   ],
   "source": [
    "\n",
    "arr = np.array([[1, 2, 3, 4, 5], \n",
    "                [6, 7, 8, 9, 10]])\n",
    "\n",
    "print(arr[0:2, 2]) ### De ambos elementos devuelve el indice 2"
   ]
  },
  {
   "cell_type": "code",
   "execution_count": 26,
   "id": "7d46d8f7-b5e2-4522-a818-334ed69c2004",
   "metadata": {},
   "outputs": [
    {
     "name": "stdout",
     "output_type": "stream",
     "text": [
      "[[2 3 4]\n",
      " [7 8 9]]\n"
     ]
    }
   ],
   "source": [
    "arr = np.array([[1, 2, 3, 4, 5], [6, 7, 8, 9, 10]])\n",
    "\n",
    "print(arr[0:2, 1:4])"
   ]
  },
  {
   "cell_type": "code",
   "execution_count": null,
   "id": "14e13d1e-847d-4933-86c0-c439d488fe11",
   "metadata": {},
   "outputs": [],
   "source": []
  }
 ],
 "metadata": {
  "kernelspec": {
   "display_name": "Python 3 (ipykernel)",
   "language": "python",
   "name": "python3"
  },
  "language_info": {
   "codemirror_mode": {
    "name": "ipython",
    "version": 3
   },
   "file_extension": ".py",
   "mimetype": "text/x-python",
   "name": "python",
   "nbconvert_exporter": "python",
   "pygments_lexer": "ipython3",
   "version": "3.11.7"
  }
 },
 "nbformat": 4,
 "nbformat_minor": 5
}
