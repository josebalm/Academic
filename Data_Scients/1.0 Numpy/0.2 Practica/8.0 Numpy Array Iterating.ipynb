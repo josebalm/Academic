{
 "cells": [
  {
   "cell_type": "markdown",
   "id": "027e6e11-dac1-4837-89e8-7c8991262d5e",
   "metadata": {},
   "source": [
    "Iterando matrices\n",
    "Iterar significa recorrer elementos uno por uno.\n",
    "\n",
    "Mientras tratamos con matrices multidimensionales en numpy, podemos hacerlo usando forun bucle básico de Python.\n",
    "\n",
    "Si iteramos en una matriz 1-D, pasará por cada elemento uno por uno."
   ]
  },
  {
   "cell_type": "code",
   "execution_count": 1,
   "id": "2ca05119-de92-485f-9d7c-c886a66ca504",
   "metadata": {},
   "outputs": [
    {
     "name": "stdout",
     "output_type": "stream",
     "text": [
      "1\n",
      "2\n",
      "3\n"
     ]
    }
   ],
   "source": [
    "import numpy as np\n",
    "\n",
    "arr = np.array([1, 2, 3])\n",
    "\n",
    "for x in arr:\n",
    "  print(x)"
   ]
  },
  {
   "cell_type": "code",
   "execution_count": 2,
   "id": "f23c7e80-cc48-46ce-890e-b3d223acbb25",
   "metadata": {},
   "outputs": [
    {
     "name": "stdout",
     "output_type": "stream",
     "text": [
      "[1 2 3]\n",
      "[4 5 6]\n"
     ]
    }
   ],
   "source": [
    "### Iterando Matrices 2D\n",
    "### En una matriz 2-D, pasará por todas las filas.\n",
    "import numpy as np\n",
    "\n",
    "arr = np.array([[1, 2, 3], [4, 5, 6]])\n",
    "\n",
    "for x in arr:\n",
    "  print(x)\n",
    "\n",
    "# Si iteramos en una matriz n -D, pasará por la dimensión n-1 una por una."
   ]
  },
  {
   "cell_type": "code",
   "execution_count": 4,
   "id": "24a934b0-e774-40a7-bb93-466e9ac9affb",
   "metadata": {},
   "outputs": [
    {
     "name": "stdout",
     "output_type": "stream",
     "text": [
      "1\n",
      "2\n",
      "3\n",
      "4\n",
      "5\n",
      "6\n"
     ]
    }
   ],
   "source": [
    "### Para devolver los valores reales, los escalares, tenemos que iterar las matrices en cada dimensión\n",
    "# Ejemplo Iterar sobre cada elemento escalar de la matriz 2-D:\n",
    "import numpy as np\n",
    "\n",
    "arr = np.array([[1, 2, 3], [4, 5, 6]])\n",
    "for x in arr:\n",
    "  for y in x:\n",
    "    print(y)\n"
   ]
  },
  {
   "cell_type": "code",
   "execution_count": 5,
   "id": "688ce6ba-2299-4a4e-9159-18e0e97bb1bf",
   "metadata": {},
   "outputs": [
    {
     "name": "stdout",
     "output_type": "stream",
     "text": [
      "[[1 2 3]\n",
      " [4 5 6]]\n",
      "[[ 7  8  9]\n",
      " [10 11 12]]\n"
     ]
    }
   ],
   "source": [
    "### Iterando Matrices 2D\n",
    "### En una matriz 3-D, pasará por todas las Matrices 2D.\n",
    "import numpy as np\n",
    "\n",
    "arr = np.array([[[1, 2, 3], [4, 5, 6]], [[7, 8, 9], [10, 11, 12]]])\n",
    "\n",
    "for x in arr:\n",
    "  print(x)"
   ]
  },
  {
   "cell_type": "code",
   "execution_count": 6,
   "id": "8e3a7916-1e3f-484f-b097-0acb0a4ec270",
   "metadata": {},
   "outputs": [
    {
     "name": "stdout",
     "output_type": "stream",
     "text": [
      "1\n",
      "2\n",
      "3\n",
      "4\n",
      "5\n",
      "6\n",
      "7\n",
      "8\n",
      "9\n",
      "10\n",
      "11\n",
      "12\n"
     ]
    }
   ],
   "source": [
    "# Para devolver los valores reales, los escalares, tenemos que iterar las matrices en cada dimensión.\n",
    "for x in arr:\n",
    "  for y in x:\n",
    "    for z in y:\n",
    "      print(z)"
   ]
  },
  {
   "cell_type": "markdown",
   "id": "1c8aa9ac-51d1-4677-be4d-7f0e3b24e65f",
   "metadata": {},
   "source": [
    "Iterando matrices usando nditer()\n",
    "La función nditer()es una función de ayuda que se puede utilizar desde iteraciones muy básicas hasta iteraciones muy avanzadas. Resuelve algunos problemas básicos que enfrentamos en la iteración, repasémoslo con ejemplos.\n",
    "\n",
    "Iterando en cada elemento escalar\n",
    "En for los bucles básicos, al iterar a través de cada escalar de una matriz, necesitamos usar n for bucles que pueden ser difíciles de escribir para matrices con una dimensionalidad muy alta."
   ]
  },
  {
   "cell_type": "code",
   "execution_count": 7,
   "id": "ce9742f2-211b-4376-998f-5b5310306188",
   "metadata": {},
   "outputs": [
    {
     "name": "stdout",
     "output_type": "stream",
     "text": [
      "1\n",
      "2\n",
      "3\n",
      "4\n",
      "5\n",
      "6\n",
      "7\n",
      "8\n"
     ]
    }
   ],
   "source": [
    "import numpy as np\n",
    "\n",
    "arr = np.array([[[1, 2], [3, 4]], [[5, 6], [7, 8]]])\n",
    "\n",
    "for x in np.nditer(arr):\n",
    "  print(x)"
   ]
  },
  {
   "cell_type": "markdown",
   "id": "899f9c87-d4b9-43aa-bf1a-24de8ceba732",
   "metadata": {},
   "source": [
    "Matriz iterativa con diferentes tipos de datos\n",
    "Podemos usar op_dtypes un argumento y pasarle el tipo de datos esperado para cambiar el tipo de datos de los elementos mientras iteramos.\n",
    "\n",
    "NumPy no cambia el tipo de datos del elemento en el lugar (donde el elemento está en una matriz), por lo que necesita otro espacio para realizar esta acción, ese espacio adicional se llama buffer, y para habilitarlo nditer()pasamos flags=['buffered']."
   ]
  },
  {
   "cell_type": "code",
   "execution_count": 15,
   "id": "792580ef-9098-43ad-8ad7-30de79353bbd",
   "metadata": {},
   "outputs": [
    {
     "name": "stdout",
     "output_type": "stream",
     "text": [
      "b'1'\n",
      "b'2'\n",
      "b'3'\n",
      "<numpy.nditer object at 0x147a64c10>\n"
     ]
    }
   ],
   "source": [
    "import numpy as np\n",
    "\n",
    "arr = np.array([1, 2, 3])\n",
    "\n",
    "for x in np.nditer(arr, flags=['buffered'], op_dtypes=['S']):\n",
    "  print(x)\n",
    "\n",
    "print(x.base)\n",
    "    ### Buffered es el espacio que requiere para hacer el cambio del tipo de dato.  op_types especifica a que tipo de dato queremos cambiar."
   ]
  },
  {
   "cell_type": "code",
   "execution_count": 11,
   "id": "1cf70e0d-2699-4e2a-a54b-8e38d30bf231",
   "metadata": {},
   "outputs": [
    {
     "name": "stdout",
     "output_type": "stream",
     "text": [
      "1\n",
      "3\n",
      "5\n",
      "7\n"
     ]
    }
   ],
   "source": [
    "#Iterando con diferentes tamaños de paso\n",
    "#Podemos usar filtrado y seguido de iteración.\n",
    "\n",
    "import numpy as np\n",
    "\n",
    "arr = np.array([[1, 2, 3, 4], [5, 6, 7, 8]])\n",
    "\n",
    "for x in np.nditer(arr[:, ::2]): ## El primer argumento indica de la primera dimension tomar todo desde el inio hasta el final\n",
    "    ## despues de la coma indica la segunda dimension, que indica tomar todo de cada grupo y el tercer argumento (2), corresponde al step.\n",
    "  print(x)"
   ]
  },
  {
   "cell_type": "markdown",
   "id": "7f557f3b-d5c8-47e9-9b6f-432e0abc61e6",
   "metadata": {},
   "source": [
    "Iteración enumerada usando ndenumerate()\n",
    "Enumeración significa mencionar el número de secuencia de algo uno por uno.\n",
    "\n",
    "A veces requerimos el índice correspondiente del elemento mientras iteramos, el ndenumerate()método se puede utilizar para esos casos de uso."
   ]
  },
  {
   "cell_type": "code",
   "execution_count": 13,
   "id": "4992a7f7-22c5-41fb-90c2-3e48104be12a",
   "metadata": {},
   "outputs": [
    {
     "name": "stdout",
     "output_type": "stream",
     "text": [
      "(0,) 1\n",
      "(1,) 2\n",
      "(2,) 3\n"
     ]
    }
   ],
   "source": [
    "import numpy as np\n",
    "\n",
    "arr = np.array([1, 2, 3])\n",
    "\n",
    "for idx, x in np.ndenumerate(arr):\n",
    "  print(idx, x)"
   ]
  },
  {
   "cell_type": "code",
   "execution_count": 14,
   "id": "7b3a4e0a-ffd8-4322-aaaf-ae58e945512b",
   "metadata": {},
   "outputs": [
    {
     "name": "stdout",
     "output_type": "stream",
     "text": [
      "(0, 0) 1\n",
      "(0, 1) 2\n",
      "(0, 2) 3\n",
      "(0, 3) 4\n",
      "(1, 0) 5\n",
      "(1, 1) 6\n",
      "(1, 2) 7\n",
      "(1, 3) 8\n"
     ]
    }
   ],
   "source": [
    "### Ejemplo Enumere los siguientes elementos de la matriz 2D:\n",
    "\n",
    "import numpy as np\n",
    "\n",
    "arr = np.array([[1, 2, 3, 4], [5, 6, 7, 8]])\n",
    "\n",
    "for idx, x in np.ndenumerate(arr):\n",
    "  print(idx, x)"
   ]
  },
  {
   "cell_type": "code",
   "execution_count": null,
   "id": "92ba0490-6c75-4f40-8be5-27aa7e64026c",
   "metadata": {},
   "outputs": [],
   "source": []
  }
 ],
 "metadata": {
  "kernelspec": {
   "display_name": "Python 3 (ipykernel)",
   "language": "python",
   "name": "python3"
  },
  "language_info": {
   "codemirror_mode": {
    "name": "ipython",
    "version": 3
   },
   "file_extension": ".py",
   "mimetype": "text/x-python",
   "name": "python",
   "nbconvert_exporter": "python",
   "pygments_lexer": "ipython3",
   "version": "3.11.7"
  }
 },
 "nbformat": 4,
 "nbformat_minor": 5
}
