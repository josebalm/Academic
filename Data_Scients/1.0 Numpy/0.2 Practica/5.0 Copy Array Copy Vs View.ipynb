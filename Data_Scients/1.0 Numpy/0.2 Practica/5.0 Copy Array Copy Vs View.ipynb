{
 "cells": [
  {
   "cell_type": "markdown",
   "id": "0971e4a0-e2a3-464d-b5fb-adf0766ad403",
   "metadata": {},
   "source": [
    "The Difference Between Copy and View\n",
    "The main difference between a copy and a view of an array is that the copy is a new array, and the view is just a view of the original array.\n",
    "\n",
    "The copy owns the data and any changes made to the copy will not affect original array, and any changes made to the original array will not affect the copy.\n",
    "\n",
    "The view does not own the data and any changes made to the view will affect the original array, and any changes made to the original array will affect the view."
   ]
  },
  {
   "cell_type": "code",
   "execution_count": 6,
   "id": "50310e4e-c5a6-43cd-af2f-9eff377dc0ca",
   "metadata": {},
   "outputs": [
    {
     "name": "stdout",
     "output_type": "stream",
     "text": [
      "[42  2  3  4  5]\n",
      "[1 2 3 4 5]\n"
     ]
    }
   ],
   "source": [
    "### Ejemplo de COPY en un Array\n",
    "\n",
    "import numpy as np\n",
    "\n",
    "arr = np.array([1,2,3,4,5])\n",
    "x = arr.copy() ### Se copia el array\n",
    "arr[0] = 42  ### Modificamos el array original, reemplazando la posicion cero, por el valor 42\n",
    "print(arr) ### Imprimimos el array modificado\n",
    "print(x) ### El array que copiamos se concerva igual. no se afecta\n"
   ]
  },
  {
   "cell_type": "code",
   "execution_count": 7,
   "id": "05c217c0-baa7-4b48-8306-1357f30553ae",
   "metadata": {},
   "outputs": [
    {
     "name": "stdout",
     "output_type": "stream",
     "text": [
      "[42  2  3  4  5]\n",
      "[42  2  3  4  5]\n"
     ]
    }
   ],
   "source": [
    "### Ejemplo de un VIEW en un array\n",
    "\n",
    "import numpy as np\n",
    "\n",
    "arr = np.array([1,2,3,4,5])\n",
    "x = arr.view()\n",
    "arr[0] = 42\n",
    "\n",
    "print(arr)\n",
    "print(x)\n",
    "\n",
    "### En este caso ambos array son afectados por el cambio."
   ]
  },
  {
   "cell_type": "code",
   "execution_count": 9,
   "id": "f71f1e06-5fc6-469d-ad87-9436ea26f785",
   "metadata": {},
   "outputs": [
    {
     "name": "stdout",
     "output_type": "stream",
     "text": [
      "[31  2  3  4  5]\n",
      "[31  2  3  4  5]\n"
     ]
    }
   ],
   "source": [
    "### Hacer cambios en el Array VIEW\n",
    "\n",
    "import numpy as np\n",
    "arr = np.array([1,2,3,4,5])\n",
    "x = arr.view()\n",
    "x[0] = 31\n",
    "\n",
    "print(arr)\n",
    "print(x)\n",
    "\n",
    "### Al igual que el anterior ambos cambios afectan el array original y el tipo VIEW"
   ]
  },
  {
   "cell_type": "markdown",
   "id": "c27438ae-b450-46b6-a417-f306a8aa33b9",
   "metadata": {},
   "source": [
    "Compruebe si Array posee sus datos\n",
    "Como se mencionó anteriormente, las copias son propietarias de los datos y las vistas no son propietarias de los datos, pero ¿cómo podemos verificar esto?\n",
    "\n",
    "Cada matriz NumPy tiene el atributo base que devuelve None si la matriz posee los datos.\n",
    "\n",
    "De lo contrario, el base  atributo se refiere al objeto original."
   ]
  },
  {
   "cell_type": "code",
   "execution_count": 10,
   "id": "b986c102-dcd6-4c07-a422-8534d86b253e",
   "metadata": {},
   "outputs": [
    {
     "name": "stdout",
     "output_type": "stream",
     "text": [
      "None\n",
      "[1 2 3 4 5]\n"
     ]
    }
   ],
   "source": [
    "import numpy as np\n",
    "\n",
    "arr = np.array([1, 2, 3, 4, 5])\n",
    "\n",
    "x = arr.copy()\n",
    "y = arr.view()\n",
    "\n",
    "print(x.base) ### Devuelve none, por que el array posee los datos\n",
    "print(y.base) ### Devuelve el array no posee los datos originales"
   ]
  },
  {
   "cell_type": "code",
   "execution_count": null,
   "id": "03462e79-2b83-4170-ac6c-b7b29c86067d",
   "metadata": {},
   "outputs": [],
   "source": []
  }
 ],
 "metadata": {
  "kernelspec": {
   "display_name": "Python 3 (ipykernel)",
   "language": "python",
   "name": "python3"
  },
  "language_info": {
   "codemirror_mode": {
    "name": "ipython",
    "version": 3
   },
   "file_extension": ".py",
   "mimetype": "text/x-python",
   "name": "python",
   "nbconvert_exporter": "python",
   "pygments_lexer": "ipython3",
   "version": "3.11.7"
  }
 },
 "nbformat": 4,
 "nbformat_minor": 5
}
