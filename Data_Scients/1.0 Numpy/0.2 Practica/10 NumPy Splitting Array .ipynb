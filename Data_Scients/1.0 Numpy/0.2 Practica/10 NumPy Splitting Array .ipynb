{
 "cells": [
  {
   "cell_type": "markdown",
   "id": "e825a3c3-b443-4b4e-8c6f-5e45da97a211",
   "metadata": {},
   "source": [
    "NumPy Splitting Array\n",
    "\n",
    "Splitting NumPy Arrays\n",
    "Splitting is reverse operation of Joining.\n",
    "\n",
    "Joining merges multiple arrays into one and Splitting breaks one array into multiple.\n",
    "\n",
    "We use array_split() for splitting arrays, we pass it the array we want to split and the number of splits"
   ]
  },
  {
   "cell_type": "code",
   "execution_count": 1,
   "id": "dfb2d46b-d952-447a-880e-5156b1f4f5e2",
   "metadata": {},
   "outputs": [
    {
     "name": "stdout",
     "output_type": "stream",
     "text": [
      "[array([1, 2]), array([3, 4]), array([5, 6])]\n"
     ]
    }
   ],
   "source": [
    "import numpy as np\n",
    "\n",
    "arr = np.array([1, 2, 3, 4, 5, 6])\n",
    "\n",
    "newarr = np.array_split(arr, 3)\n",
    "\n",
    "print(newarr)\n",
    "\n",
    "# Nota: El valor de retorno es una lista que contiene tres matrices."
   ]
  },
  {
   "cell_type": "code",
   "execution_count": 3,
   "id": "87aea3ab-e8a9-44e6-a001-a459b909b36c",
   "metadata": {},
   "outputs": [
    {
     "name": "stdout",
     "output_type": "stream",
     "text": [
      "[array([1, 2]), array([3, 4]), array([5]), array([6])]\n"
     ]
    }
   ],
   "source": [
    "# Si la matriz tiene menos elementos de los necesarios, se ajustará desde el final en consecuencia.\n",
    "# Ejemplo dividir la Matriz en 4 partes\n",
    "import numpy as np\n",
    "\n",
    "arr = np.array([1, 2, 3, 4, 5, 6])\n",
    "\n",
    "newarr = np.array_split(arr, 4)\n",
    "\n",
    "print(newarr)\n",
    "\n",
    "## Nota: También tenemos el método split()disponible, pero no ajustará los elementos cuando haya menos elementos en la matriz fuente \n",
    "# para dividir como en el ejemplo anterior, array_split()funcionó correctamente pero split()fallaría.\n"
   ]
  },
  {
   "cell_type": "markdown",
   "id": "7b97869c-8e96-4c50-b0e9-69d0a42ffc04",
   "metadata": {},
   "source": [
    "Dividir en matrices\n",
    "El valor de retorno del array_split()método es una matriz que contiene cada una de las divisiones como una matriz.\n",
    "\n",
    "Si divide una matriz en 3 matrices, puede acceder a ellas desde el resultado como cualquier elemento de la matriz:"
   ]
  },
  {
   "cell_type": "code",
   "execution_count": 20,
   "id": "aea6258f-3934-4510-801d-b4d4dea5270c",
   "metadata": {},
   "outputs": [
    {
     "name": "stdout",
     "output_type": "stream",
     "text": [
      "[array([1, 2]), array([3, 4]), array([5, 6])]\n",
      "[1 2]\n",
      "[3 4]\n",
      "[5 6]\n"
     ]
    }
   ],
   "source": [
    "import numpy as np\n",
    "\n",
    "arr = np.array([1, 2, 3, 4, 5, 6])\n",
    "\n",
    "newarr = np.array_split(arr, 3)\n",
    "print(newarr)\n",
    "print(newarr[0])\n",
    "print(newarr[1])\n",
    "print(newarr[2])"
   ]
  },
  {
   "cell_type": "code",
   "execution_count": 21,
   "id": "f73de592-0f64-4501-b381-3a2f82e95f7e",
   "metadata": {},
   "outputs": [
    {
     "name": "stdout",
     "output_type": "stream",
     "text": [
      "[1 2]\n",
      "[3 4]\n",
      "[5 6]\n"
     ]
    }
   ],
   "source": [
    "### El anterior asignandole una variable\n",
    "\n",
    "import numpy as np\n",
    "\n",
    "arr = np.array([1, 2, 3, 4, 5, 6])\n",
    "\n",
    "newarr = np.array_split(arr, 3)\n",
    "x = newarr[0]\n",
    "y = newarr[1] \n",
    "z = newarr[2]\n",
    "print(x)\n",
    "print(y)\n",
    "print(z)"
   ]
  },
  {
   "cell_type": "markdown",
   "id": "5264042b-5520-4392-ab15-8a9f2d2c996d",
   "metadata": {},
   "source": [
    "División de matrices 2-D\n",
    "Utilice la misma sintaxis al dividir matrices 2D.\n",
    "\n",
    "Utilice el array_split()método, pase la matriz que desea dividir y la cantidad de divisiones que desea realizar."
   ]
  },
  {
   "cell_type": "code",
   "execution_count": 23,
   "id": "e630fa3f-7245-4beb-a46a-cb2c33860486",
   "metadata": {},
   "outputs": [
    {
     "name": "stdout",
     "output_type": "stream",
     "text": [
      "[array([[1, 2],\n",
      "       [3, 4]]), array([[5, 6],\n",
      "       [7, 8]]), array([[ 9, 10],\n",
      "       [11, 12]])]\n",
      "(6, 2)\n"
     ]
    }
   ],
   "source": [
    "# Ejemplo : Divida la matriz 2-D en tres matrices 2-D.\n",
    "import numpy as np\n",
    "\n",
    "arr = np.array([[1, 2], [3, 4], [5, 6], [7, 8], [9, 10], [11, 12]])\n",
    "\n",
    "newarr = np.array_split(arr, 3)\n",
    "\n",
    "print(newarr)\n",
    "print(arr.shape)"
   ]
  },
  {
   "cell_type": "code",
   "execution_count": 24,
   "id": "80d6f279-90a0-4841-900b-6c424b872bca",
   "metadata": {},
   "outputs": [
    {
     "name": "stdout",
     "output_type": "stream",
     "text": [
      "[array([[1, 2, 3],\n",
      "       [4, 5, 6]]), array([[ 7,  8,  9],\n",
      "       [10, 11, 12]]), array([[13, 14, 15],\n",
      "       [16, 17, 18]])]\n"
     ]
    }
   ],
   "source": [
    "import numpy as np\n",
    "\n",
    "arr = np.array([[1, 2, 3], [4, 5, 6], [7, 8, 9], [10, 11, 12], [13, 14, 15], [16, 17, 18]])\n",
    "\n",
    "newarr = np.array_split(arr, 3)\n",
    "\n",
    "print(newarr)"
   ]
  },
  {
   "cell_type": "markdown",
   "id": "1a8b641f-cd60-42ec-9e3d-c4254701030e",
   "metadata": {},
   "source": [
    "El ejemplo anterior devuelve tres matrices 2-D.\n",
    "\n",
    "Además, puede especificar en qué eje desea realizar la división.\n",
    "\n",
    "El siguiente ejemplo también devuelve tres matrices 2D, pero están divididas a lo largo de la fila (eje=1)."
   ]
  },
  {
   "cell_type": "code",
   "execution_count": 19,
   "id": "54d9ba82-ec74-4d9b-be7a-bbe720269703",
   "metadata": {},
   "outputs": [
    {
     "name": "stdout",
     "output_type": "stream",
     "text": [
      "[array([[ 1],\n",
      "       [ 4],\n",
      "       [ 7],\n",
      "       [10],\n",
      "       [13],\n",
      "       [16]]), array([[ 2],\n",
      "       [ 5],\n",
      "       [ 8],\n",
      "       [11],\n",
      "       [14],\n",
      "       [17]]), array([[ 3],\n",
      "       [ 6],\n",
      "       [ 9],\n",
      "       [12],\n",
      "       [15],\n",
      "       [18]])]\n",
      "(6, 1)\n"
     ]
    }
   ],
   "source": [
    "import numpy as np\n",
    "\n",
    "arr = np.array([[1, 2, 3], [4, 5, 6], [7, 8, 9], [10, 11, 12], [13, 14, 15], [16, 17, 18]])\n",
    "\n",
    "newarr = np.array_split(arr, 3, axis=1)\n",
    "\n",
    "print(newarr)\n",
    "###\n",
    "print(y.shape)\n",
    "y = newarr[0]\n"
   ]
  },
  {
   "cell_type": "markdown",
   "id": "62082f25-6038-4d46-8183-2c0dc7c6ec09",
   "metadata": {},
   "source": [
    "Una solución alternativa es usar hsplit()el opuesto de hstack()\n",
    "Ejemplo\n",
    "Utilice el hsplit()método para dividir la matriz 2D en tres matrices 2D a lo largo de filas.\n"
   ]
  },
  {
   "cell_type": "code",
   "execution_count": 12,
   "id": "725b61ba-8e38-491e-9ea5-c92d2a287e56",
   "metadata": {},
   "outputs": [
    {
     "name": "stdout",
     "output_type": "stream",
     "text": [
      "[array([[ 1],\n",
      "       [ 4],\n",
      "       [ 7],\n",
      "       [10],\n",
      "       [13],\n",
      "       [16]]), array([[ 2],\n",
      "       [ 5],\n",
      "       [ 8],\n",
      "       [11],\n",
      "       [14],\n",
      "       [17]]), array([[ 3],\n",
      "       [ 6],\n",
      "       [ 9],\n",
      "       [12],\n",
      "       [15],\n",
      "       [18]])]\n"
     ]
    }
   ],
   "source": [
    "import numpy as np\n",
    "\n",
    "arr = np.array([[1, 2, 3], [4, 5, 6], [7, 8, 9], [10, 11, 12], [13, 14, 15], [16, 17, 18]])\n",
    "\n",
    "newarr = np.hsplit(arr, 3)\n",
    "\n",
    "print(newarr)"
   ]
  },
  {
   "cell_type": "markdown",
   "id": "369cebda-c4ea-407e-8625-7d4cc31a72e7",
   "metadata": {},
   "source": [
    "Nota: Hay alternativas similares a vstack()y dstack()disponibles como vsplit()y dsplit()."
   ]
  }
 ],
 "metadata": {
  "kernelspec": {
   "display_name": "Python 3 (ipykernel)",
   "language": "python",
   "name": "python3"
  },
  "language_info": {
   "codemirror_mode": {
    "name": "ipython",
    "version": 3
   },
   "file_extension": ".py",
   "mimetype": "text/x-python",
   "name": "python",
   "nbconvert_exporter": "python",
   "pygments_lexer": "ipython3",
   "version": "3.11.7"
  }
 },
 "nbformat": 4,
 "nbformat_minor": 5
}
