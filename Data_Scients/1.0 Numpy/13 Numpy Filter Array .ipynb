{
 "cells": [
  {
   "cell_type": "markdown",
   "id": "15e1a573-5731-4e70-b984-f9209b1ca6b7",
   "metadata": {},
   "source": [
    "Numpy Filter Array\n",
    "\n",
    "Filtering Arrays\n",
    "Getting some elements out of an existing array and creating a new array out of them is called filtering.\n",
    "\n",
    "In NumPy, you filter an array using a boolean index list.\n",
    "\n",
    "A boolean index list is a list of booleans corresponding to indexes in the array.\n",
    "\n",
    "If the value at an index is True that element is contained in the filtered array, if the value at that index is False that element is excluded from the filtered array."
   ]
  },
  {
   "cell_type": "code",
   "execution_count": 2,
   "id": "d5f05f8a-9ed8-4b15-b492-5f9e5c93e85f",
   "metadata": {},
   "outputs": [
    {
     "name": "stdout",
     "output_type": "stream",
     "text": [
      "[41 43]\n",
      "None\n"
     ]
    }
   ],
   "source": [
    "### Example\n",
    "### Create an array from the elements on Index 0 and 2:\n",
    "\n",
    "import numpy as np\n",
    "\n",
    "arr = np.array([41,42,43,44])\n",
    "\n",
    "x = [True, False, True, False]  \n",
    "\n",
    "newarr = arr[x]\n",
    "\n",
    "print(newarr)\n",
    "print(newarr.base)\n",
    "\n",
    "## The example above will return [41, 43], why?\n",
    "\n",
    "### Because the new array contains only the values where the filter array had the value True, in this case, index 0 and 2.\n"
   ]
  },
  {
   "cell_type": "markdown",
   "id": "cc45031d-ff05-48e1-89b2-dead2680bf2b",
   "metadata": {},
   "source": [
    "Creating the Filter Array\n",
    "\n",
    "In the example above we hard-coded the True and False values, but the common use is to create a filter array based on conditions."
   ]
  },
  {
   "cell_type": "code",
   "execution_count": 4,
   "id": "63746136-7efc-478c-88b1-96c426ce748e",
   "metadata": {},
   "outputs": [
    {
     "name": "stdout",
     "output_type": "stream",
     "text": [
      "[False, False, True, True]\n",
      "[43 44]\n"
     ]
    }
   ],
   "source": [
    "### Example\n",
    "### Create a Filter Array that will return only values higher than 42:\n",
    "\n",
    "import numpy as np\n",
    "\n",
    "arr = np.array([41,42,43,44])\n",
    "\n",
    "### Create a empty list\n",
    "\n",
    "filter_arr = []\n",
    "\n",
    "### Go through each element in arr\n",
    "\n",
    "for element in arr:\n",
    "    ### If the element is higher than 42. set the value to True, otherwise False:\n",
    "    if element > 42:\n",
    "        filter_arr.append(True)\n",
    "    else:\n",
    "        filter_arr.append(False)\n",
    "\n",
    "newarr = arr[filter_arr]\n",
    "\n",
    "print(filter_arr)\n",
    "print(newarr)"
   ]
  },
  {
   "cell_type": "code",
   "execution_count": 5,
   "id": "8bc12f44-de78-45b6-baf4-0a3911e80c5e",
   "metadata": {},
   "outputs": [
    {
     "name": "stdout",
     "output_type": "stream",
     "text": [
      "[False, True, False, True, False, True, False]\n",
      "[2 4 6]\n"
     ]
    }
   ],
   "source": [
    "### Otro Ejemplo\n",
    "### Create a filter array that will return only even elements from the original array:\n",
    "\n",
    "import numpy as np\n",
    "\n",
    "arr = np.array([1,2,3,4,5,6,7])\n",
    "\n",
    "### CReate a empty list\n",
    "filter_arr = []\n",
    "\n",
    "###Go trought each element in arr\n",
    "\n",
    "for element in arr:\n",
    "\n",
    "    ### If the element is completely divisible by 2, set the vaue to true, otherwise false\n",
    "\n",
    "    if element % 2 == 0:\n",
    "        filter_arr.append(True)\n",
    "    else:\n",
    "        filter_arr.append(False)\n",
    "\n",
    "newarr = arr[filter_arr]\n",
    "\n",
    "print(filter_arr)\n",
    "print(newarr)\n",
    "\n",
    "\n",
    "    "
   ]
  },
  {
   "cell_type": "code",
   "execution_count": 8,
   "id": "2c1d7e1d-4d0c-454e-aa14-daf21b5f6bb9",
   "metadata": {},
   "outputs": [
    {
     "name": "stdout",
     "output_type": "stream",
     "text": [
      "[False False  True  True]\n",
      "[43 44]\n"
     ]
    }
   ],
   "source": [
    "### Creating Filter Directly From Array\n",
    "\n",
    "### The above example is quite a common task in NumPy and NumPy provides a nice way to tackle it.\n",
    "\n",
    "### We can directly substitute the array instead of the iterable variable in our condition and it will work just as we expect it to.\n",
    "\n",
    "### Example : Create a filter array that will return only values higher than 42:\n",
    "\n",
    "import numpy as np\n",
    "\n",
    "arr = np.array([41,42,43,44])\n",
    "\n",
    "filter_arr = arr > 42\n",
    "\n",
    "newarr = arr[filter_arr]\n",
    "\n",
    "print(filter_arr)\n",
    "print(newarr)\n",
    "\n"
   ]
  },
  {
   "cell_type": "code",
   "execution_count": 11,
   "id": "6c592486-2cf9-45b2-8775-abce2b0ba89e",
   "metadata": {},
   "outputs": [
    {
     "name": "stdout",
     "output_type": "stream",
     "text": [
      "[False  True False  True False  True False]\n",
      "[2 4 6]\n"
     ]
    }
   ],
   "source": [
    "### Example : Create a filter array that will return only even elements from the original array:\n",
    "\n",
    "import numpy as np\n",
    "\n",
    "arr = np.array([1,2,3,4,5,6,7])\n",
    "\n",
    "filter_arr= arr % 2 == 0\n",
    "\n",
    "newarr = arr[filter_arr]\n",
    "\n",
    "print(filter_arr)\n",
    "print(newarr)"
   ]
  },
  {
   "cell_type": "code",
   "execution_count": null,
   "id": "7a0b17dc-1cb8-4b28-8ee5-9e0afdb50c9c",
   "metadata": {},
   "outputs": [],
   "source": []
  }
 ],
 "metadata": {
  "kernelspec": {
   "display_name": "Python 3 (ipykernel)",
   "language": "python",
   "name": "python3"
  },
  "language_info": {
   "codemirror_mode": {
    "name": "ipython",
    "version": 3
   },
   "file_extension": ".py",
   "mimetype": "text/x-python",
   "name": "python",
   "nbconvert_exporter": "python",
   "pygments_lexer": "ipython3",
   "version": "3.11.7"
  }
 },
 "nbformat": 4,
 "nbformat_minor": 5
}
