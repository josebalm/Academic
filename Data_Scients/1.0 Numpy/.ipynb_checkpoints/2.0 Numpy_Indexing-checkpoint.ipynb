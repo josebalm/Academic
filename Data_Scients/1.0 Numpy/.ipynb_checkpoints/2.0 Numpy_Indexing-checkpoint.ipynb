{
 "cells": [
  {
   "cell_type": "code",
   "execution_count": 1,
   "id": "69acf05d-a63f-4e5d-909d-776b93c57392",
   "metadata": {},
   "outputs": [],
   "source": [
    "import numpy as np"
   ]
  },
  {
   "cell_type": "code",
   "execution_count": 14,
   "id": "b8ea8f23-a9a9-482d-89e8-7bdb903990f6",
   "metadata": {},
   "outputs": [
    {
     "name": "stdout",
     "output_type": "stream",
     "text": [
      "1\n",
      "2\n"
     ]
    }
   ],
   "source": [
    "### Acceder a los elementos de la Matriz\n",
    "### La indexacion de matrices es lo mismo que acceder a un elemento de matriz, usando su indice\n",
    "### los indices en las matrices de numpy comienzan en 0, lo que significa que es el primer elemento.\n",
    "### Ejemplo\n",
    "arr=np.array([1,2,3,4])\n",
    "print(arr[0])\n",
    "\n",
    "arr = np.array([1, 2, 3, 4])\n",
    "\n",
    "print(arr[1])"
   ]
  },
  {
   "cell_type": "code",
   "execution_count": 5,
   "id": "e8bbd26d-aebd-4732-a34d-077d1103d090",
   "metadata": {},
   "outputs": [
    {
     "name": "stdout",
     "output_type": "stream",
     "text": [
      "7\n"
     ]
    }
   ],
   "source": [
    "arr = np.array([1, 2, 3, 4])\n",
    "\n",
    "print(arr[2] + arr[3])"
   ]
  },
  {
   "cell_type": "code",
   "execution_count": 15,
   "id": "1e14e89b-2fcb-4e7f-9e42-476383472b6f",
   "metadata": {},
   "outputs": [
    {
     "name": "stdout",
     "output_type": "stream",
     "text": [
      "2nd element on 1st row:  9\n"
     ]
    }
   ],
   "source": [
    "### Acceder a Matrices 2-D\n",
    "### Para acceder a elementos de matrices 2-D, podemos usar numeros enteros separados por comenas que representan la dimension y el indice\n",
    "### del elemento.\n",
    "### Piense en matrices 2D como una tabla con filas y columnas, donde la dimensión representa la fila y el índice representa la columna.\n",
    "### Ejemplo\n",
    "arr = np.array([[1,2,3,4,5], \n",
    "                [6,7,8,9,10]])\n",
    "\n",
    "print('2nd element on 1st row: ', arr[1, 3]) ### primer argumento fila, segundo columna\n"
   ]
  },
  {
   "cell_type": "code",
   "execution_count": 9,
   "id": "e29b9f9d-2424-4fbf-8630-f773c3abb5a1",
   "metadata": {},
   "outputs": [
    {
     "name": "stdout",
     "output_type": "stream",
     "text": [
      "5th element on 2nd row:  10\n"
     ]
    }
   ],
   "source": [
    "arr = np.array([[1,2,3,4,5], [6,7,8,9,10]])\n",
    "\n",
    "print('5th element on 2nd row: ', arr[1, 4])"
   ]
  },
  {
   "cell_type": "code",
   "execution_count": 11,
   "id": "aa4df691-9524-4b8c-8706-ce916d62f931",
   "metadata": {},
   "outputs": [
    {
     "name": "stdout",
     "output_type": "stream",
     "text": [
      "[[[ 1  2  3]\n",
      "  [ 4  5  6]]\n",
      "\n",
      " [[ 7  8  9]\n",
      "  [10 11 12]]]\n",
      "6\n"
     ]
    }
   ],
   "source": [
    "### Acceder a matrices 3-D\n",
    "### Para acceder a elementos de matrices 3-D, podemos usar números enteros \n",
    "### separados por comas que representan las dimensiones y el índice del elemento.\n",
    "arr = np.array([[[1, 2, 3], \n",
    "                 [4, 5, 6]], \n",
    "                \n",
    "                [[7, 8, 9], \n",
    "                 [10, 11, 12]]])\n",
    "print(arr)\n",
    "print(arr[0, 1, 2]) ### el primer indice indica la primera dimension ( o primera Matriz), \n",
    "### el segundo la fila de la matruz y el tercero la columna de la matriz"
   ]
  },
  {
   "cell_type": "code",
   "execution_count": 13,
   "id": "bb21866d-10ac-4cd0-a2bd-ffb979135c8f",
   "metadata": {},
   "outputs": [
    {
     "name": "stdout",
     "output_type": "stream",
     "text": [
      "Last element from 2nd dim:  9\n"
     ]
    }
   ],
   "source": [
    "### Indexacion Negativa\n",
    "### utilice indexacion negativa para acceder a una mtr4iz desde el final\n",
    "### Ejemplo\n",
    "\n",
    "arr = np.array([[1,2,3,4,5], [6,7,8,9,10]])\n",
    "\n",
    "print('Last element from 2nd dim: ', arr[1, -2])\n"
   ]
  },
  {
   "cell_type": "code",
   "execution_count": null,
   "id": "b2c9537c-fcea-45c3-95ce-fc26083378f4",
   "metadata": {},
   "outputs": [],
   "source": []
  }
 ],
 "metadata": {
  "kernelspec": {
   "display_name": "Python 3 (ipykernel)",
   "language": "python",
   "name": "python3"
  },
  "language_info": {
   "codemirror_mode": {
    "name": "ipython",
    "version": 3
   },
   "file_extension": ".py",
   "mimetype": "text/x-python",
   "name": "python",
   "nbconvert_exporter": "python",
   "pygments_lexer": "ipython3",
   "version": "3.11.7"
  }
 },
 "nbformat": 4,
 "nbformat_minor": 5
}
