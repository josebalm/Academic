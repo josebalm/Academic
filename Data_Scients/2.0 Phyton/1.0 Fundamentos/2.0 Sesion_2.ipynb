{
 "cells": [
  {
   "cell_type": "code",
   "execution_count": 2,
   "id": "538b3a23",
   "metadata": {},
   "outputs": [
    {
     "name": "stdout",
     "output_type": "stream",
     "text": [
      "5\n",
      "Jhon\n"
     ]
    }
   ],
   "source": [
    "#Variabes en Python\n",
    "#Una variable se crea en el momento en que le asigna un valor por primera vez.\n",
    "\n",
    "x = 5\n",
    "y = \"Jhon\"\n",
    "print(x)\n",
    "print(y)\n"
   ]
  },
  {
   "cell_type": "code",
   "execution_count": 3,
   "id": "c291bb4b",
   "metadata": {},
   "outputs": [
    {
     "name": "stdout",
     "output_type": "stream",
     "text": [
      "Sally\n"
     ]
    }
   ],
   "source": [
    "\"\"\"\n",
    "No es necesario declarar las variables con ningún tipo en particular , \n",
    "e incluso pueden cambiar de tipo después de que se hayan establecido.\n",
    "\"\"\"\n",
    "x = 4       # x is of type int\n",
    "x = \"Sally\" # x is now of type str\n",
    "print(x)"
   ]
  },
  {
   "cell_type": "code",
   "execution_count": 4,
   "id": "5566908e",
   "metadata": {},
   "outputs": [
    {
     "name": "stdout",
     "output_type": "stream",
     "text": [
      "3 3 3.0\n"
     ]
    }
   ],
   "source": [
    "# Fundición\n",
    "# Si desea especificar el tipo de datps de una variable, puede hacerlo con la conversion\n",
    "\n",
    "x = str(3)    # x will be '3'\n",
    "y = int(3)    # y will be 3\n",
    "z = float(3)  # z will be 3.0\n",
    "\n",
    "print(x,y,z)\n"
   ]
  },
  {
   "cell_type": "code",
   "execution_count": 5,
   "id": "ded961bd",
   "metadata": {},
   "outputs": [
    {
     "name": "stdout",
     "output_type": "stream",
     "text": [
      "<class 'int'>\n",
      "<class 'str'>\n"
     ]
    }
   ],
   "source": [
    "# Obtener el tipo\n",
    "# Puede optener el tipo de datos de una variable con la tyoe() funtion.\n",
    "x = 5\n",
    "y = \"Jhon\"\n",
    "print(type(x))\n",
    "print(type(y))\n"
   ]
  },
  {
   "cell_type": "code",
   "execution_count": 6,
   "id": "8db4e7c1",
   "metadata": {},
   "outputs": [
    {
     "name": "stdout",
     "output_type": "stream",
     "text": [
      "Orange\n",
      "Banana\n",
      "Cherry\n"
     ]
    }
   ],
   "source": [
    "#Variables de Python - Asignar Valores Multiples\n",
    "\n",
    "x, y, z =\"Orange\", \"Banana\" , \"Cherry\"\n",
    "print(x)\n",
    "print(y)\n",
    "print(z)\n"
   ]
  },
  {
   "cell_type": "code",
   "execution_count": 9,
   "id": "9b6b680a",
   "metadata": {},
   "outputs": [
    {
     "name": "stdout",
     "output_type": "stream",
     "text": [
      "Orange\n",
      "Orange\n",
      "Cherry\n"
     ]
    }
   ],
   "source": [
    "# Se puede asignar el mismo valor a multiples variables en una linea\n",
    "\n",
    "X = y = Z = \"Orange\"\n",
    "print(x)\n",
    "print(y)\n",
    "print(z)\n",
    "\n"
   ]
  },
  {
   "cell_type": "code",
   "execution_count": 12,
   "id": "12dbb88d",
   "metadata": {},
   "outputs": [
    {
     "name": "stdout",
     "output_type": "stream",
     "text": [
      "apple\n",
      "banana\n",
      "cherry\n",
      "pera\n"
     ]
    }
   ],
   "source": [
    "#Desempaquetar una coleccion\n",
    "\"\"\"\n",
    "Si tiene una coleccion de valores en una lista, tupla etc, Python le permite extraerlos valores en variables.\n",
    "esto se llama desempacar\n",
    "\"\"\"\n",
    "\n",
    "fruits = [\"apple\", \"banana\", \"cherry\", \"pera\"]\n",
    "x, y, z , k = fruits\n",
    "print(x)\n",
    "print(y)\n",
    "print(z)\n",
    "print(k)"
   ]
  },
  {
   "cell_type": "code",
   "execution_count": 13,
   "id": "a9a3bec4",
   "metadata": {},
   "outputs": [
    {
     "name": "stdout",
     "output_type": "stream",
     "text": [
      "Python is awesome\n",
      "python is awesome\n",
      "python is aewsomw \n"
     ]
    }
   ],
   "source": [
    "# VARIABLES DE SALIDA\n",
    "\"\"\"\n",
    "LA FUNCION DE PYTHON print() se usa a menudo para generar variables\n",
    "\n",
    "\"\"\"\n",
    "\n",
    "x = \"Python is awesome\"\n",
    "print(x)\n",
    "\n",
    "\"\"\" ________________\"\"\"\n",
    "\n",
    "# en la print() funcion, genera multiplees variables, separadas por una coma:\n",
    "\n",
    "x = \"python\"\n",
    "y = \"is\"\n",
    "z = \"awesome\"\n",
    "print(x, y, z)\n",
    "\n",
    "# tambien se puede usar el (+)operador para generar multiples variables:\n",
    "\n",
    "x = \"python \"\n",
    "y = \"is \"\n",
    "z = \"aewsomw \"\n",
    "print(x + y + z)\n"
   ]
  },
  {
   "cell_type": "code",
   "execution_count": 14,
   "id": "89a9385a",
   "metadata": {},
   "outputs": [
    {
     "name": "stdout",
     "output_type": "stream",
     "text": [
      "Python is awesome\n"
     ]
    }
   ],
   "source": [
    "# variables Globales\n",
    "\n",
    "\"\"\"\n",
    "las variables que se crean fuera de una funcion (como en todos los ejemplos nteriores)\n",
    "se conocen como variables globales\n",
    "\n",
    "Las variables globales pueden ser utilizadas por todos, tanto dentro como fuera de las funciones\n",
    "\n",
    "\"\"\"\n",
    "\n",
    "x = \"awesome\"\n",
    "\n",
    "def myfunc():\n",
    "    print(\"Python is \"+ x)\n",
    "\n",
    "myfunc()\n"
   ]
  },
  {
   "cell_type": "code",
   "execution_count": 15,
   "id": "73250cd9",
   "metadata": {},
   "outputs": [
    {
     "name": "stdout",
     "output_type": "stream",
     "text": [
      "Python is fantastic\n",
      "Python is Awesome\n"
     ]
    }
   ],
   "source": [
    "\"\"\"\n",
    "Si crea una variable con el mismo nombre dentro de una funcion, esta variable\n",
    "será local y solo se puede usar dentro de la función. La variable global con el\n",
    "mismo nombre quedará como estaba, global y con el valor original.\n",
    "\n",
    "\"\"\"\n",
    "\n",
    "\n",
    "x = \"Awesome\"\n",
    "\n",
    "def myfunc():\n",
    "    x = \"fantastic\"\n",
    "    print(\"Python is \" + x)\n",
    "myfunc()\n",
    "\n",
    "print(\"Python is \" + x)    \n",
    "    "
   ]
  },
  {
   "cell_type": "code",
   "execution_count": 18,
   "id": "0ef99d5f",
   "metadata": {},
   "outputs": [
    {
     "name": "stdout",
     "output_type": "stream",
     "text": [
      "Python is fantastic\n",
      "python is Awesome\n"
     ]
    }
   ],
   "source": [
    "# LA PALABRA CLAVE MUNDIAL\n",
    "\n",
    "\"\"\"\n",
    "Normalmente, cuando crea una variable dentro de una funcion, esa variable es local y solp\n",
    "se puede usar dentro de esa funcion.\n",
    "\n",
    "Para crear una variable global dentro de una funcion puede usar la \"global\" \n",
    "palara clave\n",
    "\n",
    "\"\"\"\n",
    "def myfun():\n",
    "    global x\n",
    "    x = \"fantastic\"\n",
    "myfunc()\n",
    "\n",
    "print(\"python is \" + x)\n"
   ]
  },
  {
   "cell_type": "code",
   "execution_count": 19,
   "id": "6d0c6af9",
   "metadata": {},
   "outputs": [
    {
     "name": "stdout",
     "output_type": "stream",
     "text": [
      "DA is be awesome\n"
     ]
    }
   ],
   "source": [
    "#Además, use la \"global\" palabra clave si desea cambiar una vaariable gloal dentro de una funcion\n",
    "\n",
    "x = \"delight costumers\"\n",
    "\n",
    "def myfunc():\n",
    "    global x\n",
    "    x = \"be awesome\"\n",
    "    \n",
    "myfunc()\n",
    "\n",
    "print(\"DA is \" + x)\n",
    "\n",
    "\n"
   ]
  },
  {
   "cell_type": "code",
   "execution_count": null,
   "id": "92edc2e9",
   "metadata": {},
   "outputs": [],
   "source": []
  },
  {
   "cell_type": "code",
   "execution_count": null,
   "id": "45bbd9f4",
   "metadata": {},
   "outputs": [],
   "source": []
  },
  {
   "cell_type": "code",
   "execution_count": null,
   "id": "35b29b57",
   "metadata": {},
   "outputs": [],
   "source": []
  }
 ],
 "metadata": {
  "kernelspec": {
   "display_name": "Python 3 (ipykernel)",
   "language": "python",
   "name": "python3"
  },
  "language_info": {
   "codemirror_mode": {
    "name": "ipython",
    "version": 3
   },
   "file_extension": ".py",
   "mimetype": "text/x-python",
   "name": "python",
   "nbconvert_exporter": "python",
   "pygments_lexer": "ipython3",
   "version": "3.11.0"
  }
 },
 "nbformat": 4,
 "nbformat_minor": 5
}
