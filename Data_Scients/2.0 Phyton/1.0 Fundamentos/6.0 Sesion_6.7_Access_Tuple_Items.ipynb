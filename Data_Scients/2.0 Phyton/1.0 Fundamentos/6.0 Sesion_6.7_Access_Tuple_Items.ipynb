{
 "cells": [
  {
   "cell_type": "code",
   "execution_count": 1,
   "metadata": {},
   "outputs": [
    {
     "name": "stdout",
     "output_type": "stream",
     "text": [
      "banana\n"
     ]
    }
   ],
   "source": [
    "\"\"\"\n",
    "Access Tuple Items\n",
    "You can access tuple items by referring to the index number, inside square brackets:\n",
    "\n",
    "Example\n",
    "Print the second item in the tuple:\n",
    "\"\"\"\n",
    "\n",
    "thistuple = (\"apple\", \"banana\", \"cherry\")\n",
    "print(thistuple[1])"
   ]
  },
  {
   "cell_type": "code",
   "execution_count": 2,
   "metadata": {},
   "outputs": [
    {
     "name": "stdout",
     "output_type": "stream",
     "text": [
      "cherry\n"
     ]
    }
   ],
   "source": [
    "\"\"\"\n",
    "Negative Indexing\n",
    "Negative indexing means start from the end.\n",
    "\n",
    "-1 refers to the last item, -2 refers to the second last item etc.\n",
    "\n",
    "Example\n",
    "Print the last item of the tuple:\n",
    "\n",
    "\"\"\"\n",
    "\n",
    "thistuple = (\"apple\", \"banana\", \"cherry\")\n",
    "print(thistuple[-1])\n"
   ]
  },
  {
   "cell_type": "code",
   "execution_count": 5,
   "metadata": {},
   "outputs": [
    {
     "name": "stdout",
     "output_type": "stream",
     "text": [
      "('cherry', 'orange', 'kiwi')\n",
      "('apple', 'banana', 'cherry', 'orange')\n",
      "('cherry', 'orange', 'kiwi', 'melon', 'mango')\n"
     ]
    }
   ],
   "source": [
    "\"\"\"\n",
    "Range of Indexes\n",
    "You can specify a range of indexes by specifying where to start and where to end the range.\n",
    "\n",
    "When specifying a range, the return value will be a new tuple with the specified items.\n",
    "\n",
    "Example\n",
    "Return the third, fourth, and fifth item:\n",
    "\n",
    "\"\"\"\n",
    "\n",
    "thistuple = (\"apple\", \"banana\", \"cherry\", \"orange\", \"kiwi\", \"melon\", \"mango\")\n",
    "print(thistuple[2:5])\n",
    "\n",
    "\"\"\"\n",
    "\n",
    "By leaving out the start value, the range will start at the first item:\n",
    "\n",
    "Example\n",
    "This example returns the items from the beginning to, but NOT included, \"kiwi\":\n",
    "\n",
    "\"\"\"\n",
    "thistuple = (\"apple\", \"banana\", \"cherry\", \"orange\", \"kiwi\", \"melon\", \"mango\")\n",
    "print(thistuple[:4])\n",
    "\n",
    "\n",
    "# By leaving out the end value, the range will go on to the end of the list:\n",
    "\n",
    "#Example : This example returns the items from \"cherry\" and to the end:\n",
    "\n",
    "thistuple = (\"apple\", \"banana\", \"cherry\", \"orange\", \"kiwi\", \"melon\", \"mango\")\n",
    "print(thistuple[2:])\n",
    "\n"
   ]
  },
  {
   "cell_type": "code",
   "execution_count": 6,
   "metadata": {},
   "outputs": [
    {
     "name": "stdout",
     "output_type": "stream",
     "text": [
      "('orange', 'kiwi', 'melon')\n"
     ]
    }
   ],
   "source": [
    "\"\"\"\n",
    "Range of Negative Indexes\n",
    "Specify negative indexes if you want to start the search from the end of the tuple:\n",
    "Example\n",
    "This example returns the items from index -4 (included) to index -1 (excluded)\n",
    "\n",
    "\"\"\"\n",
    "thistuple = (\"apple\", \"banana\", \"cherry\", \"orange\", \"kiwi\", \"melon\", \"mango\")\n",
    "print(thistuple[-4:-1])\n",
    "\n"
   ]
  },
  {
   "cell_type": "code",
   "execution_count": 7,
   "metadata": {},
   "outputs": [
    {
     "name": "stdout",
     "output_type": "stream",
     "text": [
      "Yes, 'apple' is in the fruits tuple\n"
     ]
    }
   ],
   "source": [
    "\"\"\"\n",
    "Check if Item Exists\n",
    "To determine if a specified item is present in a tuple use the in keyword:\n",
    "\n",
    "Example\n",
    "Check if \"apple\" is present in the tuple:\n",
    "\"\"\"\n",
    "thistuple = (\"apple\", \"banana\", \"cherry\")\n",
    "if \"apple\" in thistuple:\n",
    "  print(\"Yes, 'apple' is in the fruits tuple\")\n"
   ]
  }
 ],
 "metadata": {
  "kernelspec": {
   "display_name": "Python 3.11.0 64-bit",
   "language": "python",
   "name": "python3"
  },
  "language_info": {
   "codemirror_mode": {
    "name": "ipython",
    "version": 3
   },
   "file_extension": ".py",
   "mimetype": "text/x-python",
   "name": "python",
   "nbconvert_exporter": "python",
   "pygments_lexer": "ipython3",
   "version": "3.11.0"
  },
  "orig_nbformat": 4,
  "vscode": {
   "interpreter": {
    "hash": "aee8b7b246df8f9039afb4144a1f6fd8d2ca17a180786b69acc140d282b71a49"
   }
  }
 },
 "nbformat": 4,
 "nbformat_minor": 2
}
