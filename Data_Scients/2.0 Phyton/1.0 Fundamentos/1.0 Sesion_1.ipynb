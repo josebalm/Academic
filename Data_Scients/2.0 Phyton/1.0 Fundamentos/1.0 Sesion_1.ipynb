{
 "cells": [
  {
   "cell_type": "code",
   "execution_count": 6,
   "id": "acd4f080",
   "metadata": {},
   "outputs": [
    {
     "name": "stdout",
     "output_type": "stream",
     "text": [
      "el resultado es 13\n"
     ]
    }
   ],
   "source": [
    "valor_uno = 5\n",
    "valor_dos = 8\n",
    "total = valor_uno + valor_dos\n",
    "print(\"el resultado es\",total)"
   ]
  },
  {
   "cell_type": "code",
   "execution_count": 7,
   "id": "38e0eec4",
   "metadata": {},
   "outputs": [
    {
     "name": "stdout",
     "output_type": "stream",
     "text": [
      "el resultado es 13\n"
     ]
    }
   ],
   "source": [
    "valor_uno,valor_dos = 5,8\n",
    "\n",
    "# la coma se uas cuando quiero separa un valor de otro\n",
    "\n",
    "total = valor_uno + valor_dos\n",
    "\n",
    "print(\"el resultado es\",total)\n"
   ]
  },
  {
   "cell_type": "code",
   "execution_count": 9,
   "id": "1a01a697",
   "metadata": {},
   "outputs": [
    {
     "name": "stdout",
     "output_type": "stream",
     "text": [
      "3.0\n"
     ]
    }
   ],
   "source": [
    "# la funcion input siempre lee texto. Por ello se debe hacer la conversion al tipo de dato correspondiente, si no se coloca el tipo de dato, lo entiende como texto\n",
    "# si no es pecifico tipo de dato, lo toma texto y lo que hace es concatenar en el resultado.\n",
    "# python solo concatena variables con el mismo tipo de dato.\n",
    "\n",
    "valor_uno = float(input())\n",
    "valor_dos = float(input())\n",
    "print(valor_uno + valor_dos)"
   ]
  },
  {
   "cell_type": "code",
   "execution_count": 11,
   "id": "202b6b7f",
   "metadata": {},
   "outputs": [
    {
     "name": "stdout",
     "output_type": "stream",
     "text": [
      "2\n",
      "0\n",
      "1\n",
      "1\n"
     ]
    }
   ],
   "source": [
    "\n",
    "# De esta manera obtengo el ultimo numero de una cadena de valores\n",
    "print(80851892%10)\n",
    "# Para saber si un valor es par o impar\n",
    "print(10%2) # El resultado es cero - Residuo cero- Por ello se determina que el numero es par\n",
    "print(11%2) # El resultado es 1 - residuo 1 - por ello se determina que el numero es impar\n",
    "print(1001%2)\n",
    "\n"
   ]
  },
  {
   "cell_type": "code",
   "execution_count": 12,
   "id": "f70355c3",
   "metadata": {},
   "outputs": [
    {
     "name": "stdout",
     "output_type": "stream",
     "text": [
      "El area al cuadrado de lado : 2.0 es : 4.0\n"
     ]
    }
   ],
   "source": [
    "# El area de un cuadrado puede calcularse como a^2. Escribir el codigo para calcuar e imprimir el area del cuadrado donde a=4\n",
    "\"\"\"\n",
    "Calcula el area de un cuadrado (lado ^2)\n",
    "\n",
    "ANALISIS \n",
    "\n",
    "    ENTRADA : Valor del lado (longitud, largo)\n",
    "    SALIDA : Area de un cuadrado\n",
    "    PROCESO : A) Validar que el valor sea positivo\n",
    "              B) Elevar el lado al cuadrado e imprimir el resultado\n",
    "              \n",
    "              \n",
    "EJEMPLOS\n",
    "    Lado 4, area es 16\n",
    "    Lado2.5 , area es 6.25\n",
    "    \n",
    "ALGORITMO \n",
    "\n",
    "    INICIO\n",
    "        Lea (lado)                    # Secuencial de E/S\n",
    "        area <- lado*lado             # Secuencial de asignacion\n",
    "        escriba(area)                 # secuencial de E/S\n",
    "    FIN\n",
    "\"\"\"\n",
    "\n",
    "a = float(input(\"por favor suministre el largo del lado del cuadrado \")) # modificar con el valor dado\n",
    "area = a*a # pero tambien se podria escribir a**2\n",
    "print(\"El area al cuadrado de lado :\",a,\"es :\",area)\n",
    "\n",
    "\n",
    "\n"
   ]
  },
  {
   "cell_type": "code",
   "execution_count": null,
   "id": "a48b5562",
   "metadata": {},
   "outputs": [],
   "source": []
  },
  {
   "cell_type": "code",
   "execution_count": null,
   "id": "a732aa40",
   "metadata": {},
   "outputs": [],
   "source": []
  }
 ],
 "metadata": {
  "kernelspec": {
   "display_name": "Python 3.11.0 64-bit",
   "language": "python",
   "name": "python3"
  },
  "language_info": {
   "codemirror_mode": {
    "name": "ipython",
    "version": 3
   },
   "file_extension": ".py",
   "mimetype": "text/x-python",
   "name": "python",
   "nbconvert_exporter": "python",
   "pygments_lexer": "ipython3",
   "version": "3.11.0"
  },
  "vscode": {
   "interpreter": {
    "hash": "aee8b7b246df8f9039afb4144a1f6fd8d2ca17a180786b69acc140d282b71a49"
   }
  }
 },
 "nbformat": 4,
 "nbformat_minor": 5
}
