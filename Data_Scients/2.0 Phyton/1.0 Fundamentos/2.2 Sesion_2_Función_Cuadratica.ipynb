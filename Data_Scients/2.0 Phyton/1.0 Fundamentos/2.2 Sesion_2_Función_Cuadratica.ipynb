{
 "cells": [
  {
   "cell_type": "code",
   "execution_count": 2,
   "id": "f404886e",
   "metadata": {},
   "outputs": [
    {
     "name": "stdout",
     "output_type": "stream",
     "text": [
      "la primera raiz del polinomio es :  (-0.49999999999999994+0.8660254037844386j)\n",
      "la primera raiz del polinomio es :  (-0.5-0.8660254037844386j)\n"
     ]
    }
   ],
   "source": [
    "import math\n",
    "\n",
    "a = float(input(\"coeficiente de x^2 : \"))\n",
    "b = float(input(\"coeficiente de x : \"))\n",
    "c = float(input(\"termino independiente : \"))\n",
    "\n",
    "x1 = (-b + ((b**2) - (4*a*c))**(0.5))/(2*a)\n",
    "x2 = (-b - ((b**2) - (4*a*c))**(0.5))/(2*a)\n",
    "\n",
    "print(\"la primera raiz del polinomio es : \",x1)\n",
    "print(\"la primera raiz del polinomio es : \",x2)\n",
    "\n"
   ]
  },
  {
   "cell_type": "code",
   "execution_count": 3,
   "id": "5834958a",
   "metadata": {},
   "outputs": [
    {
     "name": "stdout",
     "output_type": "stream",
     "text": [
      "7\n"
     ]
    }
   ],
   "source": [
    "# RANDON NUMBER \n",
    "\"\"\"\n",
    "Python does not have a random() funtion to make a Random number, but python has a built.in module called\n",
    "random that can be used to make random numbers:\n",
    "\"\"\"\n",
    "# example\n",
    "\n",
    "import random\n",
    "\n",
    "print(random.randrange(1,10))\n",
    "\n",
    "\n"
   ]
  },
  {
   "cell_type": "code",
   "execution_count": 4,
   "id": "cb23906f",
   "metadata": {},
   "outputs": [
    {
     "name": "stdout",
     "output_type": "stream",
     "text": [
      "(-0.5833333333333333+0.8122328620674136j)\n",
      "(-0.5833333333333334-0.8122328620674136j)\n"
     ]
    }
   ],
   "source": [
    "import math\n",
    "import random\n",
    "\n",
    "a = random.randrange(1,10)\n",
    "b = random.randrange(1,10)\n",
    "c = random.randrange(1,10)\n",
    "\n",
    "x1 = (-b + ((b**2) - (4*a*c))**(0.5))/(2*a)\n",
    "x2 = (-b - ((b**2) - (4*a*c))**(0.5))/(2*a)\n",
    "\n",
    "print(x1)\n",
    "print(x2)"
   ]
  },
  {
   "cell_type": "code",
   "execution_count": 5,
   "id": "6252d086",
   "metadata": {},
   "outputs": [
    {
     "ename": "ValueError",
     "evalue": "math domain error",
     "output_type": "error",
     "traceback": [
      "\u001b[0;31m---------------------------------------------------------------------------\u001b[0m",
      "\u001b[0;31mValueError\u001b[0m                                Traceback (most recent call last)",
      "Cell \u001b[0;32mIn[5], line 9\u001b[0m\n\u001b[1;32m      6\u001b[0m b \u001b[38;5;241m=\u001b[39m \u001b[38;5;28mfloat\u001b[39m(\u001b[38;5;28minput\u001b[39m(\u001b[38;5;124m\"\u001b[39m\u001b[38;5;124mcoeficiente de x : \u001b[39m\u001b[38;5;124m\"\u001b[39m))\n\u001b[1;32m      7\u001b[0m c \u001b[38;5;241m=\u001b[39m \u001b[38;5;28mfloat\u001b[39m(\u001b[38;5;28minput\u001b[39m(\u001b[38;5;124m\"\u001b[39m\u001b[38;5;124mtermino independiente : \u001b[39m\u001b[38;5;124m\"\u001b[39m))\n\u001b[0;32m----> 9\u001b[0m x1 \u001b[38;5;241m=\u001b[39m (\u001b[38;5;241m-\u001b[39mb \u001b[38;5;241m+\u001b[39m \u001b[43mmath\u001b[49m\u001b[38;5;241;43m.\u001b[39;49m\u001b[43msqrt\u001b[49m\u001b[43m(\u001b[49m\u001b[43mb\u001b[49m\u001b[38;5;241;43m*\u001b[39;49m\u001b[38;5;241;43m*\u001b[39;49m\u001b[38;5;241;43m2\u001b[39;49m\u001b[38;5;241;43m-\u001b[39;49m\u001b[38;5;241;43m4\u001b[39;49m\u001b[38;5;241;43m*\u001b[39;49m\u001b[43ma\u001b[49m\u001b[38;5;241;43m*\u001b[39;49m\u001b[43mc\u001b[49m\u001b[43m)\u001b[49m)\u001b[38;5;241m/\u001b[39m(\u001b[38;5;241m2\u001b[39m\u001b[38;5;241m*\u001b[39ma)\n\u001b[1;32m     10\u001b[0m x2 \u001b[38;5;241m=\u001b[39m (\u001b[38;5;241m-\u001b[39mb \u001b[38;5;241m-\u001b[39m math\u001b[38;5;241m.\u001b[39msqrt(b\u001b[38;5;241m*\u001b[39m\u001b[38;5;241m*\u001b[39m\u001b[38;5;241m2\u001b[39m\u001b[38;5;241m-\u001b[39m\u001b[38;5;241m4\u001b[39m\u001b[38;5;241m*\u001b[39ma\u001b[38;5;241m*\u001b[39mc))\u001b[38;5;241m/\u001b[39m(\u001b[38;5;241m2\u001b[39m\u001b[38;5;241m*\u001b[39ma)\n\u001b[1;32m     12\u001b[0m \u001b[38;5;28mprint\u001b[39m(\u001b[38;5;124m\"\u001b[39m\u001b[38;5;124mla primera raiz del polinomio es : \u001b[39m\u001b[38;5;124m\"\u001b[39m,x1)\n",
      "\u001b[0;31mValueError\u001b[0m: math domain error"
     ]
    }
   ],
   "source": [
    "# mismo ejercicio usando la funcion math.sqrt\n",
    "\n",
    "import math\n",
    "\n",
    "a = float(input(\"coeficiente de x^2 : \"))\n",
    "b = float(input(\"coeficiente de x : \"))\n",
    "c = float(input(\"termino independiente : \"))\n",
    "\n",
    "x1 = (-b + math.sqrt(b**2-4*a*c))/(2*a)\n",
    "x2 = (-b - math.sqrt(b**2-4*a*c))/(2*a)\n",
    " \n",
    "print(\"la primera raiz del polinomio es : \",x1)\n",
    "print(\"la primera raiz del polinomio es : \",x2)\n",
    "\n",
    "# tener en cuenta que la funcion math.sqrt no funciona en el mundo de los \n",
    "# numeros complejos .  por tanto cuando el valor se hace menor a cero, el programa\n",
    "# genera error e indica que la funcion esta fuera del dominio.\n"
   ]
  },
  {
   "cell_type": "code",
   "execution_count": 6,
   "id": "7864983e",
   "metadata": {},
   "outputs": [
    {
     "name": "stdout",
     "output_type": "stream",
     "text": [
      "la primera raiz del polinomio es :  (-0.375+0.9270248108869579j)\n",
      "la primera raiz del polinomio es :  (-0.375-0.9270248108869579j)\n"
     ]
    }
   ],
   "source": [
    "# mismo ejercicio anterior, pero usando la libreria cmath, la cual si \n",
    "# me permite los resultados en el dominio de los numeros complejos, el cual resuelve la dificultad del problma anterior\n",
    "\n",
    "import cmath as ma\n",
    "\n",
    "a = float(input(\"coeficiente de x^2 : \"))\n",
    "b = float(input(\"coeficiente de x : \"))\n",
    "c = float(input(\"termino independiente : \"))\n",
    "\n",
    "x1 = (-b + ma.sqrt(b**2-4*a*c))/(2*a)\n",
    "x2 = (-b - ma.sqrt(b**2-4*a*c))/(2*a)\n",
    " \n",
    "print(\"la primera raiz del polinomio es : \",x1)\n",
    "print(\"la primera raiz del polinomio es : \",x2)\n",
    "\n",
    "\n"
   ]
  },
  {
   "cell_type": "code",
   "execution_count": null,
   "id": "37594ff1",
   "metadata": {},
   "outputs": [],
   "source": [
    "# Como elevar numeros al cuadrado. ( Tres maneras)\n",
    "# 1) math.pow(base, expo) == a**2\n",
    "# 2) a*a\n",
    "# 3) math.pow(a,2)\n"
   ]
  },
  {
   "cell_type": "code",
   "execution_count": null,
   "id": "d238e93c",
   "metadata": {},
   "outputs": [
    {
     "name": "stdout",
     "output_type": "stream",
     "text": [
      "Digite la primera pista : 1\n",
      "Digite la Segunda pista : 2\n",
      "Digite la tercera pista : 4\n",
      "El numero a indicar es :   8\n"
     ]
    }
   ],
   "source": [
    "\"\"\"\n",
    "Juan y pedro acostumbran jugar un juego de adivinar un numero. En el juego es permitido dar tres pistas\n",
    "p1, p y p3. Despues de muchos intentos pedro descbre la formula con la que juan  crea el numero con las pistas dadas y es la siguinte:\n",
    "\n",
    "p1 + p3 + p2 - (p1 + p2 + 5 - 1) / (p2 + p1 /2)  p3\n",
    "\n",
    "Si la pista de juan es 2,1 y 4 ¿ cual es el numero que deberia decir pedro para ganar?\n",
    "\n",
    "Escrimos el codigo para recibir los valoresy devolver el valorque pedro deberia decir\n",
    "\n",
    "\"\"\"\n",
    "\"\"\"\n",
    "objetivo : indicar a Pedro el numero a decir para ganar\n",
    "\n",
    "    Analisis \n",
    "    \n",
    "        Entradas : Tres (3) Valores numericos ( Positivos y <10 ==> digitos)\n",
    "        \n",
    "        Salidas  : a) Mensaje de error en caso que las entradas no se ajusten a los valores necesarios\n",
    "                   b) Numero que deberá suministrar Pedro.\n",
    "                   \n",
    "        Proceso  : a) Validacion de entradas\n",
    "                   b) Calculo del numero a informar utilizando la formula\n",
    "                   \n",
    "    Ejemplos : (casos de Preba)\n",
    "    \n",
    "        P1 = 1, P2= 5 ,  p3=10, Valores de las pistas fuera de rango\n",
    "        \n",
    "        p1 = 1, P2 = 2 , p3=4, pedro debe indicar el No 8.2\n",
    "        \n",
    "        \n",
    "    ALGORITMO\n",
    "    \n",
    "    INICIO : \n",
    "        LEA\n",
    "        # ENTRADA\n",
    "        LEA P1\n",
    "        LEA P2\n",
    "        LEA P3\n",
    "        # PROCESO\n",
    "        N1 <- p1 + p3 + p2 - (p1 + p2 + 5 - 1) / (p2 + p1 /2)  p3\n",
    "        # SALIDA\n",
    "        Escriba \"El numero. a indicar es : \", N1\n",
    "    FIN\n",
    "\n",
    "\"\"\"\n",
    "\n",
    "\n",
    "#Entradas\n",
    "p1 = int(input(\"Digite la primera pista : \"))\n",
    "p2 = int(input(\"Digite la Segunda pista : \"))\n",
    "p3 = int(input(\"Digite la tercera pista : \"))\n",
    "\n",
    "# Proceso\n",
    "\n",
    "N1 = p1+p3*p2-(p1+p2*5+1)/(p2+p1/2)+p3\n",
    "N2 =int(N1)  # lo vuelvo entero. Truncamiento- Parte entera\n",
    "    \n",
    "# Salida\n",
    "\n",
    "print(\"El numero a indicar es :  \",N2)\n",
    "\n"
   ]
  },
  {
   "cell_type": "code",
   "execution_count": null,
   "id": "43d35444",
   "metadata": {},
   "outputs": [
    {
     "name": "stdout",
     "output_type": "stream",
     "text": [
      "Digite la primera pista : 1\n",
      "Digite la Segunda pista : 2\n",
      "Digite la tercera pista : 4\n",
      "El numero a indicar es :   8.2\n"
     ]
    }
   ],
   "source": [
    "#Version 2 (flotante)\n",
    "#Entradas\n",
    "p1 = int(input(\"Digite la primera pista : \"))\n",
    "p2 = int(input(\"Digite la Segunda pista : \"))\n",
    "p3 = int(input(\"Digite la tercera pista : \"))\n",
    "\n",
    "# Proceso\n",
    "\n",
    "N1 = p1+p3*p2-(p1+p2*5+1)/(p2+p1/2)+p3\n",
    "\n",
    "    \n",
    "# Salida\n",
    "\n",
    "print(\"El numero a indicar es :  \",N1)\n"
   ]
  },
  {
   "cell_type": "code",
   "execution_count": null,
   "id": "6f140bb6",
   "metadata": {},
   "outputs": [
    {
     "name": "stdout",
     "output_type": "stream",
     "text": [
      "Digite la primera pista : 1\n",
      "Digite la Segunda pista : 2\n",
      "Digite la tercera pista : 4\n",
      "El numero a indicar es :   7\n"
     ]
    }
   ],
   "source": [
    "#Version 3 (Redondeo)\n",
    "#Entradas\n",
    "p1 = int(input(\"Digite la primera pista : \"))\n",
    "p2 = int(input(\"Digite la Segunda pista : \"))\n",
    "p3 = int(input(\"Digite la tercera pista : \"))\n",
    "\n",
    "# Proceso\n",
    "\n",
    "N1 = p1+p3*p2-(p1+p2*5+1)//(p2+p1//2)+p3  # al aplicar la doble division, redondea el valor.\n",
    "# normalmente el redondeo se puede realizar en el proceso de la formula o al final.\n",
    "\n",
    "    \n",
    "# Salida\n",
    "\n",
    "print(\"El numero a indicar es :  \",N1)"
   ]
  },
  {
   "cell_type": "code",
   "execution_count": null,
   "id": "ef7034ab",
   "metadata": {},
   "outputs": [
    {
     "name": "stdout",
     "output_type": "stream",
     "text": [
      "Digite la primera pista : 1\n",
      "Digite la Segunda pista : 2\n",
      "Digite la tercera pista : 4\n",
      "El numero a indicar es :   8\n",
      "El numero a indicar es :   8.2\n"
     ]
    }
   ],
   "source": [
    "#Version 4 (Redondeo)\n",
    "\n",
    "#entrada\n",
    "p1 = int(input(\"Digite la primera pista : \"))\n",
    "p2 = int(input(\"Digite la Segunda pista : \"))\n",
    "p3 = int(input(\"Digite la tercera pista : \"))\n",
    "\n",
    "# Proceso\n",
    "\n",
    "N1 = p1+p3*p2-(p1+p2*5+1)/(p2+p1/2)+p3\n",
    "\n",
    "    \n",
    "# Salida\n",
    "\n",
    "print(\"El numero a indicar es :  \",round(N1))\n",
    "print(\"El numero a indicar es :  \",N1)\n"
   ]
  },
  {
   "cell_type": "code",
   "execution_count": null,
   "id": "7fba94d6",
   "metadata": {},
   "outputs": [
    {
     "name": "stdout",
     "output_type": "stream",
     "text": [
      "8\n",
      "9\n"
     ]
    }
   ],
   "source": [
    "# Diferencia entre truncar y redondear\n",
    "\n",
    "print(int(8.95))  # Truncamiento parte entera\n",
    "print(round(8.95)) # Aproximacion (Redondeo) Acercar al ntero mas proximo.\n",
    "\n",
    "\n",
    "\n"
   ]
  },
  {
   "cell_type": "code",
   "execution_count": null,
   "id": "9f2abdd6",
   "metadata": {},
   "outputs": [],
   "source": []
  }
 ],
 "metadata": {
  "kernelspec": {
   "display_name": "Python 3 (ipykernel)",
   "language": "python",
   "name": "python3"
  },
  "language_info": {
   "codemirror_mode": {
    "name": "ipython",
    "version": 3
   },
   "file_extension": ".py",
   "mimetype": "text/x-python",
   "name": "python",
   "nbconvert_exporter": "python",
   "pygments_lexer": "ipython3",
   "version": "3.8.18"
  }
 },
 "nbformat": 4,
 "nbformat_minor": 5
}
