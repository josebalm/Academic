{
 "cells": [
  {
   "cell_type": "code",
   "execution_count": 1,
   "id": "fe93ff93",
   "metadata": {},
   "outputs": [
    {
     "name": "stdout",
     "output_type": "stream",
     "text": [
      "<class 'int'>\n"
     ]
    }
   ],
   "source": [
    "\"Tipos de datos\"\n",
    "\n",
    "\n",
    "\"\"\"\n",
    "En programación, el tipo de datos es un concepto importante.\n",
    "\n",
    "Las variables pueden almacenar datos de diferentes tipos, y diferentes tipos pueden hacer cosas diferentes.\n",
    "\n",
    "Python tiene los siguientes tipos de datos integrados de forma predeterminada, en estas categorías:\n",
    "\n",
    "Tipo de texto:\tstr\n",
    "Tipos numéricos:\tint, float, complex\n",
    "Tipos de secuencia:\tlist, tuple, range\n",
    "Tipo de mapeo:\tdict\n",
    "Establecer tipos:\tset,frozenset\n",
    "Tipo booleano:\tbool\n",
    "Tipos binarios:\tbytes, bytearray, memoryview\n",
    "Ninguno Tipo:\tNoneType\n",
    "\n",
    "\"\"\"\n",
    "\n",
    "# Obtener el tipo de datos\n",
    "\n",
    "x = 5\n",
    "print(type(x))\n",
    "\n"
   ]
  },
  {
   "cell_type": "code",
   "execution_count": 2,
   "id": "6b6feb9f",
   "metadata": {},
   "outputs": [
    {
     "name": "stdout",
     "output_type": "stream",
     "text": [
      "Hello World <class 'str'>\n",
      "20 <class 'int'>\n",
      "20.5 <class 'float'>\n",
      "1j <class 'complex'>\n",
      "['apple', 'banana', 'cherry'] <class 'list'>\n",
      "('apple', 'banana', 'cherry') <class 'tuple'>\n",
      "range(0, 6) <class 'range'>\n",
      "{'name': 'John', 'age': 36} <class 'dict'>\n",
      "{'apple', 'cherry', 'banana'} <class 'set'>\n",
      "frozenset({'apple', 'cherry', 'banana'}) <class 'frozenset'>\n",
      "True <class 'bool'>\n",
      "b'\\x00\\x00\\x00\\x00\\x00' <class 'bytes'>\n",
      "bytearray(b'\\x00\\x00\\x00\\x00\\x00') <class 'bytearray'>\n",
      "<memory at 0x10af8ebc0> <class 'memoryview'>\n"
     ]
    }
   ],
   "source": [
    "# ejemplos\n",
    "\n",
    "x = \"hello world\"  # str\n",
    "x1 = 20 # int Int, or integer, is a whole number, positive or negative, without decimals, of unlimited length.\n",
    "x2 = 20.5  # floatFloat, or \"floating point number\" is a number, positive or negative, containing one or more decimals.\n",
    "x3 = 1j # complex Complex numbers are written with a \"j\" as the imaginary part\n",
    "x4 = [\"apple\", \"banana\", \"cherry\"]# List\n",
    "x5 = (\"apple\", \"banana\", \"cherry\") # tupla\n",
    "x6 = range(6) # range\n",
    "x7 = {\"name\" : \"John\", \"age\" : 36} # dict\n",
    "x8 = {\"apple\", \"banana\", \"cherry\"} # set\n",
    "x9 = frozenset({\"apple\", \"banana\", \"cherry\"}) # frozenset\n",
    "x10 = True # bool\n",
    "x11= b\"hello\" # bytes\n",
    "x12 = bytearray(5) # bytearray\n",
    "x13 = memoryview(bytes(5)) # memoryview\n",
    "x14 = None # Nonetype\n",
    "\n",
    "\n",
    "\n",
    "y1 = str(\"Hello World\") #str\t\n",
    "y2 = int(20) #int\t\n",
    "y3 = float(20.5)  #float\t\n",
    "y4 = complex(1j)  #complex\t\n",
    "y5 = list((\"apple\", \"banana\", \"cherry\")) #list\t\n",
    "y6 = tuple((\"apple\", \"banana\", \"cherry\")) #tuple\t\n",
    "y7 = range(6) #range\t\n",
    "y8 = dict(name=\"John\", age=36) #dict\t\n",
    "y9 = set((\"apple\", \"banana\", \"cherry\")) #set\t\n",
    "y10 = frozenset((\"apple\", \"banana\", \"cherry\")) #frozenset\t\n",
    "y11 = bool(5) #bool\t\n",
    "y12 = bytes(5) #bytes\t\n",
    "y13 = bytearray(5) #bytearray\t\n",
    "y14 = memoryview(bytes(5)) #memoryview\n",
    "\n",
    "\n",
    "print(y1,type(y1))\n",
    "print(y2,type(y2))\n",
    "print(y3,type(y3))\n",
    "print(y4,type(y4))\n",
    "print(y5,type(y5))\n",
    "print(y6,type(y6))\n",
    "print(y7,type(y7))\n",
    "print(y8,type(y8))\n",
    "print(y9,type(y9))\n",
    "print(y10,type(y10))\n",
    "print(y11,type(y11))\n",
    "print(y12,type(y12))\n",
    "print(y13,type(y13))\n",
    "print(y14,type(y14))\n"
   ]
  },
  {
   "cell_type": "code",
   "execution_count": 7,
   "id": "200f84d4",
   "metadata": {},
   "outputs": [
    {
     "name": "stdout",
     "output_type": "stream",
     "text": [
      "1.0\n",
      "2\n",
      "(1+0j)\n",
      "<class 'float'>\n",
      "<class 'int'>\n",
      "<class 'complex'>\n"
     ]
    }
   ],
   "source": [
    "# TYPE CONVERSION\n",
    "\n",
    "# You can convert from one type to another with he int(), float(), and complex() methods:\n",
    "\n",
    "# example:\n",
    "\n",
    "x = 1 # int\n",
    "y = 2.9 # float \n",
    "z = 1j # complex\n",
    "\n",
    "# convert from int to float\n",
    "a = float(x)\n",
    "\n",
    "# convert from float tto int\n",
    "b = int(y)\n",
    "\n",
    "# convert from int to complex\n",
    "c = complex(x) \n",
    "\n",
    "print(a)\n",
    "print(b)\n",
    "print(c)\n",
    "\n",
    "\n",
    "print(type(a))\n",
    "print(type(b))\n",
    "print(type(c))\n",
    "\n",
    "# Note: You cannot convert complex numbers into another number type.\n"
   ]
  },
  {
   "cell_type": "code",
   "execution_count": null,
   "id": "bb7f5d67",
   "metadata": {},
   "outputs": [],
   "source": []
  }
 ],
 "metadata": {
  "kernelspec": {
   "display_name": "Python 3.11.0 64-bit",
   "language": "python",
   "name": "python3"
  },
  "language_info": {
   "codemirror_mode": {
    "name": "ipython",
    "version": 3
   },
   "file_extension": ".py",
   "mimetype": "text/x-python",
   "name": "python",
   "nbconvert_exporter": "python",
   "pygments_lexer": "ipython3",
   "version": "3.11.0"
  },
  "vscode": {
   "interpreter": {
    "hash": "aee8b7b246df8f9039afb4144a1f6fd8d2ca17a180786b69acc140d282b71a49"
   }
  }
 },
 "nbformat": 4,
 "nbformat_minor": 5
}
