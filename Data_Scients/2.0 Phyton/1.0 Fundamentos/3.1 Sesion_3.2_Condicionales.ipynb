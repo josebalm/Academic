{
 "cells": [
  {
   "cell_type": "code",
   "execution_count": 7,
   "id": "28df6964",
   "metadata": {},
   "outputs": [
    {
     "name": "stdout",
     "output_type": "stream",
     "text": [
      "por favor ingresa un numero 0\n",
      "El numero 0 es positivisimo\n",
      " Esto ya esta por fuera del condicional\n"
     ]
    }
   ],
   "source": [
    "x = int(input(\"por favor ingresa un numero \"))\n",
    "if x <0:\n",
    "    y = \"El numero {} es negativisimo\"\n",
    "    print(y.format(x))\n",
    "else: # Si no...\n",
    "    y = \"El numero {} es positivisimo\"\n",
    "    print(y.format(x))\n",
    "\n",
    "print(\" Esto ya esta por fuera del condicional\") # Esta por fuera por que ya no hay tabulacion."
   ]
  },
  {
   "cell_type": "code",
   "execution_count": 12,
   "id": "6ab0fd45",
   "metadata": {},
   "outputs": [
    {
     "name": "stdout",
     "output_type": "stream",
     "text": [
      "por favor ingresa un numero -5\n",
      "El numero -5 es negativisimo\n",
      " Esto ya esta por fuera del condicional\n"
     ]
    }
   ],
   "source": [
    "# Version 2 -Con IF anidado dentro del ELSE\n",
    "\n",
    "x = int(input(\"por favor ingresa un numero \"))\n",
    "if x <0:\n",
    "    y = \"El numero {} es negativisimo\"\n",
    "    print(y.format(x))\n",
    "else: # Si no...\n",
    "    if x>0:\n",
    "        y = \"El numero {} es positivisimo\"\n",
    "        print(y.format(x))\n",
    "    else:\n",
    "        y = \"El numero {} no es ni positivo ni negativo\"\n",
    "        print(y.format(x))\n",
    "        \n",
    "print(\" Esto ya esta por fuera del condicional\") # Esta por fuera por que ya no hay tabulacion."
   ]
  },
  {
   "cell_type": "code",
   "execution_count": 16,
   "id": "89306f33",
   "metadata": {},
   "outputs": [
    {
     "name": "stdout",
     "output_type": "stream",
     "text": [
      "por favor ingresa un numero 3\n",
      "El numero 3 es positivisimo\n",
      " Esto ya esta por fuera del condicional\n"
     ]
    }
   ],
   "source": [
    "# Version 3 -Con IF multiple\n",
    "\n",
    "x = int(input(\"por favor ingresa un numero \"))\n",
    "if x <0:\n",
    "    y = \"El numero {} es negativisimo\"\n",
    "    print(y.format(x))\n",
    "elif x>0:  # La funcion ElIF reemplaza los IF anidados dentro de un Else.  El resultado es igual a la version anterior.\n",
    "    # Elif = Si no si...\n",
    "    y = \"El numero {} es positivisimo\"\n",
    "    print(y.format(x))\n",
    "else:# Si no..\n",
    "    y = \"El numero {} no es ni positivo ni negativo\"\n",
    "    print(y.format(x))\n",
    "\n",
    "print(\" Esto ya esta por fuera del condicional\") # Esta por fuera por que ya no hay tabulacion."
   ]
  },
  {
   "cell_type": "code",
   "execution_count": 18,
   "id": "b778fc7e",
   "metadata": {},
   "outputs": [
    {
     "name": "stdout",
     "output_type": "stream",
     "text": [
      "--------- TABLA DE VERDAD-------\n",
      "True True\n",
      "False True\n",
      "False True\n",
      "False False\n"
     ]
    }
   ],
   "source": [
    "\n",
    "print(\"--------- TABLA DE VERDAD-------\")\n",
    "print((True and True),(True or True))\n",
    "print((True and False),(True or False))\n",
    "print((False and True),(False or True))\n",
    "print((False and False),(False or False))"
   ]
  },
  {
   "cell_type": "code",
   "execution_count": 22,
   "id": "d7ab56b6",
   "metadata": {},
   "outputs": [
    {
     "name": "stdout",
     "output_type": "stream",
     "text": [
      "digite el valor de A: 4\n",
      "digite el valor de B: 3\n",
      "El valor de A es :  4\n"
     ]
    }
   ],
   "source": [
    "a =int(input(\"digite el valor de A: \"))\n",
    "b =int(input(\"digite el valor de B: \"))\n",
    "\n",
    "if a >2 or b<4:\n",
    "    print(\"El valor de A es : \",a)\n",
    "\n",
    "    \n",
    "\n",
    "\n"
   ]
  },
  {
   "cell_type": "code",
   "execution_count": 27,
   "id": "f4e24ae4",
   "metadata": {},
   "outputs": [
    {
     "name": "stdout",
     "output_type": "stream",
     "text": [
      "Digite edad :  90\n",
      "tiene Diploma :  S\n",
      "Ingresa\n"
     ]
    }
   ],
   "source": [
    "# EJERCICIO CONDICIONAL CON AND.\n",
    "\n",
    "edad = int(input(\"Digite edad :  \"))\n",
    "tiene_Diploma = input(\"tiene Diploma :  \")\n",
    "if edad > 17 and tiene_Diploma ==\"S\":  # SI LA PERSONA TIENE MAS DE 17 Y CON DIPLOMA ENTRA\n",
    "    print(\"Ingresa\")\n",
    "else :\n",
    "    print(\"No ingresa\")\n",
    "    \n"
   ]
  },
  {
   "cell_type": "code",
   "execution_count": 28,
   "id": "cff7ca75",
   "metadata": {},
   "outputs": [
    {
     "name": "stdout",
     "output_type": "stream",
     "text": [
      "Digite edad :  90\n",
      "tiene Diploma :  s\n",
      "Ingresa\n"
     ]
    }
   ],
   "source": [
    "# VERSION CON EL PROLEMA DE LA S MAYUSCULA - una forma de solucionar es colocar en parentesis y agregregar la posibilidad\n",
    "# con OR, incluendo la s minuscula.\n",
    "\n",
    "edad = int(input(\"Digite edad :  \"))\n",
    "tiene_Diploma = input(\"tiene Diploma :  \")\n",
    "if edad > 17 and (tiene_Diploma ==\"S\" or tiene_Diploma ==\"s\"):  # se icluye or adicional para el problema de la s minuscula\n",
    "    print(\"Ingresa\")\n",
    "else :\n",
    "    print(\"No ingresa\")\n",
    "    "
   ]
  },
  {
   "cell_type": "code",
   "execution_count": 30,
   "id": "6e71bf5f",
   "metadata": {},
   "outputs": [
    {
     "name": "stdout",
     "output_type": "stream",
     "text": [
      "Digite edad :  90\n",
      "tiene Diploma :  s\n",
      "Ingresa\n"
     ]
    }
   ],
   "source": [
    "# Segunda opcion de solucion del problema de la S minusula, usando Uppercase.\n",
    "edad = int(input(\"Digite edad :  \"))\n",
    "tiene_Diploma = input(\"tiene Diploma :  \").upper() # Upper convierte a mayuscula.\n",
    "if edad > 17 and tiene_Diploma ==\"S\":  \n",
    "    print(\"Ingresa\")\n",
    "else :\n",
    "    print(\"No ingresa\")\n",
    "    "
   ]
  },
  {
   "cell_type": "code",
   "execution_count": 34,
   "id": "4e32f09d",
   "metadata": {},
   "outputs": [
    {
     "name": "stdout",
     "output_type": "stream",
     "text": [
      "Digite el numero : 83759824759824785729\n",
      "No\n"
     ]
    }
   ],
   "source": [
    "# escribe el codigo paraleer un numero entero e imprime SI, si el ultimo digito es 4.\n",
    "\n",
    "num = int(input(\"Digite el numero : \"))\n",
    "num_2 = num%10\n",
    "if num_2==4 :\n",
    "    print(\"SI\")\n",
    "else :\n",
    "    print(\"No\")\n",
    "    \n",
    "\n",
    "\n",
    "\n"
   ]
  },
  {
   "cell_type": "code",
   "execution_count": 36,
   "id": "a188e216",
   "metadata": {},
   "outputs": [
    {
     "name": "stdout",
     "output_type": "stream",
     "text": [
      "Digite el numero : 4534535456346454\n",
      "SI\n"
     ]
    }
   ],
   "source": [
    "# Otra version, excluyendo la variable num_2\n",
    "num = int(input(\"Digite el numero : \"))\n",
    "\n",
    "if num%10==4 :\n",
    "    print(\"SI\")\n",
    "else :\n",
    "    print(\"No\")\n",
    "    "
   ]
  },
  {
   "cell_type": "code",
   "execution_count": 67,
   "id": "7cebad94",
   "metadata": {},
   "outputs": [
    {
     "name": "stdout",
     "output_type": "stream",
     "text": [
      "1\n",
      "Debe detenerse el semaforo esta en color rojo\n"
     ]
    }
   ],
   "source": [
    "import random\n",
    "color_semaforo = int(random.randrange(1,4))\n",
    "print(color_semaforo)\n",
    "if color_semaforo == 1 :\n",
    "    print(\"Debe detenerse el semaforo esta en color rojo\")\n",
    "elif color_semaforo == 2 :\n",
    "    print(\"Pase con precaucion el semaforo esta en color naranja\")\n",
    "elif color_semaforo == 3 :\n",
    "    print(\"Avance, el semaforo esta en color Verde\")\n"
   ]
  },
  {
   "cell_type": "code",
   "execution_count": 81,
   "id": "7f7aaec5",
   "metadata": {},
   "outputs": [
    {
     "name": "stdout",
     "output_type": "stream",
     "text": [
      "Ingrese Peso: 200\n",
      "Ingrese Altura: 1.86\n",
      "Alerta estas Gordis  57.81\n"
     ]
    }
   ],
   "source": [
    "\"\"\"\n",
    "Algorimo\n",
    "     inicio : \n",
    "         Flotante peso, altura, IMC\n",
    "         lea peso, altura\n",
    "         IMC <- peso / ltura **2\n",
    "         SI IMC > 4.0 entonces\n",
    "            Escriba\"Alerta\"\n",
    "         Fin si.\n",
    "         \n",
    "    FIN\n",
    "\n",
    "\"\"\"\n",
    "\n",
    "\n",
    "\n",
    "peso = float(input(\"Ingrese Peso: \"))\n",
    "Altura = float(input(\"Ingrese Altura: \"))\n",
    "\n",
    "if peso > 0 and Altura > 0 :\n",
    "    IMC = peso / Altura**2\n",
    "    if IMC > 40 :\n",
    "        print(f\"Alerta estas Gordis {IMC: .2f}\")  # Esta es otra forma de formatear la salida. 2f al final, haace q en el resultado, salag con solo 2 decimales.\n",
    "    else :\n",
    "        print(\"estas bn de IMC\",IMC)\n",
    "else :\n",
    "    print(\"El peso y la estatura debe se mayor que cero\")\n",
    "    "
   ]
  },
  {
   "cell_type": "code",
   "execution_count": 1,
   "id": "56acd0d9",
   "metadata": {},
   "outputs": [
    {
     "name": "stdout",
     "output_type": "stream",
     "text": [
      "estas bn de IMC 0.0031506532547115273\n"
     ]
    }
   ],
   "source": [
    "\n",
    "peso = float(input(\"Ingrese Peso: \"))\n",
    "Altura = float(input(\"Ingrese Altura: \"))\n",
    "\n",
    "if peso > 0 and Altura > 0 :\n",
    "    IMC = peso / Altura**2\n",
    "    if IMC > 40 :\n",
    "        y = \"Alerta stas gordis {}\"\n",
    "        print(y.format(IMC))\n",
    "    else :\n",
    "        print(\"estas bn de IMC\",IMC)\n",
    "else :\n",
    "    print(\"El peso y la estatura debe se mayor que cero\")\n",
    "    "
   ]
  },
  {
   "cell_type": "code",
   "execution_count": null,
   "id": "900333f2",
   "metadata": {},
   "outputs": [],
   "source": []
  },
  {
   "cell_type": "code",
   "execution_count": null,
   "id": "50d92e64",
   "metadata": {},
   "outputs": [],
   "source": []
  }
 ],
 "metadata": {
  "kernelspec": {
   "display_name": "Python 3 (ipykernel)",
   "language": "python",
   "name": "python3"
  },
  "language_info": {
   "codemirror_mode": {
    "name": "ipython",
    "version": 3
   },
   "file_extension": ".py",
   "mimetype": "text/x-python",
   "name": "python",
   "nbconvert_exporter": "python",
   "pygments_lexer": "ipython3",
   "version": "3.11.0"
  }
 },
 "nbformat": 4,
 "nbformat_minor": 5
}
