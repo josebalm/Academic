{
 "cells": [
  {
   "cell_type": "code",
   "execution_count": 3,
   "metadata": {},
   "outputs": [
    {
     "name": "stdout",
     "output_type": "stream",
     "text": [
      "['apple', 'banana', 'cherry']\n",
      "('apple', 'kiwi', 'cherry')\n"
     ]
    }
   ],
   "source": [
    "\"\"\"\n",
    "Python - Update Tuples\n",
    "\n",
    "Tuples are unchangeable, meaning that you cannot change, add, or remove items once the tuple is created.\n",
    "\n",
    "But there are some workarounds.(solutions) :\n",
    "\n",
    "\n",
    "Change Tuple Values\n",
    "Once a tuple is created, you cannot change its values. Tuples are unchangeable, or immutable as it also is called.\n",
    "\n",
    "But there is a workaround. You can convert the tuple into a list, change the list, and convert the list back into a tuple.\n",
    "\n",
    "Example\n",
    "Convert the tuple into a list to be able to change it:\n",
    "\n",
    "\"\"\"\n",
    "\n",
    "x = (\"apple\", \"banana\", \"cherry\")\n",
    "y = list(x)\n",
    "print(y)\n",
    "y[1] = \"kiwi\"\n",
    "x = tuple(y)\n",
    "\n",
    "print(x)\n",
    "\n"
   ]
  },
  {
   "cell_type": "code",
   "execution_count": 8,
   "metadata": {},
   "outputs": [
    {
     "name": "stdout",
     "output_type": "stream",
     "text": [
      "('apple', 'banana', 'cherry', 'Orange')\n",
      "('Orange', 'apple', 'banana', 'cherry')\n",
      "('apple', 'banana', 'cherry', 'orange')\n"
     ]
    }
   ],
   "source": [
    "\"\"\"\n",
    "Add Items\n",
    "Since tuples are immutable, they do not have a build-in append() method, but there are other ways to add items to a tuple.\n",
    "\n",
    "1. Convert into a list: Just like the workaround for changing a tuple, you can convert it into a list, add your item(s), and convert it back into a tuple.\n",
    "\n",
    "Example\n",
    "Convert the tuple into a list, add \"orange\", and convert it back into a tuple:\n",
    "\n",
    "\"\"\"\n",
    "\n",
    "x = (\"apple\", \"banana\", \"cherry\")\n",
    "y = list(x)\n",
    "y.append(\"Orange\") # append always insert at the final.\n",
    "x = tuple(y)\n",
    "print(x)\n",
    "\n",
    "# Remenber another form to add values in a list ( With funtion insert)\n",
    "\n",
    "x1 = (\"apple\", \"banana\", \"cherry\")\n",
    "y1 = list(x1)\n",
    "y1.insert(0,\"Orange\") # insert in position \"0\" \n",
    "x1 = tuple(y1)\n",
    "print(x1)\n",
    "\n",
    "\n",
    "# Remenber another form to add values in a list ( With index)\n",
    "\n",
    "x2 = (\"apple\", \"banana\", \"cherry\")\n",
    "y2 = list(x)\n",
    "y2[3:4]=[\"orange\"] # insert at the final of the list. posicion index 3:4\n",
    "x2 = tuple(y2)\n",
    "print(x2)\n"
   ]
  },
  {
   "cell_type": "code",
   "execution_count": 11,
   "metadata": {},
   "outputs": [
    {
     "name": "stdout",
     "output_type": "stream",
     "text": [
      "('apple', 'banana', 'cherry', 'orange', 'purpu', 'mimianibiriland')\n"
     ]
    }
   ],
   "source": [
    "\"\"\"\n",
    "2. Add tuple to a tuple. You are allowed to add tuples to tuples, so if you want to add one item, (or many), \n",
    "create a new tuple with the item(s), and add it to the existing tuple:\n",
    "\n",
    "\"\"\"\n",
    "\n",
    "thistuple = (\"apple\", \"banana\", \"cherry\")\n",
    "y = (\"orange\",\"purpu\",\"mimianibiriland\") # n values.  Remember if only one value, you need a coma at the final of the tuple.\n",
    "thistuple += y\n",
    "\n",
    "print(thistuple)"
   ]
  },
  {
   "cell_type": "code",
   "execution_count": 12,
   "metadata": {},
   "outputs": [
    {
     "name": "stdout",
     "output_type": "stream",
     "text": [
      "('banana', 'cherry')\n",
      "('banana', 'cherry')\n",
      "('banana', 'cherry')\n"
     ]
    }
   ],
   "source": [
    "\"\"\"\n",
    "Remove Items\n",
    "\n",
    "Note: You cannot remove items in a tuple.\n",
    "\n",
    "Tuples are unchangeable, so you cannot remove items from it, but you can use the same workaround as we used for changing and adding tuple items:\n",
    "\n",
    "Example\n",
    "Convert the tuple into a list, remove \"apple\", and convert it back into a tuple:\n",
    "\n",
    "\"\"\"\n",
    "thistuple = (\"apple\", \"banana\", \"cherry\")\n",
    "y = list(thistuple)\n",
    "y.remove(\"apple\")\n",
    "thistuple = tuple(y)\n",
    "print(thistuple)\n",
    "\n",
    "\n",
    "thistuple2 = (\"apple\", \"banana\", \"cherry\")\n",
    "y = list(thistuple2)\n",
    "y.pop(0)  # remember another formn to delete  values.  Using funtion pop.  Remember if you dont specific position,  it remove the last.,\n",
    "thistuple2 = tuple(y)\n",
    "print(thistuple2)\n",
    "\n",
    "\n",
    "thistuple3 = (\"apple\", \"banana\", \"cherry\")\n",
    "y = list(thistuple3)\n",
    "del y[0:1] # with funtion del.\n",
    "thistuple3 = tuple(y)\n",
    "print(thistuple3)\n",
    "\n",
    "\n"
   ]
  }
 ],
 "metadata": {
  "kernelspec": {
   "display_name": "Python 3.11.0 64-bit",
   "language": "python",
   "name": "python3"
  },
  "language_info": {
   "codemirror_mode": {
    "name": "ipython",
    "version": 3
   },
   "file_extension": ".py",
   "mimetype": "text/x-python",
   "name": "python",
   "nbconvert_exporter": "python",
   "pygments_lexer": "ipython3",
   "version": "3.11.0"
  },
  "orig_nbformat": 4,
  "vscode": {
   "interpreter": {
    "hash": "aee8b7b246df8f9039afb4144a1f6fd8d2ca17a180786b69acc140d282b71a49"
   }
  }
 },
 "nbformat": 4,
 "nbformat_minor": 2
}
