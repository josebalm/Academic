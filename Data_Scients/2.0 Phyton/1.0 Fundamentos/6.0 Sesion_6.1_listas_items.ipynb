{
 "cells": [
  {
   "cell_type": "code",
   "execution_count": 2,
   "metadata": {},
   "outputs": [
    {
     "name": "stdout",
     "output_type": "stream",
     "text": [
      "banana\n"
     ]
    }
   ],
   "source": [
    "#Access items\n",
    "\n",
    "#List items are indexed and you can access them by reefrring to the index number:\n",
    "\n",
    "# Example : Print the second item of the list:\n",
    "\n",
    "thislist = [\"apple\", \"banana\", \"cherry\"]\n",
    "print(thislist[1])\n",
    "\n",
    "# Note: The first item has index 0."
   ]
  },
  {
   "cell_type": "code",
   "execution_count": 1,
   "metadata": {},
   "outputs": [
    {
     "name": "stdout",
     "output_type": "stream",
     "text": [
      "cherry\n"
     ]
    }
   ],
   "source": [
    "# Negative Index\n",
    "\n",
    "\"\"\"\n",
    "Negative indexing means start from the end\n",
    "\n",
    "-1 refers to the last item, -2 refers to the second last item etc.\n",
    "\n",
    "\"\"\"\n",
    "thislist = [\"apple\", \"banana\", \"cherry\"]\n",
    "print(thislist[-1])\n"
   ]
  },
  {
   "cell_type": "code",
   "execution_count": 12,
   "metadata": {},
   "outputs": [
    {
     "name": "stdout",
     "output_type": "stream",
     "text": [
      "['cherry', 'orange', 'kiwi']\n"
     ]
    }
   ],
   "source": [
    "\"\"\"\n",
    "Range of Indexes\n",
    "You can specify a range of indexes by specifying where to start and where to end the range.\n",
    "\n",
    "When specifying a range, the return value will be a new list with the specified items.\n",
    "\n",
    "thislist = [0],[1],[2],[3],[4],[5],[n]...\n",
    "\"\"\"\n",
    "#thislist =  [0]   ,    [1]  ,    [2]  ,    [3]  ,   [4] ,   [5]  ,   [6]\n",
    "thislist = [\"apple\", \"banana\", \"cherry\", \"orange\", \"kiwi\", \"melon\", \"mango\"]\n",
    "print(thislist[2:5])\n",
    "\n",
    "# Note: The search will start at index 2 (included) and end at index 5 (not included)."
   ]
  },
  {
   "cell_type": "code",
   "execution_count": 13,
   "metadata": {},
   "outputs": [
    {
     "name": "stdout",
     "output_type": "stream",
     "text": [
      "['apple', 'banana', 'cherry', 'orange']\n"
     ]
    }
   ],
   "source": [
    "# By leaving out the start value, the range will start at the first item:\n",
    "# This example returns the items from the beginning to, but NOT including, \"kiwi\":\n",
    "\n",
    "thislist = [\"apple\", \"banana\", \"cherry\", \"orange\", \"kiwi\", \"melon\", \"mango\"]\n",
    "print(thislist[:4])\n"
   ]
  },
  {
   "cell_type": "code",
   "execution_count": 14,
   "metadata": {},
   "outputs": [
    {
     "name": "stdout",
     "output_type": "stream",
     "text": [
      "['cherry', 'orange', 'kiwi', 'melon', 'mango']\n"
     ]
    }
   ],
   "source": [
    "# By leaving out the end value, the range will go on to the end of the list:\n",
    "\n",
    "# Example : This example returns the items from \"cherry\" to the end:\n",
    "\n",
    "thislist = [\"apple\", \"banana\", \"cherry\", \"orange\", \"kiwi\", \"melon\", \"mango\"]\n",
    "print(thislist[2:])\n",
    "\n"
   ]
  },
  {
   "cell_type": "code",
   "execution_count": 15,
   "metadata": {},
   "outputs": [
    {
     "name": "stdout",
     "output_type": "stream",
     "text": [
      "['orange', 'kiwi', 'melon']\n"
     ]
    }
   ],
   "source": [
    "#  Range of Negative Indexes :  Specify negative indexes if you want to start the search from the end of the list:\n",
    "\n",
    "# example : This example returns the items from \"orange\" (-4) to, but NOT including \"mango\" (-1):\n",
    "\n",
    "# thislist =  [-7],     [-6],     [-5],    [-4],     [-3],   [-2],   [-1]\n",
    "thislist = [\"apple\", \"banana\", \"cherry\", \"orange\", \"kiwi\", \"melon\", \"mango\"]\n",
    "print(thislist[-4:-1])"
   ]
  },
  {
   "cell_type": "code",
   "execution_count": 4,
   "metadata": {},
   "outputs": [],
   "source": [
    "\"\"\"\n",
    "Check if Item Exists\n",
    "To determine if a specified item is present in a list use the in keyword:\n",
    "\n",
    "\"\"\"\n",
    "# example : Check if \"apple\" is present in the list:\n",
    "\n",
    "thislist = [\"apple\", \"banana\", \"cherry\"]\n",
    "if \"apple\" in thislist:\n",
    "  print(\"Yes, 'apple' is in the fruits list\")\n",
    "\n",
    "\n"
   ]
  },
  {
   "cell_type": "code",
   "execution_count": 5,
   "metadata": {},
   "outputs": [
    {
     "name": "stdout",
     "output_type": "stream",
     "text": [
      "31 dias\n"
     ]
    }
   ],
   "source": [
    "\n",
    "\"\"\"\n",
    "VERSION MEJORADA DEL EJERCICIO DE CONDICIONALES MULTIPLES - UTILIZANDO LISTAS PARA OPTIMIZAR LAS LINEAS DE CODIGO.\n",
    "\n",
    "Calcular el numero de dias de un mes\n",
    "try:\n",
    "    mes = int(input(\"indique el numero del mes: \"))\n",
    "    if mes < 1 or mes > 12:\n",
    "        print(\"Mes invalido\")\n",
    "    elif mes == 1 or mes == 3 or mes == 5 or mes == 7 or mes == 8 or mes == 10 or mes == 12 :\n",
    "        print(\"31 dias\")\n",
    "    elif mes == 4 or mes == 6 or mes == 9 or mes == 11 :\n",
    "        print(\"30 dias\")\n",
    "    else :\n",
    "        print(\"28 dias\")\n",
    "except Exception:\n",
    "    print(\"el numero de mes debe ser un entero entre 1 y 12\") \n",
    "\n",
    "\n",
    "\n",
    "\"\"\"\n",
    "\n",
    "try:\n",
    "    mes = int(input(\"indique el numero del mes: \"))\n",
    "    list1 =[1,3,5,7,8,10,12]\n",
    "    list2 =[4,6,9,11]\n",
    "    if mes < 1 or mes > 12:\n",
    "        print(\"Mes invalido\")\n",
    "    elif mes in list1:\n",
    "        print(\"31 dias\")\n",
    "    elif mes in list2:\n",
    "        print(\"30 dias\")\n",
    "    else :\n",
    "        print(\"28 dias\")\n",
    "except Exception:\n",
    "    print(\"el numero de mes debe ser un entero entre 1 y 12\") \n",
    "\n",
    "\n",
    "\n"
   ]
  },
  {
   "cell_type": "code",
   "execution_count": 26,
   "metadata": {},
   "outputs": [
    {
     "name": "stdout",
     "output_type": "stream",
     "text": [
      "['apple', 'blackcurrant', 'cherry']\n",
      "['apple', 'blackcurrant', 'cherry']\n"
     ]
    }
   ],
   "source": [
    "\"\"\"\n",
    "Python - Change List Items\n",
    "\n",
    "To change the value of a specific item, refer to the index number:\n",
    "\n",
    "\"\"\"\n",
    "\n",
    "# Example :  Change the second item:\n",
    "\n",
    "thislist = [\"apple\", \"banana\", \"cherry\"]\n",
    "thislist[-2] = \"blackcurrant\"\n",
    "print(thislist)\n",
    "\n",
    "thislist = [\"apple\", \"banana\", \"cherry\"]\n",
    "thislist[1] = \"blackcurrant\"\n",
    "print(thislist)\n",
    "\n",
    "# BOTH GENERATE THE SAME RESULT."
   ]
  },
  {
   "cell_type": "code",
   "execution_count": 30,
   "metadata": {},
   "outputs": [
    {
     "name": "stdout",
     "output_type": "stream",
     "text": [
      "['apple', 'blackcurrant', 'watermelon', 'orange', 'kiwi', 'mango']\n",
      "['apple', 'blackcurrant', 'watermelon', 'orange', 'kiwi', 'mango']\n"
     ]
    }
   ],
   "source": [
    "\"\"\"\n",
    "Change a Range of Item Values\n",
    "To change the value of items within a specific range, define a list with the new values, \n",
    "and refer to the range of index numbers where you want to insert the new values:\n",
    "\n",
    "\n",
    "\"\"\"\n",
    "\n",
    "thislist = [\"apple\", \"banana\", \"cherry\", \"orange\", \"kiwi\", \"mango\"]\n",
    "thislist[1:3] = [\"blackcurrant\", \"watermelon\"]\n",
    "print(thislist)\n",
    "\n",
    "\n",
    "\n",
    "thislist = [\"apple\", \"banana\", \"cherry\", \"orange\", \"kiwi\", \"mango\"]\n",
    "thislist[-5:-3] = [\"blackcurrant\", \"watermelon\"]\n",
    "print(thislist)\n",
    "\n",
    "\n"
   ]
  },
  {
   "cell_type": "code",
   "execution_count": 34,
   "metadata": {},
   "outputs": [
    {
     "name": "stdout",
     "output_type": "stream",
     "text": [
      "['apple', 'blackcurrant', 'watermelon', 'cherry']\n"
     ]
    }
   ],
   "source": [
    "# If you insert more items than you replace, the new items will be inserted where you specified, and the remaining items will move accordingly:\n",
    "# example : Change the second value by replacing it with two new values:\n",
    "thislist = [\"apple\", \"banana\", \"cherry\"]\n",
    "thislist[1:2] = [\"blackcurrant\", \"watermelon\"] # position 1:2 is refer to the same position. Remember in this case that the position of 2 = 2-1 = 1\n",
    "print(thislist)\n",
    "\n",
    "# Note: The length of the list will change when the number of items inserted does not match the number of items replaced."
   ]
  },
  {
   "cell_type": "code",
   "execution_count": 46,
   "metadata": {},
   "outputs": [
    {
     "name": "stdout",
     "output_type": "stream",
     "text": [
      "['apple', 'watermelon']\n",
      "['apple', 'banana', 'cherry', 'watermelon']\n"
     ]
    }
   ],
   "source": [
    "# If you insert less items than you replace, the new items will be inserted where you specified, and the remaining items will move accordingly:\n",
    "\n",
    "# Change the second and third value by replacing it with one value:\n",
    "\n",
    "thislist = [\"apple\", \"banana\", \"cherry\"]\n",
    "thislist[1:3] = [\"watermelon\"]\n",
    "print(thislist)\n",
    "\n",
    "thislist = [\"apple\", \"banana\", \"cherry\"]\n",
    "thislist[3:4] = [\"watermelon\"] # insert at the final\n",
    "print(thislist)\n",
    "\n"
   ]
  },
  {
   "cell_type": "code",
   "execution_count": 52,
   "metadata": {},
   "outputs": [
    {
     "name": "stdout",
     "output_type": "stream",
     "text": [
      "['apple', 'banana', 'cherry', 'watermelon']\n"
     ]
    }
   ],
   "source": [
    "\"\"\"\n",
    "Insert Items\n",
    "To insert a new list item, without replacing any of the existing values, we can use the insert() method.\n",
    "\n",
    "The insert() method inserts an item at the specified index:\n",
    "\n",
    "\"\"\"\n",
    "\n",
    "thislist = [\"apple\", \"banana\", \"cherry\"]\n",
    "thislist.insert(2, \"watermelon\") # insert in the index position and move the rest of the item of the list.\n",
    "print(thislist)\n",
    "# Note: As a result of the example above, the list will now contain 4 items.\n",
    "\n"
   ]
  },
  {
   "cell_type": "code",
   "execution_count": 54,
   "metadata": {},
   "outputs": [
    {
     "name": "stdout",
     "output_type": "stream",
     "text": [
      "['apple', 'banana', 'cherry', 'orange']\n",
      "['apple', 'banana', 'cherry', 'orange']\n",
      "['apple', 'banana', 'cherry', 'orange']\n"
     ]
    }
   ],
   "source": [
    "\"\"\"\n",
    "Python - Add List Items\n",
    "\n",
    "Append Items\n",
    "To add an item to the end of the list, use the append() method:\n",
    "\n",
    "\"\"\"\n",
    "\n",
    "# Example: Using the append() method to append an item:\n",
    "\n",
    "thislist = [\"apple\", \"banana\", \"cherry\"]\n",
    "thislist.append(\"orange\") # usar parentesis. con la funcion append agrego un valor al final de la lista.\n",
    "print(thislist)\n",
    "\n",
    "\n",
    "\n",
    "thislist3 = [\"apple\", \"banana\", \"cherry\"]\n",
    "thislist3[3:4]=[\"orange\"] # puedo agregar tambien un valor al final de la lista utilizando el index, dando la ubicacion final de la lista. en este caso 3:4.  \n",
    "# Ojo que si doy una ubicacion dentro de un valor existente en la lista me genera reempplazo.\n",
    "print(thislist3)\n",
    "\n",
    "\n",
    "thislist4 = [\"apple\", \"banana\", \"cherry\"]\n",
    "thislist4.insert(3,\"orange\")  # Utilizando un insert, puedo agregar valores a la posicion que quiera. Si agrego a una posicion existente en la lista, me desplaza el resto de valors. NO REEMPLEZA.\n",
    "# ojo que la funcion va SIN igual.(=)\n",
    "print(thislist4)\n",
    "\n",
    "# Se compara el Append, con las otras dos maneras en que puedo agregar un valor al final de una lista. \n",
    "# 1) Usando append. 2) Usando una posicion en el index 3), usando un funcion insert. Cada uno tiene la particularidad en la sintaxis. OJO my dog\n"
   ]
  },
  {
   "cell_type": "code",
   "execution_count": 7,
   "metadata": {},
   "outputs": [
    {
     "name": "stdout",
     "output_type": "stream",
     "text": [
      "['apple', 'banana', 'cherry', 'o', 'r', 'a', 'n', 'g', 'e']\n"
     ]
    }
   ],
   "source": [
    "# CASO ESPECIAL.\n",
    "\n",
    "thislist2 = [\"apple\", \"banana\", \"cherry\"]\n",
    "thislist2[3:4]=(\"orange\")    # Si agrego un valor y lo coloco entre parentesis, este lo descompone en cada caracter y cada uno es agregado como elemento de la lista. CASO ESPECIAL; PRODUCtO DE UN ERROR:\n",
    "print(thislist2) # si doy una posicion de un valor existente, me genera reemplazo."
   ]
  },
  {
   "cell_type": "code",
   "execution_count": 63,
   "metadata": {},
   "outputs": [
    {
     "name": "stdout",
     "output_type": "stream",
     "text": [
      "['apple', 'banana', 'cherry', 'mango', 'pineapple', 'papaya']\n",
      "['apple', 'banana', 'cherry', 'mango', 'pineapple', 'papaya', 'perro', 'gato']\n"
     ]
    }
   ],
   "source": [
    "\"\"\"\n",
    "\n",
    "Extend List\n",
    "To append elements from another list to the current list, use the extend() method.\n",
    "\n",
    "Example\n",
    "Add the elements of tropical to thislist:\n",
    "\n",
    "\"\"\"\n",
    "\n",
    "thislist = [\"apple\", \"banana\", \"cherry\"]\n",
    "tropical = [\"mango\", \"pineapple\", \"papaya\"]\n",
    "thislist.extend(tropical)\n",
    "print(thislist)\n",
    "\n",
    "\n",
    "thislist = [\"apple\", \"banana\", \"cherry\"]\n",
    "tropical = [\"mango\", \"pineapple\", \"papaya\"]\n",
    "mimiana = [\"perro\",\"gato\"] # en caso de que quiera agregar mas de una lista, uuelvo a utilizar el metodo extend.\n",
    "thislist.extend(tropical)\n",
    "thislist.extend(mimiana)\n",
    "print(thislist)\n"
   ]
  },
  {
   "cell_type": "code",
   "execution_count": 64,
   "metadata": {},
   "outputs": [
    {
     "name": "stdout",
     "output_type": "stream",
     "text": [
      "['apple', 'banana', 'cherry', 'kiwi', 'orange']\n"
     ]
    }
   ],
   "source": [
    "# Add Any Iterable\n",
    "# The extend() method does not have to append lists, you can add any iterable object (tuples, sets, dictionaries etc.).\n",
    "\n",
    "thislist = [\"apple\", \"banana\", \"cherry\"]\n",
    "thistuple = (\"kiwi\", \"orange\")\n",
    "thislist.extend(thistuple)\n",
    "print(thislist)"
   ]
  },
  {
   "cell_type": "code",
   "execution_count": 73,
   "metadata": {},
   "outputs": [
    {
     "name": "stdout",
     "output_type": "stream",
     "text": [
      "['apple', 'cherry']\n"
     ]
    }
   ],
   "source": [
    "\"\"\"\n",
    "Remove Specified Item\n",
    "The remove() method removes the specified item.\n",
    "\"\"\"\n",
    "thislist = [\"apple\", \"banana\", \"cherry\"]\n",
    "thislist.remove(\"banana\")\n",
    "print(thislist)\n"
   ]
  },
  {
   "cell_type": "code",
   "execution_count": 3,
   "metadata": {},
   "outputs": [
    {
     "name": "stdout",
     "output_type": "stream",
     "text": [
      "['apple', 'cherry']\n",
      "['apple', 'banana']\n"
     ]
    }
   ],
   "source": [
    "\"\"\"\n",
    "Remove Specified Index\n",
    "The pop() method removes the specified index.\n",
    "\n",
    "\"\"\"\n",
    "\n",
    "thislist = [\"apple\", \"banana\", \"cherry\"]\n",
    "thislist.pop(1)  \n",
    "print(thislist)\n",
    "\n",
    "# If you do not specify the index, the pop() method removes the last item.\n",
    "\n",
    "thislist = [\"apple\", \"banana\", \"cherry\"]\n",
    "thislist.pop()\n",
    "print(thislist)\n",
    "\n"
   ]
  },
  {
   "cell_type": "code",
   "execution_count": 75,
   "metadata": {},
   "outputs": [
    {
     "name": "stdout",
     "output_type": "stream",
     "text": [
      "['banana', 'cherry']\n"
     ]
    }
   ],
   "source": [
    "# The del keyword also removes the specified index:\n",
    "# Remove the first item:\n",
    "\n",
    "thislist = [\"apple\", \"banana\", \"cherry\"]\n",
    "del thislist[0]\n",
    "print(thislist)\n",
    "\n",
    "\n"
   ]
  },
  {
   "cell_type": "code",
   "execution_count": 69,
   "metadata": {},
   "outputs": [],
   "source": [
    "# The del keyword can also delete the list completely.\n",
    "\n",
    "# Delete the entire list:\n",
    "\n",
    "thislist = [\"apple\", \"banana\", \"cherry\"]\n",
    "del thislist"
   ]
  },
  {
   "cell_type": "code",
   "execution_count": 5,
   "metadata": {},
   "outputs": [
    {
     "ename": "TypeError",
     "evalue": "list.clear() takes no arguments (1 given)",
     "output_type": "error",
     "traceback": [
      "\u001b[0;31m---------------------------------------------------------------------------\u001b[0m",
      "\u001b[0;31mTypeError\u001b[0m                                 Traceback (most recent call last)",
      "Cell \u001b[0;32mIn [5], line 12\u001b[0m\n\u001b[1;32m      9\u001b[0m \u001b[39m# Example : Clear the list content:\u001b[39;00m\n\u001b[1;32m     11\u001b[0m thislist \u001b[39m=\u001b[39m [\u001b[39m\"\u001b[39m\u001b[39mapple\u001b[39m\u001b[39m\"\u001b[39m, \u001b[39m\"\u001b[39m\u001b[39mbanana\u001b[39m\u001b[39m\"\u001b[39m, \u001b[39m\"\u001b[39m\u001b[39mcherry\u001b[39m\u001b[39m\"\u001b[39m]\n\u001b[0;32m---> 12\u001b[0m thislist\u001b[39m.\u001b[39;49mclear(\u001b[39m0\u001b[39;49m)\n\u001b[1;32m     13\u001b[0m \u001b[39mprint\u001b[39m(thislist)\n\u001b[1;32m     15\u001b[0m thislist\u001b[39m.\u001b[39minsert(\u001b[39m1\u001b[39m,\u001b[39m\"\u001b[39m\u001b[39mmimiana\u001b[39m\u001b[39m\"\u001b[39m)  \u001b[39m# in this case, add one argument, after to clear t list.\u001b[39;00m\n",
      "\u001b[0;31mTypeError\u001b[0m: list.clear() takes no arguments (1 given)"
     ]
    }
   ],
   "source": [
    "\"\"\"\n",
    "Clear the List\n",
    "The clear() method empties the list.\n",
    "\n",
    "The list still remains, but it has no content.\n",
    "\n",
    "\"\"\"\n",
    "\n",
    "# Example : Clear the list content:\n",
    "\n",
    "thislist = [\"apple\", \"banana\", \"cherry\"]\n",
    "thislist.clear()\n",
    "print(thislist)\n",
    "\n",
    "thislist.insert(1,\"mimiana\")  # in this case, add one argument, after to clear t list.\n",
    "print(thislist)\n",
    "\n",
    "\n"
   ]
  }
 ],
 "metadata": {
  "kernelspec": {
   "display_name": "Python 3.11.0 64-bit",
   "language": "python",
   "name": "python3"
  },
  "language_info": {
   "codemirror_mode": {
    "name": "ipython",
    "version": 3
   },
   "file_extension": ".py",
   "mimetype": "text/x-python",
   "name": "python",
   "nbconvert_exporter": "python",
   "pygments_lexer": "ipython3",
   "version": "3.11.0"
  },
  "orig_nbformat": 4,
  "vscode": {
   "interpreter": {
    "hash": "aee8b7b246df8f9039afb4144a1f6fd8d2ca17a180786b69acc140d282b71a49"
   }
  }
 },
 "nbformat": 4,
 "nbformat_minor": 2
}
