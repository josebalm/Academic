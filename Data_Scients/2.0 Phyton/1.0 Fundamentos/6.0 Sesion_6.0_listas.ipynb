{
 "cells": [
  {
   "cell_type": "code",
   "execution_count": 1,
   "metadata": {},
   "outputs": [
    {
     "name": "stdout",
     "output_type": "stream",
     "text": [
      "['apple', 'banana', 'cherry']\n"
     ]
    }
   ],
   "source": [
    "# . Python Lists\n",
    "\n",
    "mylist = [\"apple\", \"banana\", \"cherry\"]\n",
    "\n",
    "\"\"\"\n",
    "List\n",
    "Lists are used to store multiple items in a single variable.\n",
    "\n",
    "Lists are one of 4 built-in data types in Python used to store collections of data, the other 3 are Tuple, Set, and Dictionary, all with different qualities and usage.\n",
    "\n",
    "Lists are created using square brackets:\n",
    "\n",
    "Example:\n",
    "\n",
    "\"\"\"\n",
    "\n",
    "thislist = [\"apple\", \"banana\", \"cherry\"]\n",
    "print(thislist)\n"
   ]
  },
  {
   "cell_type": "code",
   "execution_count": 2,
   "metadata": {},
   "outputs": [
    {
     "name": "stdout",
     "output_type": "stream",
     "text": [
      "['apple', 'banana', 'cherry', 'apple', 'cherry']\n"
     ]
    }
   ],
   "source": [
    "\"\"\"\n",
    "List items are ordered, changeable, and allow duplicate values.\n",
    "\n",
    "List items are indexed, the first item has index [0], the second item has index [1] etc.\n",
    "\n",
    "\n",
    "Ordered\n",
    "When we say that lists are ordered, it means that the items have a defined order, and that order will not change.\n",
    "\n",
    "If you add new items to a list, the new items will be placed at the end of the list.\n",
    "\n",
    "Note: There are some list methods that will change the order, but in general: the order of the items will not change.\n",
    "\n",
    "Changeable\n",
    "\n",
    "The list is changeable, meaning that we can change, add, and remove items in a list after it has been created\n",
    "\n",
    "Allow Duplicates\n",
    "\n",
    "Since lists are indexed, lists can have items with the same value:\n",
    "\n",
    "\n",
    "\"\"\"\n",
    "\n",
    "thislist = [\"apple\", \"banana\", \"cherry\", \"apple\", \"cherry\"]\n",
    "print(thislist)\n",
    "\n",
    "\n"
   ]
  },
  {
   "cell_type": "code",
   "execution_count": 6,
   "metadata": {},
   "outputs": [
    {
     "name": "stdout",
     "output_type": "stream",
     "text": [
      "3\n",
      "['apple', 'banana', 'cherry'] [1, 5, 7, 9, 3] [True, False, False]\n",
      "['abc', 34, True, 40, 'male']\n"
     ]
    }
   ],
   "source": [
    "\"\"\"\n",
    "List Length\n",
    "To determine how many items a list has, use the len() function:\n",
    "\n",
    "Example\n",
    "Print the number of items in the list:\n",
    "\n",
    "\"\"\"\n",
    "\n",
    "thislist = [\"apple\", \"banana\", \"cherry\"]\n",
    "print(len(thislist))\n",
    "\n",
    "\"\"\"\n",
    "List Items - Data Types\n",
    "List items can be of any data type:\n",
    "\n",
    "Example\n",
    "String, int and boolean data types:\n",
    "\n",
    "\"\"\"\n",
    "\n",
    "list1 = [\"apple\", \"banana\", \"cherry\"]\n",
    "list2 = [1, 5, 7, 9, 3]\n",
    "list3 = [True, False, False]\n",
    "\n",
    "print(list1,list2,list3)\n",
    "\n",
    "\n",
    "# A list can contain different data types:\n",
    "# Example\n",
    "# A list with strings, integers and boolean values:\n",
    "\n",
    "list1 = [\"abc\", 34, True, 40, \"male\"]\n",
    "print(list1)\n",
    "\n",
    "\n"
   ]
  },
  {
   "cell_type": "code",
   "execution_count": 7,
   "metadata": {},
   "outputs": [
    {
     "name": "stdout",
     "output_type": "stream",
     "text": [
      "<class 'list'>\n"
     ]
    }
   ],
   "source": [
    "\"\"\"\n",
    "type()\n",
    "From Python's perspective, lists are defined as objects with the data type 'list':\n",
    "\n",
    "<class 'list'>\n",
    "\n",
    "\"\"\"\n",
    "\n",
    "mylist = [\"apple\", \"banana\", \"cherry\"]\n",
    "print(type(mylist))"
   ]
  },
  {
   "cell_type": "code",
   "execution_count": 3,
   "metadata": {},
   "outputs": [
    {
     "name": "stdout",
     "output_type": "stream",
     "text": [
      "['apple', 'banana', 'cherry']\n"
     ]
    }
   ],
   "source": [
    "\"\"\"\n",
    "The list() Constructor\n",
    "It is also possible to use the list() constructor when creating a new list.\n",
    "\n",
    "Example\n",
    "\n",
    "Using the list() constructor to make a List:\n",
    "\n",
    "\"\"\"\n",
    "thislist = list((\"apple\", \"banana\", \"cherry\")) # note the double round-brackets\n",
    "print(thislist)\n"
   ]
  },
  {
   "cell_type": "code",
   "execution_count": null,
   "metadata": {},
   "outputs": [],
   "source": [
    "\"\"\"\n",
    "Python Collections (Arrays)\n",
    "There are four collection data types in the Python programming language:\n",
    "\n",
    "List is a collection which is ordered and changeable. Allows duplicate members.\n",
    "Tuple is a collection which is ordered and unchangeable. Allows duplicate members.\n",
    "Set is a collection which is unordered, unchangeable*, and unindexed. No duplicate members.\n",
    "Dictionary is a collection which is ordered** and changeable. No duplicate members.\n",
    "\n",
    "\n",
    "                    |types      | ordered | Unordered | changeable | unchangeable | Allow Dupliactes | no allow Duplicates |\n",
    "                    |---------- | --------| --------- | ---------- | -------------| -----------------| --------------------|\n",
    "                    | list      |    X    | --------- |     X      | ------------ |         X        | --------------------| \n",
    "                    | Tuple     |    X    | --------- | ---------- |       X      |         X        | --------------------|\n",
    "                    | Set       | --------|     X     | ---------- |       X      | -----------------|          x          |\n",
    "                    | Dictionary|    X    | --------- |     X      | ------------ | -----------------|          x          |\n",
    "\n",
    "*Set items are unchangeable, but you can remove and/or add items whenever you like.\n",
    "\n",
    "**As of Python version 3.7, dictionaries are ordered. In Python 3.6 and earlier, dictionaries are unordered.\n",
    "sss\n",
    "When choosing a collection type, it is useful to understand the properties of that type. Choosing the right type for a particular data set could mean retention of meaning, \n",
    "and, it could mean an increase in efficiency or security.\n",
    "\n",
    "\"\"\""
   ]
  }
 ],
 "metadata": {
  "kernelspec": {
   "display_name": "Python 3.11.0 64-bit",
   "language": "python",
   "name": "python3"
  },
  "language_info": {
   "codemirror_mode": {
    "name": "ipython",
    "version": 3
   },
   "file_extension": ".py",
   "mimetype": "text/x-python",
   "name": "python",
   "nbconvert_exporter": "python",
   "pygments_lexer": "ipython3",
   "version": "3.11.0"
  },
  "orig_nbformat": 4,
  "vscode": {
   "interpreter": {
    "hash": "aee8b7b246df8f9039afb4144a1f6fd8d2ca17a180786b69acc140d282b71a49"
   }
  }
 },
 "nbformat": 4,
 "nbformat_minor": 2
}
