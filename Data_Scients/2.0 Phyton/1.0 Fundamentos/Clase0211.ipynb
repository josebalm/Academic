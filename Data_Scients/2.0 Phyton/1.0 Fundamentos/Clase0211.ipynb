{
 "cells": [
  {
   "cell_type": "code",
   "execution_count": 9,
   "metadata": {},
   "outputs": [
    {
     "ename": "ModuleNotFoundError",
     "evalue": "No module named 'numpy'",
     "output_type": "error",
     "traceback": [
      "\u001b[0;31m---------------------------------------------------------------------------\u001b[0m",
      "\u001b[0;31mModuleNotFoundError\u001b[0m                       Traceback (most recent call last)",
      "\u001b[1;32m/Users/joseballesteros/Documents/1.0_Developer/1.0_MIsion_TIC_2022/Ciclo 1/Clase0211.ipynb Cell 1\u001b[0m line \u001b[0;36m1\n\u001b[0;32m----> <a href='vscode-notebook-cell:/Users/joseballesteros/Documents/1.0_Developer/1.0_MIsion_TIC_2022/Ciclo%201/Clase0211.ipynb#W0sZmlsZQ%3D%3D?line=0'>1</a>\u001b[0m \u001b[39mimport\u001b[39;00m \u001b[39mnumpy\u001b[39;00m \u001b[39mas\u001b[39;00m \u001b[39mnp\u001b[39;00m\n\u001b[1;32m      <a href='vscode-notebook-cell:/Users/joseballesteros/Documents/1.0_Developer/1.0_MIsion_TIC_2022/Ciclo%201/Clase0211.ipynb#W0sZmlsZQ%3D%3D?line=2'>3</a>\u001b[0m f \u001b[39m=\u001b[39m \u001b[39mlambda\u001b[39;00m x : np\u001b[39m.\u001b[39msqrt(x)\u001b[39m*\u001b[39mnp\u001b[39m.\u001b[39msin(x)\n\u001b[1;32m      <a href='vscode-notebook-cell:/Users/joseballesteros/Documents/1.0_Developer/1.0_MIsion_TIC_2022/Ciclo%201/Clase0211.ipynb#W0sZmlsZQ%3D%3D?line=4'>5</a>\u001b[0m x_i \u001b[39m=\u001b[39m \u001b[39m2.5\u001b[39m\n",
      "\u001b[0;31mModuleNotFoundError\u001b[0m: No module named 'numpy'"
     ]
    }
   ],
   "source": [
    "import numpy as np\n",
    "\n",
    "f = lambda x : np.sqrt(x)*np.sin(x)\n",
    "\n",
    "x_i = 2.5\n",
    "h = 0.1\n",
    "\n",
    "x_d = x_i + h\n",
    "x_a = x_i - h\n",
    "\n",
    "f_prima = (f ( x = x_d ) - f (x = x_a) )/ (2*h)\n",
    "\n",
    "print(f_prima)"
   ]
  }
 ],
 "metadata": {
  "kernelspec": {
   "display_name": "Python 3",
   "language": "python",
   "name": "python3"
  },
  "language_info": {
   "codemirror_mode": {
    "name": "ipython",
    "version": 3
   },
   "file_extension": ".py",
   "mimetype": "text/x-python",
   "name": "python",
   "nbconvert_exporter": "python",
   "pygments_lexer": "ipython3",
   "version": "3.11.0"
  }
 },
 "nbformat": 4,
 "nbformat_minor": 2
}
