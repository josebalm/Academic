{
 "cells": [
  {
   "cell_type": "code",
   "execution_count": 2,
   "id": "cb8f1290",
   "metadata": {},
   "outputs": [
    {
     "data": {
      "text/plain": [
       "'\\nEnunciado: Se requiere determinar, suministrando un mes, cuantos dias tiene ese mes\\nObjetivo: Indicar la cantidadde dias del mes especificado\\n\\n\\nAnalisis:\\n\\n    Entradas: mes, numerico [1-12]\\n    Salidas: Mensaje indicando la cantidad de dias que tiene el mes\\n\\n\\n'"
      ]
     },
     "execution_count": 2,
     "metadata": {},
     "output_type": "execute_result"
    }
   ],
   "source": [
    "# Ejercicio\n",
    "\n",
    "\"\"\"\n",
    "Enunciado: Se requiere determinar, suministrando un mes, cuantos dias tiene ese mes\n",
    "Objetivo: Indicar la cantidadde dias del mes especificado\n",
    "\n",
    "\n",
    "Analisis:\n",
    "\n",
    "    Entradas: mes, numerico [1-12]\n",
    "    Salidas: Mensaje indicando la cantidad de dias que tiene el mes\n",
    "    Proceso: Ubicar el mes dentro de la tabla anexa y devolver el valor correspondiente a dias \n",
    "\n",
    "\n",
    "\"\"\"\n",
    "\n",
    "\" este ejecicio lo hicimos en Python, Visual Estiddio Code.\"\n"
   ]
  },
  {
   "cell_type": "code",
   "execution_count": null,
   "id": "e66a0687",
   "metadata": {},
   "outputs": [],
   "source": []
  }
 ],
 "metadata": {
  "kernelspec": {
   "display_name": "Python 3 (ipykernel)",
   "language": "python",
   "name": "python3"
  },
  "language_info": {
   "codemirror_mode": {
    "name": "ipython",
    "version": 3
   },
   "file_extension": ".py",
   "mimetype": "text/x-python",
   "name": "python",
   "nbconvert_exporter": "python",
   "pygments_lexer": "ipython3",
   "version": "3.9.12"
  }
 },
 "nbformat": 4,
 "nbformat_minor": 5
}
