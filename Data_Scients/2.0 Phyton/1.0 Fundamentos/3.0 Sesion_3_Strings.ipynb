{
 "cells": [
  {
   "cell_type": "code",
   "execution_count": 1,
   "id": "fd31fe3d",
   "metadata": {},
   "outputs": [
    {
     "name": "stdout",
     "output_type": "stream",
     "text": [
      "1 2 3\n",
      "6\n"
     ]
    }
   ],
   "source": [
    "# Python Casting\n",
    "\n",
    "\"\"\"\n",
    "Specify a Variable Type\n",
    "\n",
    "There may be times when you want to specify a type on to a variable. This can be done with casting. Python is an object-orientated language, and as such it uses classes to define data types, including its primitive types.\n",
    "\n",
    "Casting in python is therefore done using constructor functions:\n",
    "\n",
    "int() - constructs an integer number from an integer literal, a float literal (by removing all decimals), or a string literal (providing the string represents a whole number)\n",
    "float() - constructs a float number from an integer literal, a float literal or a string literal (providing the string represents a float or an integer)\n",
    "str() - constructs a string from a wide variety of data types, including strings, integer literals and float literals\n",
    "\n",
    "\n",
    "\n",
    "\"\"\"\n",
    "\n",
    "x = int(1)   # x will be 1\n",
    "y = int(2.8) # y will be 2\n",
    "z = int(\"3\") # z will be 3\n",
    "\n",
    "\n",
    "print(x,y,z)\n",
    "print(x+y+z)\n",
    "\n"
   ]
  },
  {
   "cell_type": "code",
   "execution_count": 4,
   "id": "81fec4c2",
   "metadata": {},
   "outputs": [
    {
     "name": "stdout",
     "output_type": "stream",
     "text": [
      "1.0 2.8 3.0 4.2\n",
      "11.0\n"
     ]
    }
   ],
   "source": [
    "x1 = float(1)     # x will be 1.0\n",
    "y1 = float(2.8)   # y will be 2.8\n",
    "z1 = float(\"3\")   # z will be 3.0\n",
    "w = float(\"4.2\")  # w will be 4.2\n",
    "\n",
    "print(x1,y1,z1,w)\n",
    "print(x1+y1+z1+w)\n",
    "\n"
   ]
  },
  {
   "cell_type": "code",
   "execution_count": 7,
   "id": "d86cad29",
   "metadata": {},
   "outputs": [
    {
     "name": "stdout",
     "output_type": "stream",
     "text": [
      "s1 2 3.0\n",
      "s1 23.0\n"
     ]
    }
   ],
   "source": [
    "x2 = str(\"s1\") # x will be 's1'\n",
    "y2 = str(2)    # y will be '2'\n",
    "z2 = str(3.0)  # z will be '3.0'\n",
    "\n",
    "print(x2,y2,z2)\n",
    "print(x2,y2+z2)\n",
    "\n",
    "\n"
   ]
  },
  {
   "cell_type": "code",
   "execution_count": 8,
   "id": "0b3fb3fe",
   "metadata": {},
   "outputs": [
    {
     "name": "stdout",
     "output_type": "stream",
     "text": [
      "Lorem ipsum dolor sit amet,\n",
      "consectetur adipiscing elit,\n",
      "sed do eiusmod tempor incididunt\n",
      "ut labore et dolore magna aliqua.\n"
     ]
    }
   ],
   "source": [
    "#string\n",
    "\n",
    "a = \"\"\"Lorem ipsum dolor sit amet,\n",
    "consectetur adipiscing elit,\n",
    "sed do eiusmod tempor incididunt\n",
    "ut labore et dolore magna aliqua.\"\"\"\n",
    "print(a)"
   ]
  },
  {
   "cell_type": "code",
   "execution_count": 9,
   "id": "01fab922",
   "metadata": {},
   "outputs": [
    {
     "name": "stdout",
     "output_type": "stream",
     "text": [
      "Lorem ipsum dolor sit amet,\n",
      "consectetur adipiscing elit,\n",
      "sed do eiusmod tempor incididunt\n",
      "ut labore et dolore magna aliqua.\n"
     ]
    }
   ],
   "source": [
    "a = '''Lorem ipsum dolor sit amet,\n",
    "consectetur adipiscing elit,\n",
    "sed do eiusmod tempor incididunt\n",
    "ut labore et dolore magna aliqua.'''\n",
    "print(a)"
   ]
  },
  {
   "cell_type": "code",
   "execution_count": 14,
   "id": "d2891c63",
   "metadata": {},
   "outputs": [
    {
     "name": "stdout",
     "output_type": "stream",
     "text": [
      "H\n",
      "e\n",
      "l\n",
      "l\n",
      "o\n",
      ",\n",
      " \n",
      "W\n",
      "o\n",
      "r\n",
      "l\n",
      "d\n",
      "!\n"
     ]
    }
   ],
   "source": [
    "a = \"Hello, World!\"\n",
    "print(a[0])\n",
    "print(a[1])\n",
    "print(a[2])\n",
    "print(a[3])\n",
    "print(a[4])\n",
    "print(a[5])\n",
    "print(a[6])\n",
    "print(a[7])\n",
    "print(a[8])\n",
    "print(a[9])\n",
    "print(a[10])\n",
    "print(a[11])\n",
    "print(a[12])\n"
   ]
  },
  {
   "cell_type": "code",
   "execution_count": 18,
   "id": "00dcebb1",
   "metadata": {},
   "outputs": [
    {
     "name": "stdout",
     "output_type": "stream",
     "text": [
      "H\n",
      "e\n",
      "l\n",
      "l\n",
      "o\n",
      ",\n",
      " \n",
      "W\n",
      "o\n",
      "r\n",
      "l\n",
      "d\n",
      "!\n"
     ]
    }
   ],
   "source": [
    "a = \"Hello, World!\"\n",
    "b = len(a)\n",
    "for i in range(b):\n",
    "    print(a[i])\n",
    "\n"
   ]
  },
  {
   "cell_type": "code",
   "execution_count": 19,
   "id": "bd4a326e",
   "metadata": {},
   "outputs": [
    {
     "name": "stdout",
     "output_type": "stream",
     "text": [
      "b\n",
      "a\n",
      "n\n",
      "a\n",
      "n\n",
      "a\n"
     ]
    }
   ],
   "source": [
    "# Looping Through a String\n",
    "# Since strings are arrays, we can loop through the characters in a string, with a for loop.\n",
    "\n",
    "for x in \"banana\":\n",
    "  print(x)\n",
    "\n",
    "\n"
   ]
  },
  {
   "cell_type": "code",
   "execution_count": 20,
   "id": "5bda6811",
   "metadata": {},
   "outputs": [
    {
     "name": "stdout",
     "output_type": "stream",
     "text": [
      "13\n"
     ]
    }
   ],
   "source": [
    "# String Length\n",
    "# To get the length of a string, use the len() function.\n",
    "\n",
    "a = \"Hello, World!\"\n",
    "print(len(a))"
   ]
  },
  {
   "cell_type": "code",
   "execution_count": 21,
   "id": "f7e46ff2",
   "metadata": {},
   "outputs": [
    {
     "name": "stdout",
     "output_type": "stream",
     "text": [
      "True\n"
     ]
    }
   ],
   "source": [
    "# Check String \n",
    "\n",
    "\"\"\"\n",
    "\n",
    "To check if a certain phrase or character is present in a string, \n",
    "we can use the keyword in.\n",
    "\n",
    "\"\"\"\n",
    "txt = \"The best things in life are free!\"\n",
    "print(\"free\" in txt)\n",
    "\n",
    "\n",
    "\n"
   ]
  },
  {
   "cell_type": "code",
   "execution_count": 22,
   "id": "05a48486",
   "metadata": {},
   "outputs": [
    {
     "name": "stdout",
     "output_type": "stream",
     "text": [
      "Yes, 'free' is present.\n"
     ]
    }
   ],
   "source": [
    "# Use it in an if statement:\n",
    "\n",
    "# Print only if \"free\" is present:\n",
    "\n",
    "txt = \"The best things in life are free!\"\n",
    "if \"free\" in txt:\n",
    "  print(\"Yes, 'free' is present.\")"
   ]
  },
  {
   "cell_type": "code",
   "execution_count": 23,
   "id": "59d246f5",
   "metadata": {},
   "outputs": [
    {
     "name": "stdout",
     "output_type": "stream",
     "text": [
      "True\n"
     ]
    }
   ],
   "source": [
    "# Check if \"expensive\" is NOT present in the following text:\n",
    "\n",
    "txt = \"The best things in life are free!\"\n",
    "print(\"expensive\" not in txt)\n"
   ]
  },
  {
   "cell_type": "code",
   "execution_count": 3,
   "id": "c9e47bac",
   "metadata": {},
   "outputs": [
    {
     "name": "stdout",
     "output_type": "stream",
     "text": [
      "No, 'expensive'\\ is NOT present.\n"
     ]
    }
   ],
   "source": [
    "# print only if \"expensive\" is NOT present:\n",
    "\n",
    "txt = \"The best things in life are free!\"\n",
    "if \"expensive\" not in txt:\n",
    "  print(\"No, 'expensive' is NOT present.\")"
   ]
  },
  {
   "cell_type": "code",
   "execution_count": 25,
   "id": "2a553a71",
   "metadata": {},
   "outputs": [
    {
     "name": "stdout",
     "output_type": "stream",
     "text": [
      "llo\n"
     ]
    }
   ],
   "source": [
    "# SLICING\n",
    "\n",
    "\"\"\"\n",
    "You can return a range of characters by using the slice syntax.\n",
    "\n",
    "Specify the start index and the end index, separated by a colon, \n",
    "to return a part of the string.\n",
    "\n",
    "\"\"\"\n",
    "\n",
    "# Get the characters from position 2 to position 5 (not included):\n",
    "\n",
    "b = \"Hello, World!\"\n",
    "print(b[2:5])\n",
    "\n",
    "# The first character has index 0."
   ]
  },
  {
   "cell_type": "code",
   "execution_count": 26,
   "id": "23478462",
   "metadata": {},
   "outputs": [
    {
     "name": "stdout",
     "output_type": "stream",
     "text": [
      "Hello\n"
     ]
    }
   ],
   "source": [
    "# Slice From the Start\n",
    "# By leaving out the start index, the range will start at the first character:\n",
    "\n",
    "b = \"Hello, World!\"\n",
    "print(b[:5])"
   ]
  },
  {
   "cell_type": "code",
   "execution_count": 27,
   "id": "c23e8841",
   "metadata": {},
   "outputs": [
    {
     "name": "stdout",
     "output_type": "stream",
     "text": [
      "llo, World!\n"
     ]
    }
   ],
   "source": [
    "# Slice To the End\n",
    "# By leaving out the end index, the range will go to the end:\n",
    "\n",
    "b = \"Hello, World!\"\n",
    "print(b[2:])\n"
   ]
  },
  {
   "cell_type": "code",
   "execution_count": 28,
   "id": "628bbc56",
   "metadata": {},
   "outputs": [
    {
     "name": "stdout",
     "output_type": "stream",
     "text": [
      "orl\n"
     ]
    }
   ],
   "source": [
    "# Negative Indexing\n",
    "# Use negative indexes to start the slice from the end of the string:\n",
    "\n",
    "# From: \"o\" in \"World!\" (position -5)\n",
    "# To, but not included: \"d\" in \"World!\" (position -2):\n",
    "\n",
    "\n",
    "b = \"Hello, World!\"\n",
    "print(b[-5:-2])"
   ]
  },
  {
   "cell_type": "code",
   "execution_count": 29,
   "id": "74ccac18",
   "metadata": {},
   "outputs": [
    {
     "name": "stdout",
     "output_type": "stream",
     "text": [
      "HELLO WORLD!\n"
     ]
    }
   ],
   "source": [
    "#UPERCASE\n",
    "\n",
    "# The upper() method return the string in upper case:\n",
    "\n",
    "a = \"hello world!\"\n",
    "print(a.upper())\n"
   ]
  },
  {
   "cell_type": "code",
   "execution_count": 30,
   "id": "8be8415d",
   "metadata": {},
   "outputs": [
    {
     "name": "stdout",
     "output_type": "stream",
     "text": [
      "hello world!\n"
     ]
    }
   ],
   "source": [
    "# LOWER CASE\n",
    "# The lowe() method return the string in lower case:\n",
    "\n",
    "a = \"HELLO WORLD!\"\n",
    "print(a.lower())\n",
    "\n",
    "\n"
   ]
  },
  {
   "cell_type": "code",
   "execution_count": 34,
   "id": "f16ab7c5",
   "metadata": {},
   "outputs": [
    {
     "name": "stdout",
     "output_type": "stream",
     "text": [
      "Hello, world!\n"
     ]
    }
   ],
   "source": [
    "# Remove Whitespace\n",
    "# Whitespace is the space befre and/or after the actual text, \n",
    "# and very often you want to remove this space\n",
    "\n",
    "# The Strip() method removes any whitespace from the beginning or the end:\n",
    "a = \"    Hello, world!     \"\n",
    "print(a.strip())# return \"hello, world\".\n",
    "\n"
   ]
  },
  {
   "cell_type": "code",
   "execution_count": 35,
   "id": "1d0bf90b",
   "metadata": {},
   "outputs": [
    {
     "name": "stdout",
     "output_type": "stream",
     "text": [
      "jello, world\n"
     ]
    }
   ],
   "source": [
    "# Replace String\n",
    "# The replace() method replaces a string with another string:\n",
    "\n",
    "a = \"hello, world\"\n",
    "print(a.replace(\"h\",\"j\"))\n",
    "\n",
    "\n",
    "\n",
    "\n"
   ]
  },
  {
   "cell_type": "code",
   "execution_count": 37,
   "id": "5f244524",
   "metadata": {},
   "outputs": [
    {
     "name": "stdout",
     "output_type": "stream",
     "text": [
      "['hello', ' world!']\n"
     ]
    }
   ],
   "source": [
    "# Split String\n",
    "\n",
    "# the split() method returns a list where the text between the specified separator becomes the list items. \n",
    "\n",
    "a = \"hello, world!\"\n",
    "print(a.split(\",\")) # returns [\"Hello\",\"world\"]\n",
    "\n",
    "\n"
   ]
  },
  {
   "cell_type": "code",
   "execution_count": 40,
   "id": "a3903d46",
   "metadata": {},
   "outputs": [
    {
     "name": "stdout",
     "output_type": "stream",
     "text": [
      "hello world\n"
     ]
    }
   ],
   "source": [
    "# String Concatenation\n",
    "# to concatenate, or combine, two string you can use the + operator.\n",
    "\n",
    "#Example variable awith variable b into variable c:\n",
    "\n",
    "a = \"hello \"\n",
    "b = \"world\"\n",
    "c = a + b\n",
    "print(c)\n"
   ]
  },
  {
   "cell_type": "code",
   "execution_count": 41,
   "id": "66cda6c5",
   "metadata": {},
   "outputs": [
    {
     "name": "stdout",
     "output_type": "stream",
     "text": [
      "Hello world\n"
     ]
    }
   ],
   "source": [
    "# To add a space betwen them, adda \" \":\n",
    "a = \"Hello\"\n",
    "b = \"world\"\n",
    "c = a + \" \" + b\n",
    "print(c)"
   ]
  },
  {
   "cell_type": "code",
   "execution_count": 42,
   "id": "38ae93f1",
   "metadata": {},
   "outputs": [
    {
     "ename": "TypeError",
     "evalue": "can only concatenate str (not \"int\") to str",
     "output_type": "error",
     "traceback": [
      "\u001b[0;31m---------------------------------------------------------------------------\u001b[0m",
      "\u001b[0;31mTypeError\u001b[0m                                 Traceback (most recent call last)",
      "Input \u001b[0;32mIn [42]\u001b[0m, in \u001b[0;36m<cell line: 8>\u001b[0;34m()\u001b[0m\n\u001b[1;32m      2\u001b[0m \u001b[38;5;124;03m\"\"\"\u001b[39;00m\n\u001b[1;32m      3\u001b[0m \u001b[38;5;124;03mAs we learne in the python variables chaper, we cannot comine strings and\u001b[39;00m\n\u001b[1;32m      4\u001b[0m \u001b[38;5;124;03mnumbers like this:\u001b[39;00m\n\u001b[1;32m      5\u001b[0m \n\u001b[1;32m      6\u001b[0m \u001b[38;5;124;03m\"\"\"\u001b[39;00m\n\u001b[1;32m      7\u001b[0m age \u001b[38;5;241m=\u001b[39m \u001b[38;5;241m36\u001b[39m\n\u001b[0;32m----> 8\u001b[0m txt \u001b[38;5;241m=\u001b[39m \u001b[38;5;124;43m\"\u001b[39;49m\u001b[38;5;124;43mMy name is John, I am \u001b[39;49m\u001b[38;5;124;43m\"\u001b[39;49m\u001b[43m \u001b[49m\u001b[38;5;241;43m+\u001b[39;49m\u001b[43m \u001b[49m\u001b[43mage\u001b[49m\n\u001b[1;32m      9\u001b[0m \u001b[38;5;28mprint\u001b[39m(txt)\n",
      "\u001b[0;31mTypeError\u001b[0m: can only concatenate str (not \"int\") to str"
     ]
    }
   ],
   "source": [
    "# String Format\n",
    "\"\"\"\n",
    "As we learne in the python variables chaper, we cannot comine strings and\n",
    "numbers like this:\n",
    "\n",
    "\"\"\"\n",
    "age = 36\n",
    "txt = \"My name is John, I am \" + age\n",
    "print(txt)\n",
    "\n",
    "# error\n"
   ]
  },
  {
   "cell_type": "code",
   "execution_count": 47,
   "id": "c650a444",
   "metadata": {},
   "outputs": [
    {
     "name": "stdout",
     "output_type": "stream",
     "text": [
      "My name is Jhon, and I am 36\n"
     ]
    }
   ],
   "source": [
    "# solution\n",
    "\n",
    "# But we combine strings and numbers by using the format() method!\n",
    "\n",
    "# The format() method taks the passed aguments, formats them, ad places them in\n",
    "# the strinf where the placeholders {} are :\n",
    "\n",
    "# Example : use the format() method to insert numbers into strings:\n",
    "\n",
    "age = 36\n",
    "txt = \"My name is Jhon, and I am {}\"\n",
    "print(txt.format(age))\n",
    "\n",
    "\n",
    "\n"
   ]
  },
  {
   "cell_type": "code",
   "execution_count": 52,
   "id": "8b03e06a",
   "metadata": {},
   "outputs": [
    {
     "name": "stdout",
     "output_type": "stream",
     "text": [
      "tell me quantity : 100\n",
      "tell me itemno : 89739687935876\n",
      " I want 100 pieces of item 89739687935876 for 49.95 dollars.\n"
     ]
    }
   ],
   "source": [
    "# The format() method takes unlimited number of arguments, and are placed\n",
    "# into the respective placeholders:\n",
    "\n",
    "# Example\n",
    "\n",
    "\n",
    "quantity = int(input(\"tell me quantity : \"))\n",
    "itemno = int(input(\"tell me itemno : \"))\n",
    "price = 49.95\n",
    "myorder =\" I want {} pieces of item {} for {} dollars.\"\n",
    "print(myorder.format(quantity, itemno, price))\n",
    "\n",
    "\n"
   ]
  },
  {
   "cell_type": "code",
   "execution_count": 54,
   "id": "c175e179",
   "metadata": {},
   "outputs": [
    {
     "name": "stdout",
     "output_type": "stream",
     "text": [
      "I want to pay 567 dollars for 49.95 pieces of item 3.\n"
     ]
    }
   ],
   "source": [
    "# you can use index numbers {0} to be sure the arguments are placed in the correct\n",
    "# placeholders\n",
    "\n",
    "quantity = 3 # 0\n",
    "itemno = 567 # 1\n",
    "price = 49.95 # 2 \n",
    "myorder = \"I want to pay {1} dollars for {2} pieces of item {0}.\" \n",
    "print(myorder.format(quantity, itemno, price))\n",
    "\n",
    "\n"
   ]
  },
  {
   "cell_type": "code",
   "execution_count": 59,
   "id": "98732c99",
   "metadata": {},
   "outputs": [
    {
     "name": "stdout",
     "output_type": "stream",
     "text": [
      "We are the so-called \"Vikings\" from the north.\n"
     ]
    }
   ],
   "source": [
    "# Python - Escapee Characters\n",
    "# escape Character\n",
    "\n",
    "\"\"\"\n",
    "\n",
    "To insert characters that are illegal in a string, use an escape character.\n",
    "\n",
    "An escape character is a backslash \\ followed by the character you want to insert.\n",
    "\n",
    "An example of an illegal character is a double quote inside a string that is surrounded by double quotes:\n",
    "\n",
    "\n",
    "\"\"\"\n",
    "\n",
    "# example with the problem :\n",
    "\n",
    "# txt = \"We are the so-called \"Vikings\" from the north.\"  # wrong.\n",
    "\n",
    "# solution : To fix this problem, use the escape character \\\":\n",
    "\n",
    "txt = \"We are the so-called \\\"Vikings\\\" from the north.\"\n",
    "print(txt)\n",
    "\n",
    "\n",
    "\n",
    "\n",
    "\n"
   ]
  },
  {
   "cell_type": "code",
   "execution_count": 78,
   "id": "18bc36c8",
   "metadata": {},
   "outputs": [
    {
     "name": "stdout",
     "output_type": "stream",
     "text": [
      "It's alright.\n",
      "This will insert one \\ (backslash).\n",
      "Hello\n",
      "World!\n",
      "Hello\r\n",
      "Animal!\n",
      "Hello\tWorld!\n",
      "Hello \bWorld!\n",
      "Hello\n",
      "Hello\n"
     ]
    }
   ],
   "source": [
    "# Escape Caracters\n",
    "\n",
    "\n",
    "# Code\tResult\t\n",
    "# \\'\t    Single Quote\t\n",
    "# \\\\\t    Backslash\t\n",
    "# \\n\t    New Line\t\n",
    "# \\r\t    Carriage Return\t\n",
    "# \\t\t    Tab\t\n",
    "# \\b\t    Backspace\t\n",
    "# \\f\t    Form Feed\t\n",
    "# \\ooo\tOctal value\t\n",
    "# \\xhh\tHex value\n",
    "\n",
    "\n",
    "# Examples :\n",
    "\n",
    "txt1 = 'It\\'s alright.'\n",
    "print(txt1) \n",
    "\n",
    "txt2 = \"This will insert one \\\\ (backslash).\"\n",
    "print(txt2) \n",
    "\n",
    "txt3 = \"Hello\\nWorld!\"\n",
    "print(txt3) \n",
    "\n",
    "txt4 = \"Hello\\rAnimal!\"\n",
    "print(txt4) \n",
    "\n",
    "txt5 = \"Hello\\tWorld!\"\n",
    "print(txt5) \n",
    "\n",
    "#This example erases one character (backspace):\n",
    "txt6 = \"Hello \\bWorld!\"\n",
    "print(txt6) \n",
    "\n",
    "#A backslash followed by three integers will result in a octal value:\n",
    "txt7 = \"\\110\\145\\154\\154\\157\"\n",
    "print(txt7) \n",
    "\n",
    "#A backslash followed by an 'x' and a hex number represents a hex value:\n",
    "txt8 = \"\\x48\\x65\\x6c\\x6c\\x6f\"\n",
    "print(txt8) \n",
    "\n",
    "\n",
    "\n",
    "\n",
    "\n",
    "\n",
    "\n"
   ]
  },
  {
   "cell_type": "code",
   "execution_count": 82,
   "id": "2d3175d9",
   "metadata": {},
   "outputs": [
    {
     "name": "stdout",
     "output_type": "stream",
     "text": [
      "7\n"
     ]
    }
   ],
   "source": [
    "txt = \"joseeeeeelineitor\"\n",
    "print(txt.count(\"e\"))"
   ]
  },
  {
   "cell_type": "code",
   "execution_count": null,
   "id": "d86b9ec5",
   "metadata": {},
   "outputs": [],
   "source": []
  }
 ],
 "metadata": {
  "kernelspec": {
   "display_name": "Python 3 (ipykernel)",
   "language": "python",
   "name": "python3"
  },
  "language_info": {
   "codemirror_mode": {
    "name": "ipython",
    "version": 3
   },
   "file_extension": ".py",
   "mimetype": "text/x-python",
   "name": "python",
   "nbconvert_exporter": "python",
   "pygments_lexer": "ipython3",
   "version": "3.11.0"
  }
 },
 "nbformat": 4,
 "nbformat_minor": 5
}
